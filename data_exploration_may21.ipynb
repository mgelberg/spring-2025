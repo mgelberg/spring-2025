{
 "cells": [
  {
   "cell_type": "code",
   "execution_count": 1,
   "metadata": {},
   "outputs": [],
   "source": [
    "# Import necessary libraries\n",
    "import pandas as pd\n",
    "import matplotlib.pyplot as plt\n",
    "import seaborn as sns\n",
    "from typing import List, Dict, Optional\n",
    "import numpy as np\n",
    "\n",
    "# Import our data loader and analysis modules\n",
    "from parsed_data_loader import load_and_prepare_data, load_all_csvs\n",
    "from analysis_modules import (\n",
    "    analyze_peaks_by_city\n",
    "    ,analyze_song_adoption_overall\n",
    "    ,calculate_stickiness_metrics\n",
    "    ,calculate_song_to_artist_ratio\n",
    ")\n",
    "\n",
    "from plot_utils import (\n",
    "    plot_city_trends,\n",
    "    plot_streams_per_listener_trends,\n",
    "    plot_city_comparison,\n",
    "    calculate_streams_per_listener\n",
    ")\n",
    "\n",
    "# Set plot style\n",
    "plt.style.use('fivethirtyeight')\n",
    "sns.set_palette('husl')"
   ]
  },
  {
   "cell_type": "code",
   "execution_count": 2,
   "metadata": {},
   "outputs": [
    {
     "name": "stdout",
     "output_type": "stream",
     "text": [
      "✅ song_velocity_table.csv created with prepared data\n",
      "Data shape: (22859, 11)Columns: Index(['city', 'previous_period', 'current_period', '%_change', 'week', 'song',\n",
      "       'song_id', 'measure', 'level', 'period_type', 'grouping'],\n",
      "      dtype='object')\n"
     ]
    }
   ],
   "source": [
    "df=load_and_prepare_data()\n",
    "print(f\"Data shape: {df.shape}\"\n",
    "      f\"Columns: {df.columns}\")"
   ]
  },
  {
   "cell_type": "code",
   "execution_count": 3,
   "metadata": {},
   "outputs": [
    {
     "data": {
      "text/html": [
       "<div>\n",
       "<style scoped>\n",
       "    .dataframe tbody tr th:only-of-type {\n",
       "        vertical-align: middle;\n",
       "    }\n",
       "\n",
       "    .dataframe tbody tr th {\n",
       "        vertical-align: top;\n",
       "    }\n",
       "\n",
       "    .dataframe thead th {\n",
       "        text-align: right;\n",
       "    }\n",
       "</style>\n",
       "<table border=\"1\" class=\"dataframe\">\n",
       "  <thead>\n",
       "    <tr style=\"text-align: right;\">\n",
       "      <th></th>\n",
       "      <th>city</th>\n",
       "      <th>previous_period</th>\n",
       "      <th>current_period</th>\n",
       "      <th>%_change</th>\n",
       "      <th>week</th>\n",
       "      <th>song</th>\n",
       "      <th>song_id</th>\n",
       "      <th>measure</th>\n",
       "      <th>level</th>\n",
       "      <th>period_type</th>\n",
       "      <th>grouping</th>\n",
       "    </tr>\n",
       "  </thead>\n",
       "  <tbody>\n",
       "    <tr>\n",
       "      <th>0</th>\n",
       "      <td>All Cities</td>\n",
       "      <td>23</td>\n",
       "      <td>11</td>\n",
       "      <td>-52%</td>\n",
       "      <td>20240927</td>\n",
       "      <td>Artist Level</td>\n",
       "      <td>artist</td>\n",
       "      <td>listeners</td>\n",
       "      <td>artist</td>\n",
       "      <td>weekly</td>\n",
       "      <td>city</td>\n",
       "    </tr>\n",
       "    <tr>\n",
       "      <th>38</th>\n",
       "      <td>All Cities</td>\n",
       "      <td>7</td>\n",
       "      <td>2</td>\n",
       "      <td>-71%</td>\n",
       "      <td>20240201</td>\n",
       "      <td>The Way That It Was</td>\n",
       "      <td>1711474242</td>\n",
       "      <td>listeners</td>\n",
       "      <td>song</td>\n",
       "      <td>monthly</td>\n",
       "      <td>city</td>\n",
       "    </tr>\n",
       "    <tr>\n",
       "      <th>51</th>\n",
       "      <td>All Cities</td>\n",
       "      <td>1</td>\n",
       "      <td>1</td>\n",
       "      <td>0%</td>\n",
       "      <td>20240308</td>\n",
       "      <td>The Way That It Was</td>\n",
       "      <td>1711474242</td>\n",
       "      <td>listeners</td>\n",
       "      <td>song</td>\n",
       "      <td>weekly</td>\n",
       "      <td>city</td>\n",
       "    </tr>\n",
       "    <tr>\n",
       "      <th>55</th>\n",
       "      <td>All Cities</td>\n",
       "      <td>2</td>\n",
       "      <td>2</td>\n",
       "      <td>0%</td>\n",
       "      <td>20240913</td>\n",
       "      <td>Kid</td>\n",
       "      <td>1711474235</td>\n",
       "      <td>listeners</td>\n",
       "      <td>song</td>\n",
       "      <td>weekly</td>\n",
       "      <td>city</td>\n",
       "    </tr>\n",
       "    <tr>\n",
       "      <th>58</th>\n",
       "      <td>All Cities</td>\n",
       "      <td>3</td>\n",
       "      <td>5</td>\n",
       "      <td>+67%</td>\n",
       "      <td>20240601</td>\n",
       "      <td>Kid</td>\n",
       "      <td>1711474235</td>\n",
       "      <td>listeners</td>\n",
       "      <td>song</td>\n",
       "      <td>monthly</td>\n",
       "      <td>city</td>\n",
       "    </tr>\n",
       "  </tbody>\n",
       "</table>\n",
       "</div>"
      ],
      "text/plain": [
       "          city  previous_period  current_period %_change      week  \\\n",
       "0   All Cities               23              11     -52%  20240927   \n",
       "38  All Cities                7               2     -71%  20240201   \n",
       "51  All Cities                1               1       0%  20240308   \n",
       "55  All Cities                2               2       0%  20240913   \n",
       "58  All Cities                3               5     +67%  20240601   \n",
       "\n",
       "                   song     song_id    measure   level period_type grouping  \n",
       "0          Artist Level      artist  listeners  artist      weekly     city  \n",
       "38  The Way That It Was  1711474242  listeners    song     monthly     city  \n",
       "51  The Way That It Was  1711474242  listeners    song      weekly     city  \n",
       "55                  Kid  1711474235  listeners    song      weekly     city  \n",
       "58                  Kid  1711474235  listeners    song     monthly     city  "
      ]
     },
     "execution_count": 3,
     "metadata": {},
     "output_type": "execute_result"
    }
   ],
   "source": [
    "df[(df['city']=='All Cities') & (df['measure']=='listeners')].head()"
   ]
  },
  {
   "cell_type": "code",
   "execution_count": 4,
   "metadata": {},
   "outputs": [
    {
     "name": "stdout",
     "output_type": "stream",
     "text": [
      "\n",
      "City Performance Summary (First 12 Weeks After Release):\n",
      "================================================================================\n",
      "\n",
      "Key Metrics:\n",
      "- avg_weeks_to_peak: Average number of weeks until peak streaming activity\n",
      "- peak_streams: Highest number of streams in a single week\n",
      "- peak_weekly_listeners: Highest number of listeners in any single week\n",
      "- songs_analyzed: Number of songs analyzed for this city\n",
      "- songs_peaked_first_week: Number of songs that peaked in their first week\n",
      "- pct_peaked_first_week: Percentage of songs that peaked in their first week\n",
      "- songs_still_growing: Number of songs still growing after 12 weeks\n",
      "- total_streams: Total streams across all songs\n",
      "- consistency_score: Percentage of songs that were streamed in last 4 weeks\n",
      "- avg_weekly_streams_per_listener: Average of (streams/listeners) for each week\n",
      "- avg_weeks_to_adopt: Average number of weeks until first streaming activity\n",
      "\n",
      "City Categories:\n",
      "- Early Adopter: Cities that start streaming within the first 33rd percentile of weeks\n",
      "- Mid Adopter: Cities that start streaming between 33rd and 67th percentile of weeks\n",
      "- Late Bloomer: Cities that start streaming after the 67th percentile of weeks\n"
     ]
    },
    {
     "data": {
      "application/vnd.plotly.v1+json": {
       "config": {
        "plotlyServerURL": "https://plot.ly"
       },
       "data": [
        {
         "customdata": [
          [
           67.2,
           0,
           232,
           "Early Adopter"
          ],
          [
           80.9,
           2.8,
           218,
           "Late Bloomer"
          ],
          [
           76,
           3.8,
           118,
           "Late Bloomer"
          ],
          [
           73.7,
           0.3,
           111,
           "Mid Adopter"
          ],
          [
           81.8,
           0.3,
           105,
           "Mid Adopter"
          ],
          [
           82.6,
           2,
           78,
           "Mid Adopter"
          ],
          [
           58.7,
           0.8,
           137,
           "Mid Adopter"
          ],
          [
           68.4,
           0,
           191,
           "Early Adopter"
          ],
          [
           63.3,
           0.9,
           65,
           "Mid Adopter"
          ],
          [
           78.9,
           0,
           73,
           "Early Adopter"
          ],
          [
           66.7,
           0,
           53,
           "Early Adopter"
          ],
          [
           62.5,
           4,
           86,
           "Late Bloomer"
          ],
          [
           64.7,
           3,
           84,
           "Late Bloomer"
          ],
          [
           75,
           0.2,
           57,
           "Mid Adopter"
          ],
          [
           66.7,
           null,
           55,
           "Late Bloomer"
          ],
          [
           60.5,
           0.8,
           53,
           "Mid Adopter"
          ],
          [
           58.8,
           0,
           69,
           "Early Adopter"
          ],
          [
           66.7,
           2,
           71,
           "Mid Adopter"
          ],
          [
           67.9,
           0.8,
           52,
           "Mid Adopter"
          ],
          [
           66,
           1.6,
           94,
           "Mid Adopter"
          ],
          [
           57.8,
           0,
           51,
           "Early Adopter"
          ],
          [
           58.3,
           4.5,
           52,
           "Late Bloomer"
          ]
         ],
         "hovertemplate": "<b>%{hovertext}</b><br>Consistency: %{customdata[0]:.1f}%<br>Weeks to First Stream: %{customdata[1]:.1f}<br>Total Streams: %{customdata[2]:,.0f}<br>Category: %{customdata[3]}<extra></extra>",
         "hovertext": [
          "Denver",
          "Chicago",
          "Seattle",
          "Atlanta",
          "Portland",
          "Detroit",
          "Toronto",
          "New York City",
          "Nashville",
          "Charlotte",
          "Minneapolis",
          "Los Angeles",
          "San Jose",
          "Boston",
          "Vancouver",
          "St. Louis",
          "London",
          "Dallas",
          "Sacramento",
          "Tokyo",
          "Las Vegas",
          "Paris"
         ],
         "legendgroup": "",
         "marker": {
          "color": {
           "bdata": "6ADaAHYAbwBpAE4AiQC/AEEASQA1AFYAVAA5ADcANQBFAEcANABeADMANAA=",
           "dtype": "i2"
          },
          "coloraxis": "coloraxis",
          "line": {
           "color": "white",
           "width": 1
          },
          "size": 15,
          "sizemode": "area",
          "sizeref": 0.2577777777777778,
          "symbol": "circle"
         },
         "mode": "markers",
         "name": "",
         "orientation": "v",
         "showlegend": false,
         "type": "scatter",
         "x": {
          "bdata": "AAAAAAAAAABmZmZmZmYGQGZmZmZmZg5AMzMzMzMz0z8zMzMzMzPTPwAAAAAAAABAmpmZmZmZ6T8AAAAAAAAAAM3MzMzMzOw/AAAAAAAAAAAAAAAAAAAAAAAAAAAAABBAAAAAAAAACECamZmZmZnJPwAAAAAAAPh/mpmZmZmZ6T8AAAAAAAAAAAAAAAAAAABAmpmZmZmZ6T+amZmZmZn5PwAAAAAAAAAAAAAAAAAAEkA=",
          "dtype": "f8"
         },
         "xaxis": "x",
         "y": {
          "bdata": "zczMzMzMUECamZmZmTlUQAAAAAAAAFNAzczMzMxsUkAzMzMzM3NUQGZmZmZmplRAmpmZmZlZTUCamZmZmRlRQGZmZmZmpk9AmpmZmZm5U0DNzMzMzKxQQAAAAAAAQE9AzczMzMwsUEAAAAAAAMBSQM3MzMzMrFBAAAAAAABATkBmZmZmZmZNQM3MzMzMrFBAmpmZmZn5UEAAAAAAAIBQQGZmZmZm5kxAZmZmZmYmTUA=",
          "dtype": "f8"
         },
         "yaxis": "y"
        }
       ],
       "layout": {
        "coloraxis": {
         "colorbar": {
          "tickfont": {
           "size": 16
          },
          "title": {
           "font": {
            "size": 18
           },
           "text": "Total Streams"
          }
         },
         "colorscale": [
          [
           0,
           "#440154"
          ],
          [
           0.1111111111111111,
           "#482878"
          ],
          [
           0.2222222222222222,
           "#3e4989"
          ],
          [
           0.3333333333333333,
           "#31688e"
          ],
          [
           0.4444444444444444,
           "#26828e"
          ],
          [
           0.5555555555555556,
           "#1f9e89"
          ],
          [
           0.6666666666666666,
           "#35b779"
          ],
          [
           0.7777777777777778,
           "#6ece58"
          ],
          [
           0.8888888888888888,
           "#b5de2b"
          ],
          [
           1,
           "#fde725"
          ]
         ]
        },
        "height": 800,
        "legend": {
         "itemsizing": "constant",
         "tracegroupgap": 0
        },
        "showlegend": false,
        "template": {
         "data": {
          "bar": [
           {
            "error_x": {
             "color": "#2a3f5f"
            },
            "error_y": {
             "color": "#2a3f5f"
            },
            "marker": {
             "line": {
              "color": "#E5ECF6",
              "width": 0.5
             },
             "pattern": {
              "fillmode": "overlay",
              "size": 10,
              "solidity": 0.2
             }
            },
            "type": "bar"
           }
          ],
          "barpolar": [
           {
            "marker": {
             "line": {
              "color": "#E5ECF6",
              "width": 0.5
             },
             "pattern": {
              "fillmode": "overlay",
              "size": 10,
              "solidity": 0.2
             }
            },
            "type": "barpolar"
           }
          ],
          "carpet": [
           {
            "aaxis": {
             "endlinecolor": "#2a3f5f",
             "gridcolor": "white",
             "linecolor": "white",
             "minorgridcolor": "white",
             "startlinecolor": "#2a3f5f"
            },
            "baxis": {
             "endlinecolor": "#2a3f5f",
             "gridcolor": "white",
             "linecolor": "white",
             "minorgridcolor": "white",
             "startlinecolor": "#2a3f5f"
            },
            "type": "carpet"
           }
          ],
          "choropleth": [
           {
            "colorbar": {
             "outlinewidth": 0,
             "ticks": ""
            },
            "type": "choropleth"
           }
          ],
          "contour": [
           {
            "colorbar": {
             "outlinewidth": 0,
             "ticks": ""
            },
            "colorscale": [
             [
              0,
              "#0d0887"
             ],
             [
              0.1111111111111111,
              "#46039f"
             ],
             [
              0.2222222222222222,
              "#7201a8"
             ],
             [
              0.3333333333333333,
              "#9c179e"
             ],
             [
              0.4444444444444444,
              "#bd3786"
             ],
             [
              0.5555555555555556,
              "#d8576b"
             ],
             [
              0.6666666666666666,
              "#ed7953"
             ],
             [
              0.7777777777777778,
              "#fb9f3a"
             ],
             [
              0.8888888888888888,
              "#fdca26"
             ],
             [
              1,
              "#f0f921"
             ]
            ],
            "type": "contour"
           }
          ],
          "contourcarpet": [
           {
            "colorbar": {
             "outlinewidth": 0,
             "ticks": ""
            },
            "type": "contourcarpet"
           }
          ],
          "heatmap": [
           {
            "colorbar": {
             "outlinewidth": 0,
             "ticks": ""
            },
            "colorscale": [
             [
              0,
              "#0d0887"
             ],
             [
              0.1111111111111111,
              "#46039f"
             ],
             [
              0.2222222222222222,
              "#7201a8"
             ],
             [
              0.3333333333333333,
              "#9c179e"
             ],
             [
              0.4444444444444444,
              "#bd3786"
             ],
             [
              0.5555555555555556,
              "#d8576b"
             ],
             [
              0.6666666666666666,
              "#ed7953"
             ],
             [
              0.7777777777777778,
              "#fb9f3a"
             ],
             [
              0.8888888888888888,
              "#fdca26"
             ],
             [
              1,
              "#f0f921"
             ]
            ],
            "type": "heatmap"
           }
          ],
          "histogram": [
           {
            "marker": {
             "pattern": {
              "fillmode": "overlay",
              "size": 10,
              "solidity": 0.2
             }
            },
            "type": "histogram"
           }
          ],
          "histogram2d": [
           {
            "colorbar": {
             "outlinewidth": 0,
             "ticks": ""
            },
            "colorscale": [
             [
              0,
              "#0d0887"
             ],
             [
              0.1111111111111111,
              "#46039f"
             ],
             [
              0.2222222222222222,
              "#7201a8"
             ],
             [
              0.3333333333333333,
              "#9c179e"
             ],
             [
              0.4444444444444444,
              "#bd3786"
             ],
             [
              0.5555555555555556,
              "#d8576b"
             ],
             [
              0.6666666666666666,
              "#ed7953"
             ],
             [
              0.7777777777777778,
              "#fb9f3a"
             ],
             [
              0.8888888888888888,
              "#fdca26"
             ],
             [
              1,
              "#f0f921"
             ]
            ],
            "type": "histogram2d"
           }
          ],
          "histogram2dcontour": [
           {
            "colorbar": {
             "outlinewidth": 0,
             "ticks": ""
            },
            "colorscale": [
             [
              0,
              "#0d0887"
             ],
             [
              0.1111111111111111,
              "#46039f"
             ],
             [
              0.2222222222222222,
              "#7201a8"
             ],
             [
              0.3333333333333333,
              "#9c179e"
             ],
             [
              0.4444444444444444,
              "#bd3786"
             ],
             [
              0.5555555555555556,
              "#d8576b"
             ],
             [
              0.6666666666666666,
              "#ed7953"
             ],
             [
              0.7777777777777778,
              "#fb9f3a"
             ],
             [
              0.8888888888888888,
              "#fdca26"
             ],
             [
              1,
              "#f0f921"
             ]
            ],
            "type": "histogram2dcontour"
           }
          ],
          "mesh3d": [
           {
            "colorbar": {
             "outlinewidth": 0,
             "ticks": ""
            },
            "type": "mesh3d"
           }
          ],
          "parcoords": [
           {
            "line": {
             "colorbar": {
              "outlinewidth": 0,
              "ticks": ""
             }
            },
            "type": "parcoords"
           }
          ],
          "pie": [
           {
            "automargin": true,
            "type": "pie"
           }
          ],
          "scatter": [
           {
            "fillpattern": {
             "fillmode": "overlay",
             "size": 10,
             "solidity": 0.2
            },
            "type": "scatter"
           }
          ],
          "scatter3d": [
           {
            "line": {
             "colorbar": {
              "outlinewidth": 0,
              "ticks": ""
             }
            },
            "marker": {
             "colorbar": {
              "outlinewidth": 0,
              "ticks": ""
             }
            },
            "type": "scatter3d"
           }
          ],
          "scattercarpet": [
           {
            "marker": {
             "colorbar": {
              "outlinewidth": 0,
              "ticks": ""
             }
            },
            "type": "scattercarpet"
           }
          ],
          "scattergeo": [
           {
            "marker": {
             "colorbar": {
              "outlinewidth": 0,
              "ticks": ""
             }
            },
            "type": "scattergeo"
           }
          ],
          "scattergl": [
           {
            "marker": {
             "colorbar": {
              "outlinewidth": 0,
              "ticks": ""
             }
            },
            "type": "scattergl"
           }
          ],
          "scattermap": [
           {
            "marker": {
             "colorbar": {
              "outlinewidth": 0,
              "ticks": ""
             }
            },
            "type": "scattermap"
           }
          ],
          "scattermapbox": [
           {
            "marker": {
             "colorbar": {
              "outlinewidth": 0,
              "ticks": ""
             }
            },
            "type": "scattermapbox"
           }
          ],
          "scatterpolar": [
           {
            "marker": {
             "colorbar": {
              "outlinewidth": 0,
              "ticks": ""
             }
            },
            "type": "scatterpolar"
           }
          ],
          "scatterpolargl": [
           {
            "marker": {
             "colorbar": {
              "outlinewidth": 0,
              "ticks": ""
             }
            },
            "type": "scatterpolargl"
           }
          ],
          "scatterternary": [
           {
            "marker": {
             "colorbar": {
              "outlinewidth": 0,
              "ticks": ""
             }
            },
            "type": "scatterternary"
           }
          ],
          "surface": [
           {
            "colorbar": {
             "outlinewidth": 0,
             "ticks": ""
            },
            "colorscale": [
             [
              0,
              "#0d0887"
             ],
             [
              0.1111111111111111,
              "#46039f"
             ],
             [
              0.2222222222222222,
              "#7201a8"
             ],
             [
              0.3333333333333333,
              "#9c179e"
             ],
             [
              0.4444444444444444,
              "#bd3786"
             ],
             [
              0.5555555555555556,
              "#d8576b"
             ],
             [
              0.6666666666666666,
              "#ed7953"
             ],
             [
              0.7777777777777778,
              "#fb9f3a"
             ],
             [
              0.8888888888888888,
              "#fdca26"
             ],
             [
              1,
              "#f0f921"
             ]
            ],
            "type": "surface"
           }
          ],
          "table": [
           {
            "cells": {
             "fill": {
              "color": "#EBF0F8"
             },
             "line": {
              "color": "white"
             }
            },
            "header": {
             "fill": {
              "color": "#C8D4E3"
             },
             "line": {
              "color": "white"
             }
            },
            "type": "table"
           }
          ]
         },
         "layout": {
          "annotationdefaults": {
           "arrowcolor": "#2a3f5f",
           "arrowhead": 0,
           "arrowwidth": 1
          },
          "autotypenumbers": "strict",
          "coloraxis": {
           "colorbar": {
            "outlinewidth": 0,
            "ticks": ""
           }
          },
          "colorscale": {
           "diverging": [
            [
             0,
             "#8e0152"
            ],
            [
             0.1,
             "#c51b7d"
            ],
            [
             0.2,
             "#de77ae"
            ],
            [
             0.3,
             "#f1b6da"
            ],
            [
             0.4,
             "#fde0ef"
            ],
            [
             0.5,
             "#f7f7f7"
            ],
            [
             0.6,
             "#e6f5d0"
            ],
            [
             0.7,
             "#b8e186"
            ],
            [
             0.8,
             "#7fbc41"
            ],
            [
             0.9,
             "#4d9221"
            ],
            [
             1,
             "#276419"
            ]
           ],
           "sequential": [
            [
             0,
             "#0d0887"
            ],
            [
             0.1111111111111111,
             "#46039f"
            ],
            [
             0.2222222222222222,
             "#7201a8"
            ],
            [
             0.3333333333333333,
             "#9c179e"
            ],
            [
             0.4444444444444444,
             "#bd3786"
            ],
            [
             0.5555555555555556,
             "#d8576b"
            ],
            [
             0.6666666666666666,
             "#ed7953"
            ],
            [
             0.7777777777777778,
             "#fb9f3a"
            ],
            [
             0.8888888888888888,
             "#fdca26"
            ],
            [
             1,
             "#f0f921"
            ]
           ],
           "sequentialminus": [
            [
             0,
             "#0d0887"
            ],
            [
             0.1111111111111111,
             "#46039f"
            ],
            [
             0.2222222222222222,
             "#7201a8"
            ],
            [
             0.3333333333333333,
             "#9c179e"
            ],
            [
             0.4444444444444444,
             "#bd3786"
            ],
            [
             0.5555555555555556,
             "#d8576b"
            ],
            [
             0.6666666666666666,
             "#ed7953"
            ],
            [
             0.7777777777777778,
             "#fb9f3a"
            ],
            [
             0.8888888888888888,
             "#fdca26"
            ],
            [
             1,
             "#f0f921"
            ]
           ]
          },
          "colorway": [
           "#636efa",
           "#EF553B",
           "#00cc96",
           "#ab63fa",
           "#FFA15A",
           "#19d3f3",
           "#FF6692",
           "#B6E880",
           "#FF97FF",
           "#FECB52"
          ],
          "font": {
           "color": "#2a3f5f"
          },
          "geo": {
           "bgcolor": "white",
           "lakecolor": "white",
           "landcolor": "#E5ECF6",
           "showlakes": true,
           "showland": true,
           "subunitcolor": "white"
          },
          "hoverlabel": {
           "align": "left"
          },
          "hovermode": "closest",
          "mapbox": {
           "style": "light"
          },
          "paper_bgcolor": "white",
          "plot_bgcolor": "#E5ECF6",
          "polar": {
           "angularaxis": {
            "gridcolor": "white",
            "linecolor": "white",
            "ticks": ""
           },
           "bgcolor": "#E5ECF6",
           "radialaxis": {
            "gridcolor": "white",
            "linecolor": "white",
            "ticks": ""
           }
          },
          "scene": {
           "xaxis": {
            "backgroundcolor": "#E5ECF6",
            "gridcolor": "white",
            "gridwidth": 2,
            "linecolor": "white",
            "showbackground": true,
            "ticks": "",
            "zerolinecolor": "white"
           },
           "yaxis": {
            "backgroundcolor": "#E5ECF6",
            "gridcolor": "white",
            "gridwidth": 2,
            "linecolor": "white",
            "showbackground": true,
            "ticks": "",
            "zerolinecolor": "white"
           },
           "zaxis": {
            "backgroundcolor": "#E5ECF6",
            "gridcolor": "white",
            "gridwidth": 2,
            "linecolor": "white",
            "showbackground": true,
            "ticks": "",
            "zerolinecolor": "white"
           }
          },
          "shapedefaults": {
           "line": {
            "color": "#2a3f5f"
           }
          },
          "ternary": {
           "aaxis": {
            "gridcolor": "white",
            "linecolor": "white",
            "ticks": ""
           },
           "baxis": {
            "gridcolor": "white",
            "linecolor": "white",
            "ticks": ""
           },
           "bgcolor": "#E5ECF6",
           "caxis": {
            "gridcolor": "white",
            "linecolor": "white",
            "ticks": ""
           }
          },
          "title": {
           "x": 0.05
          },
          "xaxis": {
           "automargin": true,
           "gridcolor": "white",
           "linecolor": "white",
           "ticks": "",
           "title": {
            "standoff": 15
           },
           "zerolinecolor": "white",
           "zerolinewidth": 2
          },
          "yaxis": {
           "automargin": true,
           "gridcolor": "white",
           "linecolor": "white",
           "ticks": "",
           "title": {
            "standoff": 15
           },
           "zerolinecolor": "white",
           "zerolinewidth": 2
          }
         }
        },
        "title": {
         "text": "City Adoption Patterns: Speed vs Consistency<br>(Cities with 50+ Streams)"
        },
        "xaxis": {
         "anchor": "y",
         "domain": [
          0,
          1
         ],
         "tickfont": {
          "size": 16
         },
         "title": {
          "font": {
           "size": 18
          },
          "text": "Average Weeks Until First Activity"
         }
        },
        "yaxis": {
         "anchor": "x",
         "domain": [
          0,
          1
         ],
         "tickfont": {
          "size": 16
         },
         "title": {
          "font": {
           "size": 18
          },
          "text": "Consistency Score (%)"
         }
        }
       }
      }
     },
     "metadata": {},
     "output_type": "display_data"
    },
    {
     "data": {
      "application/vnd.plotly.v1+json": {
       "config": {
        "plotlyServerURL": "https://plot.ly"
       },
       "data": [
        {
         "customdata": {
          "bdata": "AAAAAADgW0A=",
          "dtype": "f8",
          "shape": "1, 1"
         },
         "hovertemplate": "<b>%{x}</b><br>Number of Cities: %{y}<br>Average Streams per City: %{customdata[0]:,.0f}<extra></extra>",
         "legendgroup": "Early Adopter",
         "marker": {
          "color": "rgb(102,194,165)",
          "pattern": {
           "shape": ""
          }
         },
         "name": "Early Adopter",
         "orientation": "v",
         "showlegend": true,
         "textposition": "outside",
         "texttemplate": "%{y}",
         "type": "bar",
         "x": [
          "Early Adopter"
         ],
         "xaxis": "x",
         "y": {
          "bdata": "Bg==",
          "dtype": "i1"
         },
         "yaxis": "y"
        },
        {
         "customdata": {
          "bdata": "zczMzMyMWUA=",
          "dtype": "f8",
          "shape": "1, 1"
         },
         "hovertemplate": "<b>%{x}</b><br>Number of Cities: %{y}<br>Average Streams per City: %{customdata[0]:,.0f}<extra></extra>",
         "legendgroup": "Late Bloomer",
         "marker": {
          "color": "rgb(252,141,98)",
          "pattern": {
           "shape": ""
          }
         },
         "name": "Late Bloomer",
         "orientation": "v",
         "showlegend": true,
         "textposition": "outside",
         "texttemplate": "%{y}",
         "type": "bar",
         "x": [
          "Late Bloomer"
         ],
         "xaxis": "x",
         "y": {
          "bdata": "Bg==",
          "dtype": "i1"
         },
         "yaxis": "y"
        },
        {
         "customdata": {
          "bdata": "MzMzMzOTVEA=",
          "dtype": "f8",
          "shape": "1, 1"
         },
         "hovertemplate": "<b>%{x}</b><br>Number of Cities: %{y}<br>Average Streams per City: %{customdata[0]:,.0f}<extra></extra>",
         "legendgroup": "Mid Adopter",
         "marker": {
          "color": "rgb(141,160,203)",
          "pattern": {
           "shape": ""
          }
         },
         "name": "Mid Adopter",
         "orientation": "v",
         "showlegend": true,
         "textposition": "outside",
         "texttemplate": "%{y}",
         "type": "bar",
         "x": [
          "Mid Adopter"
         ],
         "xaxis": "x",
         "y": {
          "bdata": "Cg==",
          "dtype": "i1"
         },
         "yaxis": "y"
        }
       ],
       "layout": {
        "barmode": "relative",
        "height": 400,
        "legend": {
         "title": {
          "text": "category"
         },
         "tracegroupgap": 0
        },
        "margin": {
         "t": 100
        },
        "showlegend": false,
        "template": {
         "data": {
          "bar": [
           {
            "error_x": {
             "color": "#2a3f5f"
            },
            "error_y": {
             "color": "#2a3f5f"
            },
            "marker": {
             "line": {
              "color": "#E5ECF6",
              "width": 0.5
             },
             "pattern": {
              "fillmode": "overlay",
              "size": 10,
              "solidity": 0.2
             }
            },
            "type": "bar"
           }
          ],
          "barpolar": [
           {
            "marker": {
             "line": {
              "color": "#E5ECF6",
              "width": 0.5
             },
             "pattern": {
              "fillmode": "overlay",
              "size": 10,
              "solidity": 0.2
             }
            },
            "type": "barpolar"
           }
          ],
          "carpet": [
           {
            "aaxis": {
             "endlinecolor": "#2a3f5f",
             "gridcolor": "white",
             "linecolor": "white",
             "minorgridcolor": "white",
             "startlinecolor": "#2a3f5f"
            },
            "baxis": {
             "endlinecolor": "#2a3f5f",
             "gridcolor": "white",
             "linecolor": "white",
             "minorgridcolor": "white",
             "startlinecolor": "#2a3f5f"
            },
            "type": "carpet"
           }
          ],
          "choropleth": [
           {
            "colorbar": {
             "outlinewidth": 0,
             "ticks": ""
            },
            "type": "choropleth"
           }
          ],
          "contour": [
           {
            "colorbar": {
             "outlinewidth": 0,
             "ticks": ""
            },
            "colorscale": [
             [
              0,
              "#0d0887"
             ],
             [
              0.1111111111111111,
              "#46039f"
             ],
             [
              0.2222222222222222,
              "#7201a8"
             ],
             [
              0.3333333333333333,
              "#9c179e"
             ],
             [
              0.4444444444444444,
              "#bd3786"
             ],
             [
              0.5555555555555556,
              "#d8576b"
             ],
             [
              0.6666666666666666,
              "#ed7953"
             ],
             [
              0.7777777777777778,
              "#fb9f3a"
             ],
             [
              0.8888888888888888,
              "#fdca26"
             ],
             [
              1,
              "#f0f921"
             ]
            ],
            "type": "contour"
           }
          ],
          "contourcarpet": [
           {
            "colorbar": {
             "outlinewidth": 0,
             "ticks": ""
            },
            "type": "contourcarpet"
           }
          ],
          "heatmap": [
           {
            "colorbar": {
             "outlinewidth": 0,
             "ticks": ""
            },
            "colorscale": [
             [
              0,
              "#0d0887"
             ],
             [
              0.1111111111111111,
              "#46039f"
             ],
             [
              0.2222222222222222,
              "#7201a8"
             ],
             [
              0.3333333333333333,
              "#9c179e"
             ],
             [
              0.4444444444444444,
              "#bd3786"
             ],
             [
              0.5555555555555556,
              "#d8576b"
             ],
             [
              0.6666666666666666,
              "#ed7953"
             ],
             [
              0.7777777777777778,
              "#fb9f3a"
             ],
             [
              0.8888888888888888,
              "#fdca26"
             ],
             [
              1,
              "#f0f921"
             ]
            ],
            "type": "heatmap"
           }
          ],
          "histogram": [
           {
            "marker": {
             "pattern": {
              "fillmode": "overlay",
              "size": 10,
              "solidity": 0.2
             }
            },
            "type": "histogram"
           }
          ],
          "histogram2d": [
           {
            "colorbar": {
             "outlinewidth": 0,
             "ticks": ""
            },
            "colorscale": [
             [
              0,
              "#0d0887"
             ],
             [
              0.1111111111111111,
              "#46039f"
             ],
             [
              0.2222222222222222,
              "#7201a8"
             ],
             [
              0.3333333333333333,
              "#9c179e"
             ],
             [
              0.4444444444444444,
              "#bd3786"
             ],
             [
              0.5555555555555556,
              "#d8576b"
             ],
             [
              0.6666666666666666,
              "#ed7953"
             ],
             [
              0.7777777777777778,
              "#fb9f3a"
             ],
             [
              0.8888888888888888,
              "#fdca26"
             ],
             [
              1,
              "#f0f921"
             ]
            ],
            "type": "histogram2d"
           }
          ],
          "histogram2dcontour": [
           {
            "colorbar": {
             "outlinewidth": 0,
             "ticks": ""
            },
            "colorscale": [
             [
              0,
              "#0d0887"
             ],
             [
              0.1111111111111111,
              "#46039f"
             ],
             [
              0.2222222222222222,
              "#7201a8"
             ],
             [
              0.3333333333333333,
              "#9c179e"
             ],
             [
              0.4444444444444444,
              "#bd3786"
             ],
             [
              0.5555555555555556,
              "#d8576b"
             ],
             [
              0.6666666666666666,
              "#ed7953"
             ],
             [
              0.7777777777777778,
              "#fb9f3a"
             ],
             [
              0.8888888888888888,
              "#fdca26"
             ],
             [
              1,
              "#f0f921"
             ]
            ],
            "type": "histogram2dcontour"
           }
          ],
          "mesh3d": [
           {
            "colorbar": {
             "outlinewidth": 0,
             "ticks": ""
            },
            "type": "mesh3d"
           }
          ],
          "parcoords": [
           {
            "line": {
             "colorbar": {
              "outlinewidth": 0,
              "ticks": ""
             }
            },
            "type": "parcoords"
           }
          ],
          "pie": [
           {
            "automargin": true,
            "type": "pie"
           }
          ],
          "scatter": [
           {
            "fillpattern": {
             "fillmode": "overlay",
             "size": 10,
             "solidity": 0.2
            },
            "type": "scatter"
           }
          ],
          "scatter3d": [
           {
            "line": {
             "colorbar": {
              "outlinewidth": 0,
              "ticks": ""
             }
            },
            "marker": {
             "colorbar": {
              "outlinewidth": 0,
              "ticks": ""
             }
            },
            "type": "scatter3d"
           }
          ],
          "scattercarpet": [
           {
            "marker": {
             "colorbar": {
              "outlinewidth": 0,
              "ticks": ""
             }
            },
            "type": "scattercarpet"
           }
          ],
          "scattergeo": [
           {
            "marker": {
             "colorbar": {
              "outlinewidth": 0,
              "ticks": ""
             }
            },
            "type": "scattergeo"
           }
          ],
          "scattergl": [
           {
            "marker": {
             "colorbar": {
              "outlinewidth": 0,
              "ticks": ""
             }
            },
            "type": "scattergl"
           }
          ],
          "scattermap": [
           {
            "marker": {
             "colorbar": {
              "outlinewidth": 0,
              "ticks": ""
             }
            },
            "type": "scattermap"
           }
          ],
          "scattermapbox": [
           {
            "marker": {
             "colorbar": {
              "outlinewidth": 0,
              "ticks": ""
             }
            },
            "type": "scattermapbox"
           }
          ],
          "scatterpolar": [
           {
            "marker": {
             "colorbar": {
              "outlinewidth": 0,
              "ticks": ""
             }
            },
            "type": "scatterpolar"
           }
          ],
          "scatterpolargl": [
           {
            "marker": {
             "colorbar": {
              "outlinewidth": 0,
              "ticks": ""
             }
            },
            "type": "scatterpolargl"
           }
          ],
          "scatterternary": [
           {
            "marker": {
             "colorbar": {
              "outlinewidth": 0,
              "ticks": ""
             }
            },
            "type": "scatterternary"
           }
          ],
          "surface": [
           {
            "colorbar": {
             "outlinewidth": 0,
             "ticks": ""
            },
            "colorscale": [
             [
              0,
              "#0d0887"
             ],
             [
              0.1111111111111111,
              "#46039f"
             ],
             [
              0.2222222222222222,
              "#7201a8"
             ],
             [
              0.3333333333333333,
              "#9c179e"
             ],
             [
              0.4444444444444444,
              "#bd3786"
             ],
             [
              0.5555555555555556,
              "#d8576b"
             ],
             [
              0.6666666666666666,
              "#ed7953"
             ],
             [
              0.7777777777777778,
              "#fb9f3a"
             ],
             [
              0.8888888888888888,
              "#fdca26"
             ],
             [
              1,
              "#f0f921"
             ]
            ],
            "type": "surface"
           }
          ],
          "table": [
           {
            "cells": {
             "fill": {
              "color": "#EBF0F8"
             },
             "line": {
              "color": "white"
             }
            },
            "header": {
             "fill": {
              "color": "#C8D4E3"
             },
             "line": {
              "color": "white"
             }
            },
            "type": "table"
           }
          ]
         },
         "layout": {
          "annotationdefaults": {
           "arrowcolor": "#2a3f5f",
           "arrowhead": 0,
           "arrowwidth": 1
          },
          "autotypenumbers": "strict",
          "coloraxis": {
           "colorbar": {
            "outlinewidth": 0,
            "ticks": ""
           }
          },
          "colorscale": {
           "diverging": [
            [
             0,
             "#8e0152"
            ],
            [
             0.1,
             "#c51b7d"
            ],
            [
             0.2,
             "#de77ae"
            ],
            [
             0.3,
             "#f1b6da"
            ],
            [
             0.4,
             "#fde0ef"
            ],
            [
             0.5,
             "#f7f7f7"
            ],
            [
             0.6,
             "#e6f5d0"
            ],
            [
             0.7,
             "#b8e186"
            ],
            [
             0.8,
             "#7fbc41"
            ],
            [
             0.9,
             "#4d9221"
            ],
            [
             1,
             "#276419"
            ]
           ],
           "sequential": [
            [
             0,
             "#0d0887"
            ],
            [
             0.1111111111111111,
             "#46039f"
            ],
            [
             0.2222222222222222,
             "#7201a8"
            ],
            [
             0.3333333333333333,
             "#9c179e"
            ],
            [
             0.4444444444444444,
             "#bd3786"
            ],
            [
             0.5555555555555556,
             "#d8576b"
            ],
            [
             0.6666666666666666,
             "#ed7953"
            ],
            [
             0.7777777777777778,
             "#fb9f3a"
            ],
            [
             0.8888888888888888,
             "#fdca26"
            ],
            [
             1,
             "#f0f921"
            ]
           ],
           "sequentialminus": [
            [
             0,
             "#0d0887"
            ],
            [
             0.1111111111111111,
             "#46039f"
            ],
            [
             0.2222222222222222,
             "#7201a8"
            ],
            [
             0.3333333333333333,
             "#9c179e"
            ],
            [
             0.4444444444444444,
             "#bd3786"
            ],
            [
             0.5555555555555556,
             "#d8576b"
            ],
            [
             0.6666666666666666,
             "#ed7953"
            ],
            [
             0.7777777777777778,
             "#fb9f3a"
            ],
            [
             0.8888888888888888,
             "#fdca26"
            ],
            [
             1,
             "#f0f921"
            ]
           ]
          },
          "colorway": [
           "#636efa",
           "#EF553B",
           "#00cc96",
           "#ab63fa",
           "#FFA15A",
           "#19d3f3",
           "#FF6692",
           "#B6E880",
           "#FF97FF",
           "#FECB52"
          ],
          "font": {
           "color": "#2a3f5f"
          },
          "geo": {
           "bgcolor": "white",
           "lakecolor": "white",
           "landcolor": "#E5ECF6",
           "showlakes": true,
           "showland": true,
           "subunitcolor": "white"
          },
          "hoverlabel": {
           "align": "left"
          },
          "hovermode": "closest",
          "mapbox": {
           "style": "light"
          },
          "paper_bgcolor": "white",
          "plot_bgcolor": "#E5ECF6",
          "polar": {
           "angularaxis": {
            "gridcolor": "white",
            "linecolor": "white",
            "ticks": ""
           },
           "bgcolor": "#E5ECF6",
           "radialaxis": {
            "gridcolor": "white",
            "linecolor": "white",
            "ticks": ""
           }
          },
          "scene": {
           "xaxis": {
            "backgroundcolor": "#E5ECF6",
            "gridcolor": "white",
            "gridwidth": 2,
            "linecolor": "white",
            "showbackground": true,
            "ticks": "",
            "zerolinecolor": "white"
           },
           "yaxis": {
            "backgroundcolor": "#E5ECF6",
            "gridcolor": "white",
            "gridwidth": 2,
            "linecolor": "white",
            "showbackground": true,
            "ticks": "",
            "zerolinecolor": "white"
           },
           "zaxis": {
            "backgroundcolor": "#E5ECF6",
            "gridcolor": "white",
            "gridwidth": 2,
            "linecolor": "white",
            "showbackground": true,
            "ticks": "",
            "zerolinecolor": "white"
           }
          },
          "shapedefaults": {
           "line": {
            "color": "#2a3f5f"
           }
          },
          "ternary": {
           "aaxis": {
            "gridcolor": "white",
            "linecolor": "white",
            "ticks": ""
           },
           "baxis": {
            "gridcolor": "white",
            "linecolor": "white",
            "ticks": ""
           },
           "bgcolor": "#E5ECF6",
           "caxis": {
            "gridcolor": "white",
            "linecolor": "white",
            "ticks": ""
           }
          },
          "title": {
           "x": 0.05
          },
          "xaxis": {
           "automargin": true,
           "gridcolor": "white",
           "linecolor": "white",
           "ticks": "",
           "title": {
            "standoff": 15
           },
           "zerolinecolor": "white",
           "zerolinewidth": 2
          },
          "yaxis": {
           "automargin": true,
           "gridcolor": "white",
           "linecolor": "white",
           "ticks": "",
           "title": {
            "standoff": 15
           },
           "zerolinecolor": "white",
           "zerolinewidth": 2
          }
         }
        },
        "title": {
         "text": "Distribution of Cities Across Categories<br>(Cities with 50+ Streams)"
        },
        "xaxis": {
         "anchor": "y",
         "categoryarray": [
          "Early Adopter",
          "Late Bloomer",
          "Mid Adopter"
         ],
         "categoryorder": "array",
         "domain": [
          0,
          1
         ],
         "title": {
          "text": "Category"
         }
        },
        "yaxis": {
         "anchor": "x",
         "domain": [
          0,
          1
         ],
         "range": [
          0,
          12
         ],
         "title": {
          "text": "Number of Cities"
         }
        }
       }
      }
     },
     "metadata": {},
     "output_type": "display_data"
    }
   ],
   "source": [
    "# This will show all the visualizations and printed output\n",
    "city_metrics, song_metrics, category_metrics = analyze_peaks_by_city()\n"
   ]
  },
  {
   "cell_type": "code",
   "execution_count": 5,
   "metadata": {},
   "outputs": [
    {
     "name": "stdout",
     "output_type": "stream",
     "text": [
      "\n",
      "Song Performance Summary (First 12 Weeks After Release):\n",
      "================================================================================\n",
      "\n",
      "Key Metrics:\n",
      "- peak_streams: Highest number of streams in a single week\n",
      "- total_streams: Total streams in first 12 weeks\n",
      "- avg_weekly_streams: Average streams per week\n",
      "- peak_weekly_listeners: Highest number of listeners in any single week\n",
      "- avg_weekly_listeners: Average number of listeners per week\n",
      "- active_cities: Number of cities that have streamed the song\n",
      "- avg_streams_per_city: Average streams per active city\n",
      "- avg_weekly_streams_per_listener: Average of (streams/listeners) for each week\n",
      "- peak_to_total_ratio: Percentage of total streams that occurred at peak\n",
      "- consistency_score: Percentage of cities that streamed in last 4 weeks\n",
      "- weeks_to_peak: Number of weeks until peak streaming activity\n",
      "- weeks_to_adopt: Number of weeks until first streaming activity\n",
      "\n",
      "Adoption Categories:\n",
      "- Early Adopter: Songs that start streaming within the first 33rd percentile of weeks\n",
      "- Mid Adopter: Songs that start streaming between 33rd and 67th percentile of weeks\n",
      "- Late Bloomer: Songs that start streaming after the 67th percentile of weeks\n",
      "\n",
      "Consistency Categories:\n",
      "- High Consistency: Songs with consistency scores above the 67th percentile\n",
      "- Medium Consistency: Songs with consistency scores between 33rd and 67th percentile\n",
      "- Low Consistency: Songs with consistency scores below the 33rd percentile\n",
      "\n",
      "Volume Categories:\n",
      "- High Volume: Songs with total streams above the 67th percentile\n",
      "- Medium Volume: Songs with total streams between 33rd and 67th percentile\n",
      "- Low Volume: Songs with total streams below the 33rd percentile\n"
     ]
    },
    {
     "data": {
      "application/vnd.plotly.v1+json": {
       "config": {
        "plotlyServerURL": "https://plot.ly"
       },
       "data": [
        {
         "customdata": [
          [
           80.7,
           96,
           "Early Adopter",
           39,
           29.2
          ],
          [
           80.7,
           61,
           "Early Adopter",
           30,
           34.4
          ],
          [
           48.7,
           3060,
           "Early Adopter",
           392,
           33.8
          ],
          [
           80.7,
           56,
           "Early Adopter",
           26,
           39.3
          ],
          [
           80.7,
           130,
           "Early Adopter",
           47,
           28.5
          ],
          [
           80.7,
           76,
           "Early Adopter",
           33,
           32.9
          ],
          [
           80.7,
           67,
           "Early Adopter",
           31,
           28.4
          ],
          [
           80.7,
           89,
           "Early Adopter",
           37,
           32.6
          ],
          [
           80.7,
           50,
           "Early Adopter",
           28,
           36
          ],
          [
           80.7,
           68,
           "Early Adopter",
           35,
           26.5
          ],
          [
           9.7,
           989,
           "Early Adopter",
           265,
           30.9
          ],
          [
           4.7,
           64,
           "Early Adopter",
           42,
           39.1
          ]
         ],
         "hovertemplate": "<b>%{hovertext}</b><br>Consistency Score: %{x:.1f}%<br>Avg Weekly Streams per Listener: %{y:.1f}<br>Total Streams: %{customdata[1]:,.0f}<br>Peak to Total Ratio: %{customdata[4]:.1f}%<br>Active Cities: %{customdata[3]}<br>Weeks Since Release: %{customdata[0]:.1f}<br>Category: %{customdata[2]}<extra></extra>",
         "hovertext": [
          "Holding On",
          "The Way That It Was",
          "Althea",
          "Slipping Away",
          "Cycles",
          "Kid",
          "Crash",
          "What Home Is",
          "Easy",
          "All In",
          "That Thing",
          "Breaking Me Down"
         ],
         "legendgroup": "",
         "marker": {
          "color": {
           "bdata": "zqZ0KNHJ/z9mRoDooq38P9yRN1AM4wtAkLaPOxAY/D/2ztzuK/AAQI4rDeYQL/4/lzqb3fRR/T//6ifLk0T/PxZz3xo1Uvs//u4vBu1r/T83WLyVD/cHQM8zlG+xAf0/",
           "dtype": "f8"
          },
          "coloraxis": "coloraxis",
          "line": {
           "color": "white",
           "width": 1
          },
          "size": 15,
          "symbol": "circle"
         },
         "mode": "markers",
         "name": "",
         "orientation": "v",
         "showlegend": false,
         "type": "scatter",
         "x": {
          "bdata": "zczMzMzMLkAAAAAAAAA0QJqZmZmZmS1AzczMzMzMLkAAAAAAAAAxQDMzMzMzMyJAAAAAAAAAGkAAAAAAAAArQGZmZmZmZhxAmpmZmZkZMUDNzMzMzEw/QAAAAAAAAFlA",
          "dtype": "f8"
         },
         "xaxis": "x",
         "y": {
          "bdata": "MzMzMzMz+z8AAAAAAAD4P83MzMzMzPQ/AAAAAAAA+D8AAAAAAAD4P2ZmZmZmZvY/mpmZmZmZ+T8AAAAAAAD4P2ZmZmZmZvY/ZmZmZmZm9j/NzMzMzMz0PzMzMzMzM/M/",
          "dtype": "f8"
         },
         "yaxis": "y"
        }
       ],
       "layout": {
        "coloraxis": {
         "colorbar": {
          "tickfont": {
           "size": 16
          },
          "ticktext": [
           "100",
           "1,000",
           "10,000",
           "100,000"
          ],
          "tickvals": [
           2,
           3,
           4,
           5
          ],
          "title": {
           "font": {
            "size": 18
           },
           "text": "Total Streams"
          }
         },
         "colorscale": [
          [
           0,
           "#440154"
          ],
          [
           0.1111111111111111,
           "#482878"
          ],
          [
           0.2222222222222222,
           "#3e4989"
          ],
          [
           0.3333333333333333,
           "#31688e"
          ],
          [
           0.4444444444444444,
           "#26828e"
          ],
          [
           0.5555555555555556,
           "#1f9e89"
          ],
          [
           0.6666666666666666,
           "#35b779"
          ],
          [
           0.7777777777777778,
           "#6ece58"
          ],
          [
           0.8888888888888888,
           "#b5de2b"
          ],
          [
           1,
           "#fde725"
          ]
         ]
        },
        "height": 800,
        "legend": {
         "tracegroupgap": 0
        },
        "showlegend": false,
        "template": {
         "data": {
          "bar": [
           {
            "error_x": {
             "color": "#2a3f5f"
            },
            "error_y": {
             "color": "#2a3f5f"
            },
            "marker": {
             "line": {
              "color": "#E5ECF6",
              "width": 0.5
             },
             "pattern": {
              "fillmode": "overlay",
              "size": 10,
              "solidity": 0.2
             }
            },
            "type": "bar"
           }
          ],
          "barpolar": [
           {
            "marker": {
             "line": {
              "color": "#E5ECF6",
              "width": 0.5
             },
             "pattern": {
              "fillmode": "overlay",
              "size": 10,
              "solidity": 0.2
             }
            },
            "type": "barpolar"
           }
          ],
          "carpet": [
           {
            "aaxis": {
             "endlinecolor": "#2a3f5f",
             "gridcolor": "white",
             "linecolor": "white",
             "minorgridcolor": "white",
             "startlinecolor": "#2a3f5f"
            },
            "baxis": {
             "endlinecolor": "#2a3f5f",
             "gridcolor": "white",
             "linecolor": "white",
             "minorgridcolor": "white",
             "startlinecolor": "#2a3f5f"
            },
            "type": "carpet"
           }
          ],
          "choropleth": [
           {
            "colorbar": {
             "outlinewidth": 0,
             "ticks": ""
            },
            "type": "choropleth"
           }
          ],
          "contour": [
           {
            "colorbar": {
             "outlinewidth": 0,
             "ticks": ""
            },
            "colorscale": [
             [
              0,
              "#0d0887"
             ],
             [
              0.1111111111111111,
              "#46039f"
             ],
             [
              0.2222222222222222,
              "#7201a8"
             ],
             [
              0.3333333333333333,
              "#9c179e"
             ],
             [
              0.4444444444444444,
              "#bd3786"
             ],
             [
              0.5555555555555556,
              "#d8576b"
             ],
             [
              0.6666666666666666,
              "#ed7953"
             ],
             [
              0.7777777777777778,
              "#fb9f3a"
             ],
             [
              0.8888888888888888,
              "#fdca26"
             ],
             [
              1,
              "#f0f921"
             ]
            ],
            "type": "contour"
           }
          ],
          "contourcarpet": [
           {
            "colorbar": {
             "outlinewidth": 0,
             "ticks": ""
            },
            "type": "contourcarpet"
           }
          ],
          "heatmap": [
           {
            "colorbar": {
             "outlinewidth": 0,
             "ticks": ""
            },
            "colorscale": [
             [
              0,
              "#0d0887"
             ],
             [
              0.1111111111111111,
              "#46039f"
             ],
             [
              0.2222222222222222,
              "#7201a8"
             ],
             [
              0.3333333333333333,
              "#9c179e"
             ],
             [
              0.4444444444444444,
              "#bd3786"
             ],
             [
              0.5555555555555556,
              "#d8576b"
             ],
             [
              0.6666666666666666,
              "#ed7953"
             ],
             [
              0.7777777777777778,
              "#fb9f3a"
             ],
             [
              0.8888888888888888,
              "#fdca26"
             ],
             [
              1,
              "#f0f921"
             ]
            ],
            "type": "heatmap"
           }
          ],
          "histogram": [
           {
            "marker": {
             "pattern": {
              "fillmode": "overlay",
              "size": 10,
              "solidity": 0.2
             }
            },
            "type": "histogram"
           }
          ],
          "histogram2d": [
           {
            "colorbar": {
             "outlinewidth": 0,
             "ticks": ""
            },
            "colorscale": [
             [
              0,
              "#0d0887"
             ],
             [
              0.1111111111111111,
              "#46039f"
             ],
             [
              0.2222222222222222,
              "#7201a8"
             ],
             [
              0.3333333333333333,
              "#9c179e"
             ],
             [
              0.4444444444444444,
              "#bd3786"
             ],
             [
              0.5555555555555556,
              "#d8576b"
             ],
             [
              0.6666666666666666,
              "#ed7953"
             ],
             [
              0.7777777777777778,
              "#fb9f3a"
             ],
             [
              0.8888888888888888,
              "#fdca26"
             ],
             [
              1,
              "#f0f921"
             ]
            ],
            "type": "histogram2d"
           }
          ],
          "histogram2dcontour": [
           {
            "colorbar": {
             "outlinewidth": 0,
             "ticks": ""
            },
            "colorscale": [
             [
              0,
              "#0d0887"
             ],
             [
              0.1111111111111111,
              "#46039f"
             ],
             [
              0.2222222222222222,
              "#7201a8"
             ],
             [
              0.3333333333333333,
              "#9c179e"
             ],
             [
              0.4444444444444444,
              "#bd3786"
             ],
             [
              0.5555555555555556,
              "#d8576b"
             ],
             [
              0.6666666666666666,
              "#ed7953"
             ],
             [
              0.7777777777777778,
              "#fb9f3a"
             ],
             [
              0.8888888888888888,
              "#fdca26"
             ],
             [
              1,
              "#f0f921"
             ]
            ],
            "type": "histogram2dcontour"
           }
          ],
          "mesh3d": [
           {
            "colorbar": {
             "outlinewidth": 0,
             "ticks": ""
            },
            "type": "mesh3d"
           }
          ],
          "parcoords": [
           {
            "line": {
             "colorbar": {
              "outlinewidth": 0,
              "ticks": ""
             }
            },
            "type": "parcoords"
           }
          ],
          "pie": [
           {
            "automargin": true,
            "type": "pie"
           }
          ],
          "scatter": [
           {
            "fillpattern": {
             "fillmode": "overlay",
             "size": 10,
             "solidity": 0.2
            },
            "type": "scatter"
           }
          ],
          "scatter3d": [
           {
            "line": {
             "colorbar": {
              "outlinewidth": 0,
              "ticks": ""
             }
            },
            "marker": {
             "colorbar": {
              "outlinewidth": 0,
              "ticks": ""
             }
            },
            "type": "scatter3d"
           }
          ],
          "scattercarpet": [
           {
            "marker": {
             "colorbar": {
              "outlinewidth": 0,
              "ticks": ""
             }
            },
            "type": "scattercarpet"
           }
          ],
          "scattergeo": [
           {
            "marker": {
             "colorbar": {
              "outlinewidth": 0,
              "ticks": ""
             }
            },
            "type": "scattergeo"
           }
          ],
          "scattergl": [
           {
            "marker": {
             "colorbar": {
              "outlinewidth": 0,
              "ticks": ""
             }
            },
            "type": "scattergl"
           }
          ],
          "scattermap": [
           {
            "marker": {
             "colorbar": {
              "outlinewidth": 0,
              "ticks": ""
             }
            },
            "type": "scattermap"
           }
          ],
          "scattermapbox": [
           {
            "marker": {
             "colorbar": {
              "outlinewidth": 0,
              "ticks": ""
             }
            },
            "type": "scattermapbox"
           }
          ],
          "scatterpolar": [
           {
            "marker": {
             "colorbar": {
              "outlinewidth": 0,
              "ticks": ""
             }
            },
            "type": "scatterpolar"
           }
          ],
          "scatterpolargl": [
           {
            "marker": {
             "colorbar": {
              "outlinewidth": 0,
              "ticks": ""
             }
            },
            "type": "scatterpolargl"
           }
          ],
          "scatterternary": [
           {
            "marker": {
             "colorbar": {
              "outlinewidth": 0,
              "ticks": ""
             }
            },
            "type": "scatterternary"
           }
          ],
          "surface": [
           {
            "colorbar": {
             "outlinewidth": 0,
             "ticks": ""
            },
            "colorscale": [
             [
              0,
              "#0d0887"
             ],
             [
              0.1111111111111111,
              "#46039f"
             ],
             [
              0.2222222222222222,
              "#7201a8"
             ],
             [
              0.3333333333333333,
              "#9c179e"
             ],
             [
              0.4444444444444444,
              "#bd3786"
             ],
             [
              0.5555555555555556,
              "#d8576b"
             ],
             [
              0.6666666666666666,
              "#ed7953"
             ],
             [
              0.7777777777777778,
              "#fb9f3a"
             ],
             [
              0.8888888888888888,
              "#fdca26"
             ],
             [
              1,
              "#f0f921"
             ]
            ],
            "type": "surface"
           }
          ],
          "table": [
           {
            "cells": {
             "fill": {
              "color": "#EBF0F8"
             },
             "line": {
              "color": "white"
             }
            },
            "header": {
             "fill": {
              "color": "#C8D4E3"
             },
             "line": {
              "color": "white"
             }
            },
            "type": "table"
           }
          ]
         },
         "layout": {
          "annotationdefaults": {
           "arrowcolor": "#2a3f5f",
           "arrowhead": 0,
           "arrowwidth": 1
          },
          "autotypenumbers": "strict",
          "coloraxis": {
           "colorbar": {
            "outlinewidth": 0,
            "ticks": ""
           }
          },
          "colorscale": {
           "diverging": [
            [
             0,
             "#8e0152"
            ],
            [
             0.1,
             "#c51b7d"
            ],
            [
             0.2,
             "#de77ae"
            ],
            [
             0.3,
             "#f1b6da"
            ],
            [
             0.4,
             "#fde0ef"
            ],
            [
             0.5,
             "#f7f7f7"
            ],
            [
             0.6,
             "#e6f5d0"
            ],
            [
             0.7,
             "#b8e186"
            ],
            [
             0.8,
             "#7fbc41"
            ],
            [
             0.9,
             "#4d9221"
            ],
            [
             1,
             "#276419"
            ]
           ],
           "sequential": [
            [
             0,
             "#0d0887"
            ],
            [
             0.1111111111111111,
             "#46039f"
            ],
            [
             0.2222222222222222,
             "#7201a8"
            ],
            [
             0.3333333333333333,
             "#9c179e"
            ],
            [
             0.4444444444444444,
             "#bd3786"
            ],
            [
             0.5555555555555556,
             "#d8576b"
            ],
            [
             0.6666666666666666,
             "#ed7953"
            ],
            [
             0.7777777777777778,
             "#fb9f3a"
            ],
            [
             0.8888888888888888,
             "#fdca26"
            ],
            [
             1,
             "#f0f921"
            ]
           ],
           "sequentialminus": [
            [
             0,
             "#0d0887"
            ],
            [
             0.1111111111111111,
             "#46039f"
            ],
            [
             0.2222222222222222,
             "#7201a8"
            ],
            [
             0.3333333333333333,
             "#9c179e"
            ],
            [
             0.4444444444444444,
             "#bd3786"
            ],
            [
             0.5555555555555556,
             "#d8576b"
            ],
            [
             0.6666666666666666,
             "#ed7953"
            ],
            [
             0.7777777777777778,
             "#fb9f3a"
            ],
            [
             0.8888888888888888,
             "#fdca26"
            ],
            [
             1,
             "#f0f921"
            ]
           ]
          },
          "colorway": [
           "#636efa",
           "#EF553B",
           "#00cc96",
           "#ab63fa",
           "#FFA15A",
           "#19d3f3",
           "#FF6692",
           "#B6E880",
           "#FF97FF",
           "#FECB52"
          ],
          "font": {
           "color": "#2a3f5f"
          },
          "geo": {
           "bgcolor": "white",
           "lakecolor": "white",
           "landcolor": "#E5ECF6",
           "showlakes": true,
           "showland": true,
           "subunitcolor": "white"
          },
          "hoverlabel": {
           "align": "left"
          },
          "hovermode": "closest",
          "mapbox": {
           "style": "light"
          },
          "paper_bgcolor": "white",
          "plot_bgcolor": "#E5ECF6",
          "polar": {
           "angularaxis": {
            "gridcolor": "white",
            "linecolor": "white",
            "ticks": ""
           },
           "bgcolor": "#E5ECF6",
           "radialaxis": {
            "gridcolor": "white",
            "linecolor": "white",
            "ticks": ""
           }
          },
          "scene": {
           "xaxis": {
            "backgroundcolor": "#E5ECF6",
            "gridcolor": "white",
            "gridwidth": 2,
            "linecolor": "white",
            "showbackground": true,
            "ticks": "",
            "zerolinecolor": "white"
           },
           "yaxis": {
            "backgroundcolor": "#E5ECF6",
            "gridcolor": "white",
            "gridwidth": 2,
            "linecolor": "white",
            "showbackground": true,
            "ticks": "",
            "zerolinecolor": "white"
           },
           "zaxis": {
            "backgroundcolor": "#E5ECF6",
            "gridcolor": "white",
            "gridwidth": 2,
            "linecolor": "white",
            "showbackground": true,
            "ticks": "",
            "zerolinecolor": "white"
           }
          },
          "shapedefaults": {
           "line": {
            "color": "#2a3f5f"
           }
          },
          "ternary": {
           "aaxis": {
            "gridcolor": "white",
            "linecolor": "white",
            "ticks": ""
           },
           "baxis": {
            "gridcolor": "white",
            "linecolor": "white",
            "ticks": ""
           },
           "bgcolor": "#E5ECF6",
           "caxis": {
            "gridcolor": "white",
            "linecolor": "white",
            "ticks": ""
           }
          },
          "title": {
           "x": 0.05
          },
          "xaxis": {
           "automargin": true,
           "gridcolor": "white",
           "linecolor": "white",
           "ticks": "",
           "title": {
            "standoff": 15
           },
           "zerolinecolor": "white",
           "zerolinewidth": 2
          },
          "yaxis": {
           "automargin": true,
           "gridcolor": "white",
           "linecolor": "white",
           "ticks": "",
           "title": {
            "standoff": 15
           },
           "zerolinecolor": "white",
           "zerolinewidth": 2
          }
         }
        },
        "title": {
         "text": "Song Performance: Consistency vs Listener Engagement"
        },
        "xaxis": {
         "anchor": "y",
         "domain": [
          0,
          1
         ],
         "tickfont": {
          "size": 16
         },
         "title": {
          "font": {
           "size": 18
          },
          "text": "Consistency Score (%)"
         }
        },
        "yaxis": {
         "anchor": "x",
         "domain": [
          0,
          1
         ],
         "tickfont": {
          "size": 16
         },
         "title": {
          "font": {
           "size": 18
          },
          "text": "Average Streams per Listener"
         }
        }
       }
      }
     },
     "metadata": {},
     "output_type": "display_data"
    }
   ],
   "source": [
    "song_adoption_metrics = analyze_song_adoption_overall()"
   ]
  },
  {
   "cell_type": "markdown",
   "metadata": {},
   "source": []
  },
  {
   "cell_type": "code",
   "execution_count": 6,
   "metadata": {},
   "outputs": [
    {
     "data": {
      "text/html": [
       "<div>\n",
       "<style scoped>\n",
       "    .dataframe tbody tr th:only-of-type {\n",
       "        vertical-align: middle;\n",
       "    }\n",
       "\n",
       "    .dataframe tbody tr th {\n",
       "        vertical-align: top;\n",
       "    }\n",
       "\n",
       "    .dataframe thead th {\n",
       "        text-align: right;\n",
       "    }\n",
       "</style>\n",
       "<table border=\"1\" class=\"dataframe\">\n",
       "  <thead>\n",
       "    <tr style=\"text-align: right;\">\n",
       "      <th></th>\n",
       "      <th>song</th>\n",
       "      <th>release_date</th>\n",
       "      <th>peak_date</th>\n",
       "      <th>peak_streams</th>\n",
       "      <th>weeks_to_peak</th>\n",
       "      <th>weeks_to_adopt</th>\n",
       "      <th>is_still_growing</th>\n",
       "      <th>peaked_first_week</th>\n",
       "      <th>total_streams</th>\n",
       "      <th>avg_weekly_streams</th>\n",
       "      <th>...</th>\n",
       "      <th>avg_weekly_listeners</th>\n",
       "      <th>avg_weekly_streams_per_listener</th>\n",
       "      <th>total_cities</th>\n",
       "      <th>active_cities</th>\n",
       "      <th>avg_streams_per_city</th>\n",
       "      <th>peak_to_total_ratio</th>\n",
       "      <th>consistency_score</th>\n",
       "      <th>adoption_category</th>\n",
       "      <th>log_total_streams</th>\n",
       "      <th>weeks_since_release</th>\n",
       "    </tr>\n",
       "  </thead>\n",
       "  <tbody>\n",
       "    <tr>\n",
       "      <th>0</th>\n",
       "      <td>Holding On</td>\n",
       "      <td>2023-11-10</td>\n",
       "      <td>2023-11-10</td>\n",
       "      <td>28</td>\n",
       "      <td>0.0</td>\n",
       "      <td>0.0</td>\n",
       "      <td>False</td>\n",
       "      <td>True</td>\n",
       "      <td>96</td>\n",
       "      <td>8.0</td>\n",
       "      <td>...</td>\n",
       "      <td>6.5</td>\n",
       "      <td>1.7</td>\n",
       "      <td>39</td>\n",
       "      <td>39</td>\n",
       "      <td>2.5</td>\n",
       "      <td>29.2</td>\n",
       "      <td>15.4</td>\n",
       "      <td>Early Adopter</td>\n",
       "      <td>1.986772</td>\n",
       "      <td>80.7</td>\n",
       "    </tr>\n",
       "    <tr>\n",
       "      <th>1</th>\n",
       "      <td>The Way That It Was</td>\n",
       "      <td>2023-11-10</td>\n",
       "      <td>2023-11-10</td>\n",
       "      <td>21</td>\n",
       "      <td>0.0</td>\n",
       "      <td>0.0</td>\n",
       "      <td>False</td>\n",
       "      <td>True</td>\n",
       "      <td>61</td>\n",
       "      <td>4.7</td>\n",
       "      <td>...</td>\n",
       "      <td>4.4</td>\n",
       "      <td>1.5</td>\n",
       "      <td>30</td>\n",
       "      <td>30</td>\n",
       "      <td>2.0</td>\n",
       "      <td>34.4</td>\n",
       "      <td>20.0</td>\n",
       "      <td>Early Adopter</td>\n",
       "      <td>1.792392</td>\n",
       "      <td>80.7</td>\n",
       "    </tr>\n",
       "    <tr>\n",
       "      <th>2</th>\n",
       "      <td>Althea</td>\n",
       "      <td>2024-06-21</td>\n",
       "      <td>2024-06-28</td>\n",
       "      <td>1034</td>\n",
       "      <td>1.0</td>\n",
       "      <td>0.0</td>\n",
       "      <td>False</td>\n",
       "      <td>False</td>\n",
       "      <td>3060</td>\n",
       "      <td>235.4</td>\n",
       "      <td>...</td>\n",
       "      <td>284.9</td>\n",
       "      <td>1.3</td>\n",
       "      <td>392</td>\n",
       "      <td>392</td>\n",
       "      <td>7.8</td>\n",
       "      <td>33.8</td>\n",
       "      <td>14.8</td>\n",
       "      <td>Early Adopter</td>\n",
       "      <td>3.485863</td>\n",
       "      <td>48.7</td>\n",
       "    </tr>\n",
       "    <tr>\n",
       "      <th>3</th>\n",
       "      <td>Slipping Away</td>\n",
       "      <td>2023-11-10</td>\n",
       "      <td>2023-11-10</td>\n",
       "      <td>22</td>\n",
       "      <td>0.0</td>\n",
       "      <td>0.0</td>\n",
       "      <td>False</td>\n",
       "      <td>True</td>\n",
       "      <td>56</td>\n",
       "      <td>4.3</td>\n",
       "      <td>...</td>\n",
       "      <td>4.2</td>\n",
       "      <td>1.5</td>\n",
       "      <td>26</td>\n",
       "      <td>26</td>\n",
       "      <td>2.2</td>\n",
       "      <td>39.3</td>\n",
       "      <td>15.4</td>\n",
       "      <td>Early Adopter</td>\n",
       "      <td>1.755875</td>\n",
       "      <td>80.7</td>\n",
       "    </tr>\n",
       "    <tr>\n",
       "      <th>4</th>\n",
       "      <td>Cycles</td>\n",
       "      <td>2023-11-10</td>\n",
       "      <td>2023-11-10</td>\n",
       "      <td>37</td>\n",
       "      <td>0.0</td>\n",
       "      <td>0.0</td>\n",
       "      <td>False</td>\n",
       "      <td>True</td>\n",
       "      <td>130</td>\n",
       "      <td>10.0</td>\n",
       "      <td>...</td>\n",
       "      <td>9.6</td>\n",
       "      <td>1.5</td>\n",
       "      <td>49</td>\n",
       "      <td>47</td>\n",
       "      <td>2.8</td>\n",
       "      <td>28.5</td>\n",
       "      <td>17.0</td>\n",
       "      <td>Early Adopter</td>\n",
       "      <td>2.117271</td>\n",
       "      <td>80.7</td>\n",
       "    </tr>\n",
       "  </tbody>\n",
       "</table>\n",
       "<p>5 rows × 21 columns</p>\n",
       "</div>"
      ],
      "text/plain": [
       "                  song release_date   peak_date  peak_streams  weeks_to_peak  \\\n",
       "0           Holding On   2023-11-10  2023-11-10            28            0.0   \n",
       "1  The Way That It Was   2023-11-10  2023-11-10            21            0.0   \n",
       "2               Althea   2024-06-21  2024-06-28          1034            1.0   \n",
       "3        Slipping Away   2023-11-10  2023-11-10            22            0.0   \n",
       "4               Cycles   2023-11-10  2023-11-10            37            0.0   \n",
       "\n",
       "   weeks_to_adopt  is_still_growing  peaked_first_week  total_streams  \\\n",
       "0             0.0             False               True             96   \n",
       "1             0.0             False               True             61   \n",
       "2             0.0             False              False           3060   \n",
       "3             0.0             False               True             56   \n",
       "4             0.0             False               True            130   \n",
       "\n",
       "   avg_weekly_streams  ...  avg_weekly_listeners  \\\n",
       "0                 8.0  ...                   6.5   \n",
       "1                 4.7  ...                   4.4   \n",
       "2               235.4  ...                 284.9   \n",
       "3                 4.3  ...                   4.2   \n",
       "4                10.0  ...                   9.6   \n",
       "\n",
       "   avg_weekly_streams_per_listener  total_cities  active_cities  \\\n",
       "0                              1.7            39             39   \n",
       "1                              1.5            30             30   \n",
       "2                              1.3           392            392   \n",
       "3                              1.5            26             26   \n",
       "4                              1.5            49             47   \n",
       "\n",
       "   avg_streams_per_city  peak_to_total_ratio  consistency_score  \\\n",
       "0                   2.5                 29.2               15.4   \n",
       "1                   2.0                 34.4               20.0   \n",
       "2                   7.8                 33.8               14.8   \n",
       "3                   2.2                 39.3               15.4   \n",
       "4                   2.8                 28.5               17.0   \n",
       "\n",
       "   adoption_category log_total_streams  weeks_since_release  \n",
       "0      Early Adopter          1.986772                 80.7  \n",
       "1      Early Adopter          1.792392                 80.7  \n",
       "2      Early Adopter          3.485863                 48.7  \n",
       "3      Early Adopter          1.755875                 80.7  \n",
       "4      Early Adopter          2.117271                 80.7  \n",
       "\n",
       "[5 rows x 21 columns]"
      ]
     },
     "execution_count": 6,
     "metadata": {},
     "output_type": "execute_result"
    }
   ],
   "source": [
    "song_adoption_metrics.head()"
   ]
  },
  {
   "cell_type": "code",
   "execution_count": 7,
   "metadata": {},
   "outputs": [
    {
     "data": {
      "text/html": [
       "<div>\n",
       "<style scoped>\n",
       "    .dataframe tbody tr th:only-of-type {\n",
       "        vertical-align: middle;\n",
       "    }\n",
       "\n",
       "    .dataframe tbody tr th {\n",
       "        vertical-align: top;\n",
       "    }\n",
       "\n",
       "    .dataframe thead th {\n",
       "        text-align: right;\n",
       "    }\n",
       "</style>\n",
       "<table border=\"1\" class=\"dataframe\">\n",
       "  <thead>\n",
       "    <tr style=\"text-align: right;\">\n",
       "      <th></th>\n",
       "      <th>city</th>\n",
       "      <th>previous_period</th>\n",
       "      <th>current_period</th>\n",
       "      <th>%_change</th>\n",
       "      <th>week</th>\n",
       "      <th>song</th>\n",
       "      <th>song_id</th>\n",
       "      <th>measure</th>\n",
       "      <th>level</th>\n",
       "      <th>period_type</th>\n",
       "      <th>grouping</th>\n",
       "    </tr>\n",
       "  </thead>\n",
       "  <tbody>\n",
       "    <tr>\n",
       "      <th>0</th>\n",
       "      <td>All Cities</td>\n",
       "      <td>23</td>\n",
       "      <td>11</td>\n",
       "      <td>-52%</td>\n",
       "      <td>20240927</td>\n",
       "      <td>Artist Level</td>\n",
       "      <td>artist</td>\n",
       "      <td>listeners</td>\n",
       "      <td>artist</td>\n",
       "      <td>weekly</td>\n",
       "      <td>city</td>\n",
       "    </tr>\n",
       "    <tr>\n",
       "      <th>1</th>\n",
       "      <td>Adelaide</td>\n",
       "      <td>0</td>\n",
       "      <td>1</td>\n",
       "      <td>-</td>\n",
       "      <td>20240927</td>\n",
       "      <td>Artist Level</td>\n",
       "      <td>artist</td>\n",
       "      <td>listeners</td>\n",
       "      <td>artist</td>\n",
       "      <td>weekly</td>\n",
       "      <td>city</td>\n",
       "    </tr>\n",
       "    <tr>\n",
       "      <th>2</th>\n",
       "      <td>Allentown</td>\n",
       "      <td>0</td>\n",
       "      <td>1</td>\n",
       "      <td>-</td>\n",
       "      <td>20240927</td>\n",
       "      <td>Artist Level</td>\n",
       "      <td>artist</td>\n",
       "      <td>listeners</td>\n",
       "      <td>artist</td>\n",
       "      <td>weekly</td>\n",
       "      <td>city</td>\n",
       "    </tr>\n",
       "    <tr>\n",
       "      <th>3</th>\n",
       "      <td>Birmingham</td>\n",
       "      <td>0</td>\n",
       "      <td>1</td>\n",
       "      <td>-</td>\n",
       "      <td>20240927</td>\n",
       "      <td>Artist Level</td>\n",
       "      <td>artist</td>\n",
       "      <td>listeners</td>\n",
       "      <td>artist</td>\n",
       "      <td>weekly</td>\n",
       "      <td>city</td>\n",
       "    </tr>\n",
       "    <tr>\n",
       "      <th>4</th>\n",
       "      <td>Brasília</td>\n",
       "      <td>0</td>\n",
       "      <td>1</td>\n",
       "      <td>-</td>\n",
       "      <td>20240927</td>\n",
       "      <td>Artist Level</td>\n",
       "      <td>artist</td>\n",
       "      <td>listeners</td>\n",
       "      <td>artist</td>\n",
       "      <td>weekly</td>\n",
       "      <td>city</td>\n",
       "    </tr>\n",
       "  </tbody>\n",
       "</table>\n",
       "</div>"
      ],
      "text/plain": [
       "         city  previous_period  current_period %_change      week  \\\n",
       "0  All Cities               23              11     -52%  20240927   \n",
       "1    Adelaide                0               1        -  20240927   \n",
       "2   Allentown                0               1        -  20240927   \n",
       "3  Birmingham                0               1        -  20240927   \n",
       "4    Brasília                0               1        -  20240927   \n",
       "\n",
       "           song song_id    measure   level period_type grouping  \n",
       "0  Artist Level  artist  listeners  artist      weekly     city  \n",
       "1  Artist Level  artist  listeners  artist      weekly     city  \n",
       "2  Artist Level  artist  listeners  artist      weekly     city  \n",
       "3  Artist Level  artist  listeners  artist      weekly     city  \n",
       "4  Artist Level  artist  listeners  artist      weekly     city  "
      ]
     },
     "execution_count": 7,
     "metadata": {},
     "output_type": "execute_result"
    }
   ],
   "source": [
    "df.head()"
   ]
  },
  {
   "cell_type": "code",
   "execution_count": 8,
   "metadata": {},
   "outputs": [],
   "source": [
    "spl_df = calculate_streams_per_listener(df)"
   ]
  },
  {
   "cell_type": "code",
   "execution_count": 9,
   "metadata": {},
   "outputs": [
    {
     "data": {
      "text/html": [
       "<div>\n",
       "<style scoped>\n",
       "    .dataframe tbody tr th:only-of-type {\n",
       "        vertical-align: middle;\n",
       "    }\n",
       "\n",
       "    .dataframe tbody tr th {\n",
       "        vertical-align: top;\n",
       "    }\n",
       "\n",
       "    .dataframe thead th {\n",
       "        text-align: right;\n",
       "    }\n",
       "</style>\n",
       "<table border=\"1\" class=\"dataframe\">\n",
       "  <thead>\n",
       "    <tr style=\"text-align: right;\">\n",
       "      <th></th>\n",
       "      <th>city</th>\n",
       "      <th>week</th>\n",
       "      <th>song</th>\n",
       "      <th>plays</th>\n",
       "      <th>listeners</th>\n",
       "      <th>streams_per_listener</th>\n",
       "    </tr>\n",
       "  </thead>\n",
       "  <tbody>\n",
       "    <tr>\n",
       "      <th>58</th>\n",
       "      <td>All Cities</td>\n",
       "      <td>20231110</td>\n",
       "      <td>All In</td>\n",
       "      <td>18</td>\n",
       "      <td>12.0</td>\n",
       "      <td>1.500000</td>\n",
       "    </tr>\n",
       "    <tr>\n",
       "      <th>59</th>\n",
       "      <td>All Cities</td>\n",
       "      <td>20231110</td>\n",
       "      <td>Crash</td>\n",
       "      <td>19</td>\n",
       "      <td>11.0</td>\n",
       "      <td>1.727273</td>\n",
       "    </tr>\n",
       "    <tr>\n",
       "      <th>60</th>\n",
       "      <td>All Cities</td>\n",
       "      <td>20231110</td>\n",
       "      <td>Cycles</td>\n",
       "      <td>37</td>\n",
       "      <td>19.0</td>\n",
       "      <td>1.947368</td>\n",
       "    </tr>\n",
       "    <tr>\n",
       "      <th>61</th>\n",
       "      <td>All Cities</td>\n",
       "      <td>20231110</td>\n",
       "      <td>Easy</td>\n",
       "      <td>18</td>\n",
       "      <td>13.0</td>\n",
       "      <td>1.384615</td>\n",
       "    </tr>\n",
       "    <tr>\n",
       "      <th>62</th>\n",
       "      <td>All Cities</td>\n",
       "      <td>20231110</td>\n",
       "      <td>Holding On</td>\n",
       "      <td>28</td>\n",
       "      <td>17.0</td>\n",
       "      <td>1.647059</td>\n",
       "    </tr>\n",
       "  </tbody>\n",
       "</table>\n",
       "</div>"
      ],
      "text/plain": [
       "          city      week        song  plays  listeners  streams_per_listener\n",
       "58  All Cities  20231110      All In     18       12.0              1.500000\n",
       "59  All Cities  20231110       Crash     19       11.0              1.727273\n",
       "60  All Cities  20231110      Cycles     37       19.0              1.947368\n",
       "61  All Cities  20231110        Easy     18       13.0              1.384615\n",
       "62  All Cities  20231110  Holding On     28       17.0              1.647059"
      ]
     },
     "execution_count": 9,
     "metadata": {},
     "output_type": "execute_result"
    }
   ],
   "source": [
    "spl_df[spl_df.city == 'All Cities'].head()"
   ]
  },
  {
   "cell_type": "code",
   "execution_count": 10,
   "metadata": {},
   "outputs": [
    {
     "name": "stdout",
     "output_type": "stream",
     "text": [
      "\n",
      "Top 5 Cities by Average Monthly Listeners (Artist Level):\n",
      "- Denver: 9 listeners\n",
      "- Atlanta: 9 listeners\n",
      "- New York City: 8 listeners\n",
      "- Toronto: 7 listeners\n",
      "- Chicago: 6 listeners\n",
      "\n",
      "City options for dropdown: ['All Cities', 'Denver', 'Atlanta', 'New York City', 'Toronto', 'Chicago']\n",
      "\n",
      "Stickiness Metrics Summary (First 12 Weeks After Release):\n",
      "================================================================================\n",
      "\n",
      "Key Metrics:\n",
      "- WAU (Weekly Active Users): Number of unique listeners in a given week\n",
      "- MAU (Monthly Active Users): Number of unique listeners in the month containing that week\n",
      "- Stickiness Ratio: (WAU/MAU) * 100 - Higher ratio indicates better retention\n",
      "  (e.g., 50% means half of monthly listeners were active in the current week)\n",
      "\n",
      "Note: Analysis limited to first 12 weeks after release and excludes incomplete months\n"
     ]
    },
    {
     "data": {
      "application/vnd.plotly.v1+json": {
       "config": {
        "plotlyServerURL": "https://plot.ly"
       },
       "data": [
        {
         "colorbar": {
          "title": {
           "text": "Stickiness Ratio (%)"
          }
         },
         "colorscale": [
          [
           0,
           "#440154"
          ],
          [
           0.1111111111111111,
           "#482878"
          ],
          [
           0.2222222222222222,
           "#3e4989"
          ],
          [
           0.3333333333333333,
           "#31688e"
          ],
          [
           0.4444444444444444,
           "#26828e"
          ],
          [
           0.5555555555555556,
           "#1f9e89"
          ],
          [
           0.6666666666666666,
           "#35b779"
          ],
          [
           0.7777777777777778,
           "#6ece58"
          ],
          [
           0.8888888888888888,
           "#b5de2b"
          ],
          [
           1,
           "#fde725"
          ]
         ],
         "customdata": {
          "bdata": "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",
          "dtype": "f8",
          "shape": "12, 12, 2"
         },
         "hovertemplate": "Song: %{y}<br>Weeks Since Release: %{x}<br>WAU: %{customdata[0]:.0f}<br>MAU: %{customdata[1]:.0f}<br>Stickiness Ratio: %{z:.1f}%<extra></extra>",
         "type": "heatmap",
         "x": {
          "bdata": "AQIDBAUGBwgJCgsM",
          "dtype": "i1"
         },
         "y": [
          "The Way That It Was",
          "Holding On",
          "Kid",
          "Cycles",
          "Althea",
          "Slipping Away",
          "All In",
          "Crash",
          "What Home Is",
          "Easy",
          "That Thing",
          "Breaking Me Down"
         ],
         "z": {
          "bdata": "zczMzMzMO0AzMzMzM7MwQAAAAAAAAAAAMzMzMzMzRkBmZmZmZqZAQM3MzMzMzEtAMzMzMzMzJkCamZmZmZksQDMzMzMzc0VAmpmZmZmZLECamZmZmZksQAAAAAAAAElAMzMzMzMzM0CamZmZmRk3QM3MzMzMzBpAZmZmZmamSkBmZmZmZqZAQAAAAAAAAERAmpmZmZmZKkAAAAAAAAAAADMzMzMzszBAZmZmZmamQEAzMzMzM7MwQM3MzMzMrFBAZmZmZmZmMUCamZmZmRk6QAAAAAAAADRAZmZmZmamQEAzMzMzM7M6QAAAAAAAAERAAAAAAAAANEAAAAAAAAA0QAAAAAAAADRAAAAAAAAANEAAAAAAAAA0QM3MzMzMrFBAZmZmZmbmPEBmZmZmZuY8QAAAAAAAADlAZmZmZmamQEBmZmZmZqZAQDMzMzMzMz1AAAAAAAAAOUAAAAAAAAAkQAAAAAAAADRAAAAAAAAAREAAAAAAAAA0QAAAAAAAAERAmpmZmZm5UUCamZmZmRlHQM3MzMzMTD1AzczMzMzMFEBmZmZmZmYKQM3MzMzMDEJAzczMzMyMQUBmZmZmZuY9QDMzMzMzszZAzczMzMzMKkCamZmZmdlBQM3MzMzMzDdAZmZmZmZmPUCamZmZmZkxQDMzMzMzMzJAAAAAAADARkAzMzMzMzMiQAAAAAAAwEZAMzMzMzMzIkAAAAAAAAAAAAAAAAAAAERAAAAAAAAANEAAAAAAAAA0QAAAAAAAAElAzczMzMzMN0BmZmZmZqZAQGZmZmZmZhxAMzMzMzNzRUBmZmZmZmY1QAAAAAAAAElAmpmZmZmZLEAAAAAAAAApQAAAAAAAADlAAAAAAAAAOUAAAAAAAAApQAAAAAAAAElAzczMzMxMOkBmZmZmZmZCQM3MzMzMzB5AmpmZmZkZR0DNzMzMzMw+QJqZmZmZGUdAAAAAAAAAAAAAAAAAAAAAAAAAAAAAAElAAAAAAAAAAAAAAAAAAAD4f2ZmZmZmpkBAzczMzMxMN0DNzMzMzEw3QAAAAAAAADlAAAAAAAAAAAAAAAAAAAA5QAAAAAAAwEJAzczMzMzMMkAAAAAAAAAAAAAAAAAAAElAMzMzMzOzMEBmZmZmZqZAQAAAAAAAADRAAAAAAAAANEAAAAAAAAAuQDMzMzMzMyJAAAAAAADARkAzMzMzMzNCQM3MzMzMTDtAMzMzMzMzMkAAAAAAAAAAAGZmZmZmpkBAAAAAAAAAAAAAAAAAAAD4fwAAAAAAAElAmpmZmZmZTEAAAAAAAAApQM3MzMzMDEpAmpmZmZmZL0AzMzMzMzMlQAAAAAAAAPh/AAAAAAAA+H8AAAAAAAD4fwAAAAAAAPh/AAAAAAAA+H8AAAAAAAD4fwAAAAAAAPh/AAAAAAAA+H8AAAAAAAD4fwAAAAAAAPh/AAAAAAAA+H8AAAAAAAD4fwAAAAAAAPh/AAAAAAAA+H8AAAAAAAD4fwAAAAAAAPh/AAAAAAAA+H8AAAAAAAD4fwAAAAAAAPh/",
          "dtype": "f8",
          "shape": "12, 12"
         }
        }
       ],
       "layout": {
        "height": 600,
        "template": {
         "data": {
          "bar": [
           {
            "error_x": {
             "color": "#2a3f5f"
            },
            "error_y": {
             "color": "#2a3f5f"
            },
            "marker": {
             "line": {
              "color": "#E5ECF6",
              "width": 0.5
             },
             "pattern": {
              "fillmode": "overlay",
              "size": 10,
              "solidity": 0.2
             }
            },
            "type": "bar"
           }
          ],
          "barpolar": [
           {
            "marker": {
             "line": {
              "color": "#E5ECF6",
              "width": 0.5
             },
             "pattern": {
              "fillmode": "overlay",
              "size": 10,
              "solidity": 0.2
             }
            },
            "type": "barpolar"
           }
          ],
          "carpet": [
           {
            "aaxis": {
             "endlinecolor": "#2a3f5f",
             "gridcolor": "white",
             "linecolor": "white",
             "minorgridcolor": "white",
             "startlinecolor": "#2a3f5f"
            },
            "baxis": {
             "endlinecolor": "#2a3f5f",
             "gridcolor": "white",
             "linecolor": "white",
             "minorgridcolor": "white",
             "startlinecolor": "#2a3f5f"
            },
            "type": "carpet"
           }
          ],
          "choropleth": [
           {
            "colorbar": {
             "outlinewidth": 0,
             "ticks": ""
            },
            "type": "choropleth"
           }
          ],
          "contour": [
           {
            "colorbar": {
             "outlinewidth": 0,
             "ticks": ""
            },
            "colorscale": [
             [
              0,
              "#0d0887"
             ],
             [
              0.1111111111111111,
              "#46039f"
             ],
             [
              0.2222222222222222,
              "#7201a8"
             ],
             [
              0.3333333333333333,
              "#9c179e"
             ],
             [
              0.4444444444444444,
              "#bd3786"
             ],
             [
              0.5555555555555556,
              "#d8576b"
             ],
             [
              0.6666666666666666,
              "#ed7953"
             ],
             [
              0.7777777777777778,
              "#fb9f3a"
             ],
             [
              0.8888888888888888,
              "#fdca26"
             ],
             [
              1,
              "#f0f921"
             ]
            ],
            "type": "contour"
           }
          ],
          "contourcarpet": [
           {
            "colorbar": {
             "outlinewidth": 0,
             "ticks": ""
            },
            "type": "contourcarpet"
           }
          ],
          "heatmap": [
           {
            "colorbar": {
             "outlinewidth": 0,
             "ticks": ""
            },
            "colorscale": [
             [
              0,
              "#0d0887"
             ],
             [
              0.1111111111111111,
              "#46039f"
             ],
             [
              0.2222222222222222,
              "#7201a8"
             ],
             [
              0.3333333333333333,
              "#9c179e"
             ],
             [
              0.4444444444444444,
              "#bd3786"
             ],
             [
              0.5555555555555556,
              "#d8576b"
             ],
             [
              0.6666666666666666,
              "#ed7953"
             ],
             [
              0.7777777777777778,
              "#fb9f3a"
             ],
             [
              0.8888888888888888,
              "#fdca26"
             ],
             [
              1,
              "#f0f921"
             ]
            ],
            "type": "heatmap"
           }
          ],
          "histogram": [
           {
            "marker": {
             "pattern": {
              "fillmode": "overlay",
              "size": 10,
              "solidity": 0.2
             }
            },
            "type": "histogram"
           }
          ],
          "histogram2d": [
           {
            "colorbar": {
             "outlinewidth": 0,
             "ticks": ""
            },
            "colorscale": [
             [
              0,
              "#0d0887"
             ],
             [
              0.1111111111111111,
              "#46039f"
             ],
             [
              0.2222222222222222,
              "#7201a8"
             ],
             [
              0.3333333333333333,
              "#9c179e"
             ],
             [
              0.4444444444444444,
              "#bd3786"
             ],
             [
              0.5555555555555556,
              "#d8576b"
             ],
             [
              0.6666666666666666,
              "#ed7953"
             ],
             [
              0.7777777777777778,
              "#fb9f3a"
             ],
             [
              0.8888888888888888,
              "#fdca26"
             ],
             [
              1,
              "#f0f921"
             ]
            ],
            "type": "histogram2d"
           }
          ],
          "histogram2dcontour": [
           {
            "colorbar": {
             "outlinewidth": 0,
             "ticks": ""
            },
            "colorscale": [
             [
              0,
              "#0d0887"
             ],
             [
              0.1111111111111111,
              "#46039f"
             ],
             [
              0.2222222222222222,
              "#7201a8"
             ],
             [
              0.3333333333333333,
              "#9c179e"
             ],
             [
              0.4444444444444444,
              "#bd3786"
             ],
             [
              0.5555555555555556,
              "#d8576b"
             ],
             [
              0.6666666666666666,
              "#ed7953"
             ],
             [
              0.7777777777777778,
              "#fb9f3a"
             ],
             [
              0.8888888888888888,
              "#fdca26"
             ],
             [
              1,
              "#f0f921"
             ]
            ],
            "type": "histogram2dcontour"
           }
          ],
          "mesh3d": [
           {
            "colorbar": {
             "outlinewidth": 0,
             "ticks": ""
            },
            "type": "mesh3d"
           }
          ],
          "parcoords": [
           {
            "line": {
             "colorbar": {
              "outlinewidth": 0,
              "ticks": ""
             }
            },
            "type": "parcoords"
           }
          ],
          "pie": [
           {
            "automargin": true,
            "type": "pie"
           }
          ],
          "scatter": [
           {
            "fillpattern": {
             "fillmode": "overlay",
             "size": 10,
             "solidity": 0.2
            },
            "type": "scatter"
           }
          ],
          "scatter3d": [
           {
            "line": {
             "colorbar": {
              "outlinewidth": 0,
              "ticks": ""
             }
            },
            "marker": {
             "colorbar": {
              "outlinewidth": 0,
              "ticks": ""
             }
            },
            "type": "scatter3d"
           }
          ],
          "scattercarpet": [
           {
            "marker": {
             "colorbar": {
              "outlinewidth": 0,
              "ticks": ""
             }
            },
            "type": "scattercarpet"
           }
          ],
          "scattergeo": [
           {
            "marker": {
             "colorbar": {
              "outlinewidth": 0,
              "ticks": ""
             }
            },
            "type": "scattergeo"
           }
          ],
          "scattergl": [
           {
            "marker": {
             "colorbar": {
              "outlinewidth": 0,
              "ticks": ""
             }
            },
            "type": "scattergl"
           }
          ],
          "scattermap": [
           {
            "marker": {
             "colorbar": {
              "outlinewidth": 0,
              "ticks": ""
             }
            },
            "type": "scattermap"
           }
          ],
          "scattermapbox": [
           {
            "marker": {
             "colorbar": {
              "outlinewidth": 0,
              "ticks": ""
             }
            },
            "type": "scattermapbox"
           }
          ],
          "scatterpolar": [
           {
            "marker": {
             "colorbar": {
              "outlinewidth": 0,
              "ticks": ""
             }
            },
            "type": "scatterpolar"
           }
          ],
          "scatterpolargl": [
           {
            "marker": {
             "colorbar": {
              "outlinewidth": 0,
              "ticks": ""
             }
            },
            "type": "scatterpolargl"
           }
          ],
          "scatterternary": [
           {
            "marker": {
             "colorbar": {
              "outlinewidth": 0,
              "ticks": ""
             }
            },
            "type": "scatterternary"
           }
          ],
          "surface": [
           {
            "colorbar": {
             "outlinewidth": 0,
             "ticks": ""
            },
            "colorscale": [
             [
              0,
              "#0d0887"
             ],
             [
              0.1111111111111111,
              "#46039f"
             ],
             [
              0.2222222222222222,
              "#7201a8"
             ],
             [
              0.3333333333333333,
              "#9c179e"
             ],
             [
              0.4444444444444444,
              "#bd3786"
             ],
             [
              0.5555555555555556,
              "#d8576b"
             ],
             [
              0.6666666666666666,
              "#ed7953"
             ],
             [
              0.7777777777777778,
              "#fb9f3a"
             ],
             [
              0.8888888888888888,
              "#fdca26"
             ],
             [
              1,
              "#f0f921"
             ]
            ],
            "type": "surface"
           }
          ],
          "table": [
           {
            "cells": {
             "fill": {
              "color": "#EBF0F8"
             },
             "line": {
              "color": "white"
             }
            },
            "header": {
             "fill": {
              "color": "#C8D4E3"
             },
             "line": {
              "color": "white"
             }
            },
            "type": "table"
           }
          ]
         },
         "layout": {
          "annotationdefaults": {
           "arrowcolor": "#2a3f5f",
           "arrowhead": 0,
           "arrowwidth": 1
          },
          "autotypenumbers": "strict",
          "coloraxis": {
           "colorbar": {
            "outlinewidth": 0,
            "ticks": ""
           }
          },
          "colorscale": {
           "diverging": [
            [
             0,
             "#8e0152"
            ],
            [
             0.1,
             "#c51b7d"
            ],
            [
             0.2,
             "#de77ae"
            ],
            [
             0.3,
             "#f1b6da"
            ],
            [
             0.4,
             "#fde0ef"
            ],
            [
             0.5,
             "#f7f7f7"
            ],
            [
             0.6,
             "#e6f5d0"
            ],
            [
             0.7,
             "#b8e186"
            ],
            [
             0.8,
             "#7fbc41"
            ],
            [
             0.9,
             "#4d9221"
            ],
            [
             1,
             "#276419"
            ]
           ],
           "sequential": [
            [
             0,
             "#0d0887"
            ],
            [
             0.1111111111111111,
             "#46039f"
            ],
            [
             0.2222222222222222,
             "#7201a8"
            ],
            [
             0.3333333333333333,
             "#9c179e"
            ],
            [
             0.4444444444444444,
             "#bd3786"
            ],
            [
             0.5555555555555556,
             "#d8576b"
            ],
            [
             0.6666666666666666,
             "#ed7953"
            ],
            [
             0.7777777777777778,
             "#fb9f3a"
            ],
            [
             0.8888888888888888,
             "#fdca26"
            ],
            [
             1,
             "#f0f921"
            ]
           ],
           "sequentialminus": [
            [
             0,
             "#0d0887"
            ],
            [
             0.1111111111111111,
             "#46039f"
            ],
            [
             0.2222222222222222,
             "#7201a8"
            ],
            [
             0.3333333333333333,
             "#9c179e"
            ],
            [
             0.4444444444444444,
             "#bd3786"
            ],
            [
             0.5555555555555556,
             "#d8576b"
            ],
            [
             0.6666666666666666,
             "#ed7953"
            ],
            [
             0.7777777777777778,
             "#fb9f3a"
            ],
            [
             0.8888888888888888,
             "#fdca26"
            ],
            [
             1,
             "#f0f921"
            ]
           ]
          },
          "colorway": [
           "#636efa",
           "#EF553B",
           "#00cc96",
           "#ab63fa",
           "#FFA15A",
           "#19d3f3",
           "#FF6692",
           "#B6E880",
           "#FF97FF",
           "#FECB52"
          ],
          "font": {
           "color": "#2a3f5f"
          },
          "geo": {
           "bgcolor": "white",
           "lakecolor": "white",
           "landcolor": "#E5ECF6",
           "showlakes": true,
           "showland": true,
           "subunitcolor": "white"
          },
          "hoverlabel": {
           "align": "left"
          },
          "hovermode": "closest",
          "mapbox": {
           "style": "light"
          },
          "paper_bgcolor": "white",
          "plot_bgcolor": "#E5ECF6",
          "polar": {
           "angularaxis": {
            "gridcolor": "white",
            "linecolor": "white",
            "ticks": ""
           },
           "bgcolor": "#E5ECF6",
           "radialaxis": {
            "gridcolor": "white",
            "linecolor": "white",
            "ticks": ""
           }
          },
          "scene": {
           "xaxis": {
            "backgroundcolor": "#E5ECF6",
            "gridcolor": "white",
            "gridwidth": 2,
            "linecolor": "white",
            "showbackground": true,
            "ticks": "",
            "zerolinecolor": "white"
           },
           "yaxis": {
            "backgroundcolor": "#E5ECF6",
            "gridcolor": "white",
            "gridwidth": 2,
            "linecolor": "white",
            "showbackground": true,
            "ticks": "",
            "zerolinecolor": "white"
           },
           "zaxis": {
            "backgroundcolor": "#E5ECF6",
            "gridcolor": "white",
            "gridwidth": 2,
            "linecolor": "white",
            "showbackground": true,
            "ticks": "",
            "zerolinecolor": "white"
           }
          },
          "shapedefaults": {
           "line": {
            "color": "#2a3f5f"
           }
          },
          "ternary": {
           "aaxis": {
            "gridcolor": "white",
            "linecolor": "white",
            "ticks": ""
           },
           "baxis": {
            "gridcolor": "white",
            "linecolor": "white",
            "ticks": ""
           },
           "bgcolor": "#E5ECF6",
           "caxis": {
            "gridcolor": "white",
            "linecolor": "white",
            "ticks": ""
           }
          },
          "title": {
           "x": 0.05
          },
          "xaxis": {
           "automargin": true,
           "gridcolor": "white",
           "linecolor": "white",
           "ticks": "",
           "title": {
            "standoff": 15
           },
           "zerolinecolor": "white",
           "zerolinewidth": 2
          },
          "yaxis": {
           "automargin": true,
           "gridcolor": "white",
           "linecolor": "white",
           "ticks": "",
           "title": {
            "standoff": 15
           },
           "zerolinecolor": "white",
           "zerolinewidth": 2
          }
         }
        },
        "title": {
         "text": "Stickiness Ratio Heatmap (Song vs. Weeks Since Release)"
        },
        "updatemenus": [
         {
          "buttons": [
           {
            "args": [
             {
              "customdata": [
               [
                [
                 [
                  5,
                  18
                 ],
                 [
                  3,
                  18
                 ],
                 [
                  0,
                  9
                 ],
                 [
                  4,
                  9
                 ],
                 [
                  3,
                  9
                 ],
                 [
                  5,
                  9
                 ],
                 [
                  1,
                  9
                 ],
                 [
                  1,
                  7
                 ],
                 [
                  3,
                  7
                 ],
                 [
                  1,
                  7
                 ],
                 [
                  1,
                  7
                 ],
                 [
                  1,
                  2
                 ]
                ],
                [
                 [
                  5,
                  26
                 ],
                 [
                  6,
                  26
                 ],
                 [
                  1,
                  15
                 ],
                 [
                  8,
                  15
                 ],
                 [
                  5,
                  15
                 ],
                 [
                  6,
                  15
                 ],
                 [
                  2,
                  15
                 ],
                 [
                  0,
                  6
                 ],
                 [
                  1,
                  6
                 ],
                 [
                  2,
                  6
                 ],
                 [
                  1,
                  6
                 ],
                 [
                  4,
                  6
                 ]
                ],
                [
                 [
                  4,
                  23
                 ],
                 [
                  6,
                  23
                 ],
                 [
                  3,
                  15
                 ],
                 [
                  5,
                  15
                 ],
                 [
                  4,
                  15
                 ],
                 [
                  6,
                  15
                 ],
                 [
                  3,
                  15
                 ],
                 [
                  1,
                  5
                 ],
                 [
                  1,
                  5
                 ],
                 [
                  1,
                  5
                 ],
                 [
                  1,
                  5
                 ],
                 [
                  2,
                  3
                 ]
                ],
                [
                 [
                  11,
                  38
                 ],
                 [
                  11,
                  38
                 ],
                 [
                  6,
                  24
                 ],
                 [
                  8,
                  24
                 ],
                 [
                  8,
                  24
                 ],
                 [
                  7,
                  24
                 ],
                 [
                  6,
                  24
                 ],
                 [
                  1,
                  10
                 ],
                 [
                  2,
                  10
                 ],
                 [
                  4,
                  10
                 ],
                 [
                  2,
                  10
                 ],
                 [
                  2,
                  5
                 ]
                ],
                [
                 [
                  812,
                  1145
                 ],
                 [
                  504,
                  1092
                 ],
                 [
                  320,
                  1092
                 ],
                 [
                  57,
                  1092
                 ],
                 [
                  36,
                  1092
                 ],
                 [
                  35,
                  97
                 ],
                 [
                  34,
                  97
                 ],
                 [
                  29,
                  97
                 ],
                 [
                  22,
                  97
                 ],
                 [
                  13,
                  97
                 ],
                 [
                  15,
                  42
                 ],
                 [
                  10,
                  42
                 ]
                ],
                [
                 [
                  5,
                  17
                 ],
                 [
                  3,
                  17
                 ],
                 [
                  2,
                  11
                 ],
                 [
                  5,
                  11
                 ],
                 [
                  1,
                  11
                 ],
                 [
                  5,
                  11
                 ],
                 [
                  1,
                  11
                 ],
                 [
                  0,
                  5
                 ],
                 [
                  2,
                  5
                 ],
                 [
                  1,
                  5
                 ],
                 [
                  1,
                  5
                 ],
                 [
                  1,
                  2
                 ]
                ],
                [
                 [
                  5,
                  21
                 ],
                 [
                  7,
                  21
                 ],
                 [
                  1,
                  14
                 ],
                 [
                  6,
                  14
                 ],
                 [
                  3,
                  14
                 ],
                 [
                  7,
                  14
                 ],
                 [
                  2,
                  14
                 ],
                 [
                  1,
                  8
                 ],
                 [
                  2,
                  8
                 ],
                 [
                  2,
                  8
                 ],
                 [
                  1,
                  8
                 ],
                 [
                  1,
                  2
                 ]
                ],
                [
                 [
                  5,
                  19
                 ],
                 [
                  7,
                  19
                 ],
                 [
                  1,
                  13
                 ],
                 [
                  6,
                  13
                 ],
                 [
                  4,
                  13
                 ],
                 [
                  6,
                  13
                 ],
                 [
                  0,
                  13
                 ],
                 [
                  0,
                  2
                 ],
                 [
                  1,
                  2
                 ],
                 [
                  0,
                  2
                 ],
                 [
                  null,
                  null
                 ],
                 [
                  1,
                  3
                 ]
                ],
                [
                 [
                  7,
                  30
                 ],
                 [
                  7,
                  30
                 ],
                 [
                  4,
                  16
                 ],
                 [
                  0,
                  16
                 ],
                 [
                  4,
                  16
                 ],
                 [
                  6,
                  16
                 ],
                 [
                  3,
                  16
                 ],
                 [
                  0,
                  6
                 ],
                 [
                  3,
                  6
                 ],
                 [
                  1,
                  6
                 ],
                 [
                  2,
                  6
                 ],
                 [
                  1,
                  5
                 ]
                ],
                [
                 [
                  4,
                  20
                 ],
                 [
                  3,
                  20
                 ],
                 [
                  1,
                  11
                 ],
                 [
                  5,
                  11
                 ],
                 [
                  4,
                  11
                 ],
                 [
                  3,
                  11
                 ],
                 [
                  2,
                  11
                 ],
                 [
                  0,
                  3
                 ],
                 [
                  1,
                  3
                 ],
                 [
                  0,
                  3
                 ],
                 [
                  null,
                  null
                 ],
                 [
                  1,
                  2
                 ]
                ],
                [
                 [
                  257,
                  449
                 ],
                 [
                  39,
                  311
                 ],
                 [
                  162,
                  311
                 ],
                 [
                  49,
                  311
                 ],
                 [
                  33,
                  311
                 ],
                 [
                  null,
                  null
                 ],
                 [
                  null,
                  null
                 ],
                 [
                  null,
                  null
                 ],
                 [
                  null,
                  null
                 ],
                 [
                  null,
                  null
                 ],
                 [
                  null,
                  null
                 ],
                 [
                  null,
                  null
                 ]
                ],
                [
                 [
                  null,
                  null
                 ],
                 [
                  null,
                  null
                 ],
                 [
                  null,
                  null
                 ],
                 [
                  null,
                  null
                 ],
                 [
                  null,
                  null
                 ],
                 [
                  null,
                  null
                 ],
                 [
                  null,
                  null
                 ],
                 [
                  null,
                  null
                 ],
                 [
                  null,
                  null
                 ],
                 [
                  null,
                  null
                 ],
                 [
                  null,
                  null
                 ],
                 [
                  null,
                  null
                 ]
                ]
               ]
              ],
              "z": [
               [
                [
                 27.8,
                 16.7,
                 0,
                 44.4,
                 33.3,
                 55.6,
                 11.1,
                 14.3,
                 42.9,
                 14.3,
                 14.3,
                 50
                ],
                [
                 19.2,
                 23.1,
                 6.7,
                 53.3,
                 33.3,
                 40,
                 13.3,
                 0,
                 16.7,
                 33.3,
                 16.7,
                 66.7
                ],
                [
                 17.4,
                 26.1,
                 20,
                 33.3,
                 26.7,
                 40,
                 20,
                 20,
                 20,
                 20,
                 20,
                 66.7
                ],
                [
                 28.9,
                 28.9,
                 25,
                 33.3,
                 33.3,
                 29.2,
                 25,
                 10,
                 20,
                 40,
                 20,
                 40
                ],
                [
                 70.9,
                 46.2,
                 29.3,
                 5.2,
                 3.3,
                 36.1,
                 35.1,
                 29.9,
                 22.7,
                 13.4,
                 35.7,
                 23.8
                ],
                [
                 29.4,
                 17.6,
                 18.2,
                 45.5,
                 9.1,
                 45.5,
                 9.1,
                 0,
                 40,
                 20,
                 20,
                 50
                ],
                [
                 23.8,
                 33.3,
                 7.1,
                 42.9,
                 21.4,
                 50,
                 14.3,
                 12.5,
                 25,
                 25,
                 12.5,
                 50
                ],
                [
                 26.3,
                 36.8,
                 7.7,
                 46.2,
                 30.8,
                 46.2,
                 0,
                 0,
                 50,
                 0,
                 null,
                 33.3
                ],
                [
                 23.3,
                 23.3,
                 25,
                 0,
                 25,
                 37.5,
                 18.8,
                 0,
                 50,
                 16.7,
                 33.3,
                 20
                ],
                [
                 20,
                 15,
                 9.1,
                 45.5,
                 36.4,
                 27.3,
                 18.2,
                 0,
                 33.3,
                 0,
                 null,
                 50
                ],
                [
                 57.2,
                 12.5,
                 52.1,
                 15.8,
                 10.6,
                 null,
                 null,
                 null,
                 null,
                 null,
                 null,
                 null
                ],
                [
                 null,
                 null,
                 null,
                 null,
                 null,
                 null,
                 null,
                 null,
                 null,
                 null,
                 null,
                 null
                ]
               ]
              ]
             }
            ],
            "label": "All Cities",
            "method": "restyle"
           },
           {
            "args": [
             {
              "customdata": [
               [
                [
                 [
                  0,
                  2
                 ],
                 [
                  1,
                  2
                 ],
                 [
                  0,
                  0
                 ],
                 [
                  null,
                  null
                 ],
                 [
                  null,
                  null
                 ],
                 [
                  null,
                  null
                 ],
                 [
                  null,
                  null
                 ],
                 [
                  null,
                  null
                 ],
                 [
                  null,
                  null
                 ],
                 [
                  null,
                  null
                 ],
                 [
                  null,
                  null
                 ],
                 [
                  null,
                  null
                 ]
                ],
                [
                 [
                  0,
                  2
                 ],
                 [
                  null,
                  null
                 ],
                 [
                  null,
                  null
                 ],
                 [
                  null,
                  null
                 ],
                 [
                  null,
                  null
                 ],
                 [
                  null,
                  null
                 ],
                 [
                  null,
                  null
                 ],
                 [
                  null,
                  null
                 ],
                 [
                  null,
                  null
                 ],
                 [
                  null,
                  null
                 ],
                 [
                  null,
                  null
                 ],
                 [
                  null,
                  null
                 ]
                ],
                [
                 [
                  0,
                  2
                 ],
                 [
                  null,
                  null
                 ],
                 [
                  1,
                  1
                 ],
                 [
                  0,
                  1
                 ],
                 [
                  null,
                  null
                 ],
                 [
                  null,
                  null
                 ],
                 [
                  null,
                  null
                 ],
                 [
                  null,
                  null
                 ],
                 [
                  null,
                  null
                 ],
                 [
                  null,
                  null
                 ],
                 [
                  null,
                  null
                 ],
                 [
                  null,
                  null
                 ]
                ],
                [
                 [
                  2,
                  5
                 ],
                 [
                  1,
                  5
                 ],
                 [
                  2,
                  3
                 ],
                 [
                  1,
                  3
                 ],
                 [
                  0,
                  3
                 ],
                 [
                  null,
                  null
                 ],
                 [
                  null,
                  null
                 ],
                 [
                  null,
                  null
                 ],
                 [
                  null,
                  null
                 ],
                 [
                  null,
                  null
                 ],
                 [
                  null,
                  null
                 ],
                 [
                  null,
                  null
                 ]
                ],
                [
                 [
                  38,
                  56
                 ],
                 [
                  16,
                  32
                 ],
                 [
                  8,
                  32
                 ],
                 [
                  2,
                  32
                 ],
                 [
                  1,
                  32
                 ],
                 [
                  0,
                  4
                 ],
                 [
                  1,
                  4
                 ],
                 [
                  1,
                  4
                 ],
                 [
                  1,
                  4
                 ],
                 [
                  0,
                  4
                 ],
                 [
                  1,
                  1
                 ],
                 [
                  0,
                  1
                 ]
                ],
                [
                 [
                  0,
                  2
                 ],
                 [
                  null,
                  null
                 ],
                 [
                  1,
                  1
                 ],
                 [
                  0,
                  1
                 ],
                 [
                  null,
                  null
                 ],
                 [
                  1,
                  1
                 ],
                 [
                  0,
                  1
                 ],
                 [
                  null,
                  null
                 ],
                 [
                  null,
                  null
                 ],
                 [
                  null,
                  null
                 ],
                 [
                  null,
                  null
                 ],
                 [
                  null,
                  null
                 ]
                ],
                [
                 [
                  0,
                  2
                 ],
                 [
                  1,
                  2
                 ],
                 [
                  1,
                  1
                 ],
                 [
                  0,
                  1
                 ],
                 [
                  null,
                  null
                 ],
                 [
                  null,
                  null
                 ],
                 [
                  null,
                  null
                 ],
                 [
                  null,
                  null
                 ],
                 [
                  null,
                  null
                 ],
                 [
                  null,
                  null
                 ],
                 [
                  null,
                  null
                 ],
                 [
                  null,
                  null
                 ]
                ],
                [
                 [
                  0,
                  1
                 ],
                 [
                  1,
                  1
                 ],
                 [
                  0,
                  0
                 ],
                 [
                  null,
                  null
                 ],
                 [
                  null,
                  null
                 ],
                 [
                  null,
                  null
                 ],
                 [
                  null,
                  null
                 ],
                 [
                  null,
                  null
                 ],
                 [
                  null,
                  null
                 ],
                 [
                  null,
                  null
                 ],
                 [
                  null,
                  null
                 ],
                 [
                  null,
                  null
                 ]
                ],
                [
                 [
                  2,
                  5
                 ],
                 [
                  0,
                  5
                 ],
                 [
                  1,
                  1
                 ],
                 [
                  0,
                  1
                 ],
                 [
                  null,
                  null
                 ],
                 [
                  null,
                  null
                 ],
                 [
                  null,
                  null
                 ],
                 [
                  null,
                  null
                 ],
                 [
                  null,
                  null
                 ],
                 [
                  null,
                  null
                 ],
                 [
                  null,
                  null
                 ],
                 [
                  null,
                  null
                 ]
                ],
                [
                 [
                  0,
                  2
                 ],
                 [
                  null,
                  null
                 ],
                 [
                  null,
                  null
                 ],
                 [
                  null,
                  null
                 ],
                 [
                  null,
                  null
                 ],
                 [
                  null,
                  null
                 ],
                 [
                  null,
                  null
                 ],
                 [
                  null,
                  null
                 ],
                 [
                  null,
                  null
                 ],
                 [
                  null,
                  null
                 ],
                 [
                  null,
                  null
                 ],
                 [
                  null,
                  null
                 ]
                ],
                [
                 [
                  9,
                  23
                 ],
                 [
                  1,
                  8
                 ],
                 [
                  5,
                  8
                 ],
                 [
                  1,
                  8
                 ],
                 [
                  2,
                  8
                 ],
                 [
                  null,
                  null
                 ],
                 [
                  null,
                  null
                 ],
                 [
                  null,
                  null
                 ],
                 [
                  null,
                  null
                 ],
                 [
                  null,
                  null
                 ],
                 [
                  null,
                  null
                 ],
                 [
                  null,
                  null
                 ]
                ],
                [
                 [
                  null,
                  null
                 ],
                 [
                  null,
                  null
                 ],
                 [
                  null,
                  null
                 ],
                 [
                  null,
                  null
                 ],
                 [
                  null,
                  null
                 ],
                 [
                  null,
                  null
                 ],
                 [
                  null,
                  null
                 ],
                 [
                  null,
                  null
                 ],
                 [
                  null,
                  null
                 ],
                 [
                  null,
                  null
                 ],
                 [
                  null,
                  null
                 ],
                 [
                  null,
                  null
                 ]
                ]
               ]
              ],
              "z": [
               [
                [
                 0,
                 50,
                 0,
                 null,
                 null,
                 null,
                 null,
                 null,
                 null,
                 null,
                 null,
                 null
                ],
                [
                 0,
                 null,
                 null,
                 null,
                 null,
                 null,
                 null,
                 null,
                 null,
                 null,
                 null,
                 null
                ],
                [
                 0,
                 null,
                 100,
                 0,
                 null,
                 null,
                 null,
                 null,
                 null,
                 null,
                 null,
                 null
                ],
                [
                 40,
                 20,
                 66.7,
                 33.3,
                 0,
                 null,
                 null,
                 null,
                 null,
                 null,
                 null,
                 null
                ],
                [
                 67.9,
                 50,
                 25,
                 6.2,
                 3.1,
                 0,
                 25,
                 25,
                 25,
                 0,
                 100,
                 0
                ],
                [
                 0,
                 null,
                 100,
                 0,
                 null,
                 100,
                 0,
                 null,
                 null,
                 null,
                 null,
                 null
                ],
                [
                 0,
                 50,
                 100,
                 0,
                 null,
                 null,
                 null,
                 null,
                 null,
                 null,
                 null,
                 null
                ],
                [
                 0,
                 100,
                 0,
                 null,
                 null,
                 null,
                 null,
                 null,
                 null,
                 null,
                 null,
                 null
                ],
                [
                 40,
                 0,
                 100,
                 0,
                 null,
                 null,
                 null,
                 null,
                 null,
                 null,
                 null,
                 null
                ],
                [
                 0,
                 null,
                 null,
                 null,
                 null,
                 null,
                 null,
                 null,
                 null,
                 null,
                 null,
                 null
                ],
                [
                 39.1,
                 12.5,
                 62.5,
                 12.5,
                 25,
                 null,
                 null,
                 null,
                 null,
                 null,
                 null,
                 null
                ],
                [
                 null,
                 null,
                 null,
                 null,
                 null,
                 null,
                 null,
                 null,
                 null,
                 null,
                 null,
                 null
                ]
               ]
              ]
             }
            ],
            "label": "Denver",
            "method": "restyle"
           },
           {
            "args": [
             {
              "customdata": [
               [
                [
                 [
                  null,
                  null
                 ],
                 [
                  null,
                  null
                 ],
                 [
                  null,
                  null
                 ],
                 [
                  null,
                  null
                 ],
                 [
                  null,
                  null
                 ],
                 [
                  null,
                  null
                 ],
                 [
                  null,
                  null
                 ],
                 [
                  null,
                  null
                 ],
                 [
                  null,
                  null
                 ],
                 [
                  null,
                  null
                 ],
                 [
                  null,
                  null
                 ],
                 [
                  null,
                  null
                 ]
                ],
                [
                 [
                  null,
                  null
                 ],
                 [
                  null,
                  null
                 ],
                 [
                  null,
                  null
                 ],
                 [
                  null,
                  null
                 ],
                 [
                  null,
                  null
                 ],
                 [
                  null,
                  null
                 ],
                 [
                  null,
                  null
                 ],
                 [
                  null,
                  null
                 ],
                 [
                  null,
                  null
                 ],
                 [
                  null,
                  null
                 ],
                 [
                  null,
                  null
                 ],
                 [
                  null,
                  null
                 ]
                ],
                [
                 [
                  null,
                  null
                 ],
                 [
                  null,
                  null
                 ],
                 [
                  null,
                  null
                 ],
                 [
                  null,
                  null
                 ],
                 [
                  null,
                  null
                 ],
                 [
                  null,
                  null
                 ],
                 [
                  null,
                  null
                 ],
                 [
                  null,
                  null
                 ],
                 [
                  null,
                  null
                 ],
                 [
                  null,
                  null
                 ],
                 [
                  null,
                  null
                 ],
                 [
                  null,
                  null
                 ]
                ],
                [
                 [
                  null,
                  null
                 ],
                 [
                  null,
                  null
                 ],
                 [
                  null,
                  null
                 ],
                 [
                  null,
                  null
                 ],
                 [
                  null,
                  null
                 ],
                 [
                  null,
                  null
                 ],
                 [
                  null,
                  null
                 ],
                 [
                  null,
                  null
                 ],
                 [
                  null,
                  null
                 ],
                 [
                  null,
                  null
                 ],
                 [
                  null,
                  null
                 ],
                 [
                  null,
                  null
                 ]
                ],
                [
                 [
                  25,
                  30
                 ],
                 [
                  11,
                  33
                 ],
                 [
                  11,
                  33
                 ],
                 [
                  1,
                  33
                 ],
                 [
                  2,
                  33
                 ],
                 [
                  0,
                  1
                 ],
                 [
                  null,
                  null
                 ],
                 [
                  null,
                  null
                 ],
                 [
                  null,
                  null
                 ],
                 [
                  1,
                  1
                 ],
                 [
                  0,
                  0
                 ],
                 [
                  null,
                  null
                 ]
                ],
                [
                 [
                  null,
                  null
                 ],
                 [
                  null,
                  null
                 ],
                 [
                  null,
                  null
                 ],
                 [
                  null,
                  null
                 ],
                 [
                  null,
                  null
                 ],
                 [
                  null,
                  null
                 ],
                 [
                  null,
                  null
                 ],
                 [
                  null,
                  null
                 ],
                 [
                  null,
                  null
                 ],
                 [
                  null,
                  null
                 ],
                 [
                  null,
                  null
                 ],
                 [
                  null,
                  null
                 ]
                ],
                [
                 [
                  null,
                  null
                 ],
                 [
                  null,
                  null
                 ],
                 [
                  null,
                  null
                 ],
                 [
                  null,
                  null
                 ],
                 [
                  null,
                  null
                 ],
                 [
                  null,
                  null
                 ],
                 [
                  null,
                  null
                 ],
                 [
                  null,
                  null
                 ],
                 [
                  null,
                  null
                 ],
                 [
                  null,
                  null
                 ],
                 [
                  null,
                  null
                 ],
                 [
                  null,
                  null
                 ]
                ],
                [
                 [
                  null,
                  null
                 ],
                 [
                  null,
                  null
                 ],
                 [
                  null,
                  null
                 ],
                 [
                  null,
                  null
                 ],
                 [
                  null,
                  null
                 ],
                 [
                  null,
                  null
                 ],
                 [
                  null,
                  null
                 ],
                 [
                  null,
                  null
                 ],
                 [
                  null,
                  null
                 ],
                 [
                  null,
                  null
                 ],
                 [
                  null,
                  null
                 ],
                 [
                  null,
                  null
                 ]
                ],
                [
                 [
                  null,
                  null
                 ],
                 [
                  null,
                  null
                 ],
                 [
                  null,
                  null
                 ],
                 [
                  null,
                  null
                 ],
                 [
                  null,
                  null
                 ],
                 [
                  null,
                  null
                 ],
                 [
                  null,
                  null
                 ],
                 [
                  null,
                  null
                 ],
                 [
                  null,
                  null
                 ],
                 [
                  null,
                  null
                 ],
                 [
                  null,
                  null
                 ],
                 [
                  null,
                  null
                 ]
                ],
                [
                 [
                  null,
                  null
                 ],
                 [
                  null,
                  null
                 ],
                 [
                  null,
                  null
                 ],
                 [
                  null,
                  null
                 ],
                 [
                  null,
                  null
                 ],
                 [
                  null,
                  null
                 ],
                 [
                  null,
                  null
                 ],
                 [
                  null,
                  null
                 ],
                 [
                  null,
                  null
                 ],
                 [
                  null,
                  null
                 ],
                 [
                  null,
                  null
                 ],
                 [
                  null,
                  null
                 ]
                ],
                [
                 [
                  10,
                  13
                 ],
                 [
                  0,
                  9
                 ],
                 [
                  5,
                  9
                 ],
                 [
                  2,
                  9
                 ],
                 [
                  1,
                  9
                 ],
                 [
                  null,
                  null
                 ],
                 [
                  null,
                  null
                 ],
                 [
                  null,
                  null
                 ],
                 [
                  null,
                  null
                 ],
                 [
                  null,
                  null
                 ],
                 [
                  null,
                  null
                 ],
                 [
                  null,
                  null
                 ]
                ],
                [
                 [
                  null,
                  null
                 ],
                 [
                  null,
                  null
                 ],
                 [
                  null,
                  null
                 ],
                 [
                  null,
                  null
                 ],
                 [
                  null,
                  null
                 ],
                 [
                  null,
                  null
                 ],
                 [
                  null,
                  null
                 ],
                 [
                  null,
                  null
                 ],
                 [
                  null,
                  null
                 ],
                 [
                  null,
                  null
                 ],
                 [
                  null,
                  null
                 ],
                 [
                  null,
                  null
                 ]
                ]
               ]
              ],
              "z": [
               [
                [
                 null,
                 null,
                 null,
                 null,
                 null,
                 null,
                 null,
                 null,
                 null,
                 null,
                 null,
                 null
                ],
                [
                 null,
                 null,
                 null,
                 null,
                 null,
                 null,
                 null,
                 null,
                 null,
                 null,
                 null,
                 null
                ],
                [
                 null,
                 null,
                 null,
                 null,
                 null,
                 null,
                 null,
                 null,
                 null,
                 null,
                 null,
                 null
                ],
                [
                 null,
                 null,
                 null,
                 null,
                 null,
                 null,
                 null,
                 null,
                 null,
                 null,
                 null,
                 null
                ],
                [
                 83.3,
                 33.3,
                 33.3,
                 3,
                 6.1,
                 0,
                 null,
                 null,
                 null,
                 100,
                 0,
                 null
                ],
                [
                 null,
                 null,
                 null,
                 null,
                 null,
                 null,
                 null,
                 null,
                 null,
                 null,
                 null,
                 null
                ],
                [
                 null,
                 null,
                 null,
                 null,
                 null,
                 null,
                 null,
                 null,
                 null,
                 null,
                 null,
                 null
                ],
                [
                 null,
                 null,
                 null,
                 null,
                 null,
                 null,
                 null,
                 null,
                 null,
                 null,
                 null,
                 null
                ],
                [
                 null,
                 null,
                 null,
                 null,
                 null,
                 null,
                 null,
                 null,
                 null,
                 null,
                 null,
                 null
                ],
                [
                 null,
                 null,
                 null,
                 null,
                 null,
                 null,
                 null,
                 null,
                 null,
                 null,
                 null,
                 null
                ],
                [
                 76.9,
                 0,
                 55.6,
                 22.2,
                 11.1,
                 null,
                 null,
                 null,
                 null,
                 null,
                 null,
                 null
                ],
                [
                 null,
                 null,
                 null,
                 null,
                 null,
                 null,
                 null,
                 null,
                 null,
                 null,
                 null,
                 null
                ]
               ]
              ]
             }
            ],
            "label": "Atlanta",
            "method": "restyle"
           },
           {
            "args": [
             {
              "customdata": [
               [
                [
                 [
                  0,
                  2
                 ],
                 [
                  1,
                  2
                 ],
                 [
                  0,
                  0
                 ],
                 [
                  null,
                  null
                 ],
                 [
                  null,
                  null
                 ],
                 [
                  null,
                  null
                 ],
                 [
                  null,
                  null
                 ],
                 [
                  null,
                  null
                 ],
                 [
                  1,
                  2
                 ],
                 [
                  0,
                  2
                 ],
                 [
                  1,
                  2
                 ],
                 [
                  1,
                  1
                 ]
                ],
                [
                 [
                  0,
                  2
                 ],
                 [
                  1,
                  2
                 ],
                 [
                  0,
                  0
                 ],
                 [
                  null,
                  null
                 ],
                 [
                  null,
                  null
                 ],
                 [
                  null,
                  null
                 ],
                 [
                  null,
                  null
                 ],
                 [
                  null,
                  null
                 ],
                 [
                  1,
                  2
                 ],
                 [
                  0,
                  2
                 ],
                 [
                  1,
                  2
                 ],
                 [
                  1,
                  1
                 ]
                ],
                [
                 [
                  0,
                  2
                 ],
                 [
                  1,
                  2
                 ],
                 [
                  0,
                  0
                 ],
                 [
                  0,
                  0
                 ],
                 [
                  null,
                  null
                 ],
                 [
                  1,
                  0
                 ],
                 [
                  1,
                  0
                 ],
                 [
                  1,
                  3
                 ],
                 [
                  1,
                  3
                 ],
                 [
                  0,
                  3
                 ],
                 [
                  1,
                  3
                 ],
                 [
                  2,
                  2
                 ]
                ],
                [
                 [
                  0,
                  2
                 ],
                 [
                  0,
                  2
                 ],
                 [
                  0,
                  0
                 ],
                 [
                  null,
                  null
                 ],
                 [
                  null,
                  null
                 ],
                 [
                  null,
                  null
                 ],
                 [
                  null,
                  null
                 ],
                 [
                  1,
                  3
                 ],
                 [
                  1,
                  3
                 ],
                 [
                  1,
                  3
                 ],
                 [
                  1,
                  3
                 ],
                 [
                  1,
                  3
                 ]
                ],
                [
                 [
                  16,
                  25
                 ],
                 [
                  12,
                  28
                 ],
                 [
                  7,
                  28
                 ],
                 [
                  1,
                  28
                 ],
                 [
                  2,
                  28
                 ],
                 [
                  1,
                  6
                 ],
                 [
                  3,
                  6
                 ],
                 [
                  2,
                  6
                 ],
                 [
                  1,
                  6
                 ],
                 [
                  0,
                  6
                 ],
                 [
                  null,
                  null
                 ],
                 [
                  1,
                  1
                 ]
                ],
                [
                 [
                  0,
                  2
                 ],
                 [
                  1,
                  2
                 ],
                 [
                  0,
                  0
                 ],
                 [
                  null,
                  null
                 ],
                 [
                  null,
                  null
                 ],
                 [
                  null,
                  null
                 ],
                 [
                  null,
                  null
                 ],
                 [
                  null,
                  null
                 ],
                 [
                  1,
                  2
                 ],
                 [
                  0,
                  2
                 ],
                 [
                  1,
                  2
                 ],
                 [
                  1,
                  1
                 ]
                ],
                [
                 [
                  0,
                  2
                 ],
                 [
                  1,
                  2
                 ],
                 [
                  0,
                  0
                 ],
                 [
                  null,
                  null
                 ],
                 [
                  null,
                  null
                 ],
                 [
                  null,
                  null
                 ],
                 [
                  null,
                  null
                 ],
                 [
                  null,
                  null
                 ],
                 [
                  1,
                  2
                 ],
                 [
                  0,
                  2
                 ],
                 [
                  1,
                  2
                 ],
                 [
                  1,
                  1
                 ]
                ],
                [
                 [
                  0,
                  2
                 ],
                 [
                  1,
                  2
                 ],
                 [
                  0,
                  0
                 ],
                 [
                  null,
                  null
                 ],
                 [
                  null,
                  null
                 ],
                 [
                  null,
                  null
                 ],
                 [
                  null,
                  null
                 ],
                 [
                  null,
                  null
                 ],
                 [
                  1,
                  1
                 ],
                 [
                  0,
                  1
                 ],
                 [
                  null,
                  null
                 ],
                 [
                  1,
                  1
                 ]
                ],
                [
                 [
                  0,
                  2
                 ],
                 [
                  1,
                  2
                 ],
                 [
                  0,
                  0
                 ],
                 [
                  null,
                  null
                 ],
                 [
                  null,
                  null
                 ],
                 [
                  null,
                  null
                 ],
                 [
                  null,
                  null
                 ],
                 [
                  null,
                  null
                 ],
                 [
                  1,
                  2
                 ],
                 [
                  0,
                  2
                 ],
                 [
                  1,
                  2
                 ],
                 [
                  1,
                  1
                 ]
                ],
                [
                 [
                  0,
                  2
                 ],
                 [
                  1,
                  2
                 ],
                 [
                  0,
                  0
                 ],
                 [
                  null,
                  null
                 ],
                 [
                  null,
                  null
                 ],
                 [
                  null,
                  null
                 ],
                 [
                  null,
                  null
                 ],
                 [
                  null,
                  null
                 ],
                 [
                  1,
                  1
                 ],
                 [
                  0,
                  1
                 ],
                 [
                  null,
                  null
                 ],
                 [
                  1,
                  1
                 ]
                ],
                [
                 [
                  8,
                  14
                 ],
                 [
                  1,
                  7
                 ],
                 [
                  3,
                  7
                 ],
                 [
                  0,
                  7
                 ],
                 [
                  2,
                  7
                 ],
                 [
                  null,
                  null
                 ],
                 [
                  null,
                  null
                 ],
                 [
                  null,
                  null
                 ],
                 [
                  null,
                  null
                 ],
                 [
                  null,
                  null
                 ],
                 [
                  null,
                  null
                 ],
                 [
                  null,
                  null
                 ]
                ],
                [
                 [
                  null,
                  null
                 ],
                 [
                  null,
                  null
                 ],
                 [
                  null,
                  null
                 ],
                 [
                  null,
                  null
                 ],
                 [
                  null,
                  null
                 ],
                 [
                  null,
                  null
                 ],
                 [
                  null,
                  null
                 ],
                 [
                  null,
                  null
                 ],
                 [
                  null,
                  null
                 ],
                 [
                  null,
                  null
                 ],
                 [
                  null,
                  null
                 ],
                 [
                  null,
                  null
                 ]
                ]
               ]
              ],
              "z": [
               [
                [
                 0,
                 50,
                 0,
                 null,
                 null,
                 null,
                 null,
                 null,
                 50,
                 0,
                 50,
                 100
                ],
                [
                 0,
                 50,
                 0,
                 null,
                 null,
                 null,
                 null,
                 null,
                 50,
                 0,
                 50,
                 100
                ],
                [
                 0,
                 50,
                 0,
                 0,
                 null,
                 0,
                 0,
                 33.3,
                 33.3,
                 0,
                 33.3,
                 100
                ],
                [
                 0,
                 0,
                 0,
                 null,
                 null,
                 null,
                 null,
                 33.3,
                 33.3,
                 33.3,
                 33.3,
                 33.3
                ],
                [
                 64,
                 42.9,
                 25,
                 3.6,
                 7.1,
                 16.7,
                 50,
                 33.3,
                 16.7,
                 0,
                 null,
                 100
                ],
                [
                 0,
                 50,
                 0,
                 null,
                 null,
                 null,
                 null,
                 null,
                 50,
                 0,
                 50,
                 100
                ],
                [
                 0,
                 50,
                 0,
                 null,
                 null,
                 null,
                 null,
                 null,
                 50,
                 0,
                 50,
                 100
                ],
                [
                 0,
                 50,
                 0,
                 null,
                 null,
                 null,
                 null,
                 null,
                 100,
                 0,
                 null,
                 100
                ],
                [
                 0,
                 50,
                 0,
                 null,
                 null,
                 null,
                 null,
                 null,
                 50,
                 0,
                 50,
                 100
                ],
                [
                 0,
                 50,
                 0,
                 null,
                 null,
                 null,
                 null,
                 null,
                 100,
                 0,
                 null,
                 100
                ],
                [
                 57.1,
                 14.3,
                 42.9,
                 0,
                 28.6,
                 null,
                 null,
                 null,
                 null,
                 null,
                 null,
                 null
                ],
                [
                 null,
                 null,
                 null,
                 null,
                 null,
                 null,
                 null,
                 null,
                 null,
                 null,
                 null,
                 null
                ]
               ]
              ]
             }
            ],
            "label": "New York City",
            "method": "restyle"
           },
           {
            "args": [
             {
              "customdata": [
               [
                [
                 [
                  1,
                  1
                 ],
                 [
                  0,
                  1
                 ],
                 [
                  null,
                  null
                 ],
                 [
                  1,
                  1
                 ],
                 [
                  0,
                  1
                 ],
                 [
                  null,
                  null
                 ],
                 [
                  null,
                  null
                 ],
                 [
                  null,
                  null
                 ],
                 [
                  null,
                  null
                 ],
                 [
                  null,
                  null
                 ],
                 [
                  null,
                  null
                 ],
                 [
                  null,
                  null
                 ]
                ],
                [
                 [
                  1,
                  1
                 ],
                 [
                  0,
                  1
                 ],
                 [
                  null,
                  null
                 ],
                 [
                  1,
                  1
                 ],
                 [
                  0,
                  1
                 ],
                 [
                  null,
                  null
                 ],
                 [
                  null,
                  null
                 ],
                 [
                  null,
                  null
                 ],
                 [
                  null,
                  null
                 ],
                 [
                  null,
                  null
                 ],
                 [
                  null,
                  null
                 ],
                 [
                  null,
                  null
                 ]
                ],
                [
                 [
                  1,
                  1
                 ],
                 [
                  0,
                  1
                 ],
                 [
                  null,
                  null
                 ],
                 [
                  1,
                  1
                 ],
                 [
                  0,
                  1
                 ],
                 [
                  null,
                  null
                 ],
                 [
                  null,
                  null
                 ],
                 [
                  null,
                  null
                 ],
                 [
                  null,
                  null
                 ],
                 [
                  null,
                  null
                 ],
                 [
                  null,
                  null
                 ],
                 [
                  null,
                  null
                 ]
                ],
                [
                 [
                  1,
                  1
                 ],
                 [
                  0,
                  1
                 ],
                 [
                  null,
                  null
                 ],
                 [
                  1,
                  1
                 ],
                 [
                  1,
                  1
                 ],
                 [
                  0,
                  1
                 ],
                 [
                  null,
                  null
                 ],
                 [
                  null,
                  null
                 ],
                 [
                  null,
                  null
                 ],
                 [
                  null,
                  null
                 ],
                 [
                  null,
                  null
                 ],
                 [
                  null,
                  null
                 ]
                ],
                [
                 [
                  21,
                  31
                 ],
                 [
                  19,
                  34
                 ],
                 [
                  10,
                  34
                 ],
                 [
                  0,
                  34
                 ],
                 [
                  0,
                  34
                 ],
                 [
                  0,
                  1
                 ],
                 [
                  null,
                  null
                 ],
                 [
                  null,
                  null
                 ],
                 [
                  1,
                  1
                 ],
                 [
                  1,
                  1
                 ],
                 [
                  0,
                  2
                 ],
                 [
                  1,
                  2
                 ]
                ],
                [
                 [
                  1,
                  1
                 ],
                 [
                  0,
                  1
                 ],
                 [
                  null,
                  null
                 ],
                 [
                  1,
                  1
                 ],
                 [
                  0,
                  1
                 ],
                 [
                  null,
                  null
                 ],
                 [
                  null,
                  null
                 ],
                 [
                  null,
                  null
                 ],
                 [
                  null,
                  null
                 ],
                 [
                  null,
                  null
                 ],
                 [
                  null,
                  null
                 ],
                 [
                  null,
                  null
                 ]
                ],
                [
                 [
                  1,
                  1
                 ],
                 [
                  0,
                  1
                 ],
                 [
                  null,
                  null
                 ],
                 [
                  1,
                  1
                 ],
                 [
                  0,
                  1
                 ],
                 [
                  null,
                  null
                 ],
                 [
                  1,
                  1
                 ],
                 [
                  0,
                  1
                 ],
                 [
                  null,
                  null
                 ],
                 [
                  null,
                  null
                 ],
                 [
                  null,
                  null
                 ],
                 [
                  null,
                  null
                 ]
                ],
                [
                 [
                  1,
                  1
                 ],
                 [
                  0,
                  1
                 ],
                 [
                  null,
                  null
                 ],
                 [
                  1,
                  1
                 ],
                 [
                  0,
                  1
                 ],
                 [
                  null,
                  null
                 ],
                 [
                  null,
                  null
                 ],
                 [
                  null,
                  null
                 ],
                 [
                  null,
                  null
                 ],
                 [
                  null,
                  null
                 ],
                 [
                  null,
                  null
                 ],
                 [
                  null,
                  null
                 ]
                ],
                [
                 [
                  1,
                  1
                 ],
                 [
                  0,
                  1
                 ],
                 [
                  null,
                  null
                 ],
                 [
                  0,
                  1
                 ],
                 [
                  0,
                  1
                 ],
                 [
                  null,
                  null
                 ],
                 [
                  null,
                  null
                 ],
                 [
                  null,
                  null
                 ],
                 [
                  null,
                  null
                 ],
                 [
                  null,
                  null
                 ],
                 [
                  null,
                  null
                 ],
                 [
                  null,
                  null
                 ]
                ],
                [
                 [
                  1,
                  1
                 ],
                 [
                  0,
                  1
                 ],
                 [
                  null,
                  null
                 ],
                 [
                  1,
                  1
                 ],
                 [
                  0,
                  1
                 ],
                 [
                  null,
                  null
                 ],
                 [
                  1,
                  1
                 ],
                 [
                  0,
                  1
                 ],
                 [
                  null,
                  null
                 ],
                 [
                  null,
                  null
                 ],
                 [
                  null,
                  null
                 ],
                 [
                  null,
                  null
                 ]
                ],
                [
                 [
                  1,
                  4
                 ],
                 [
                  1,
                  5
                 ],
                 [
                  3,
                  5
                 ],
                 [
                  0,
                  5
                 ],
                 [
                  1,
                  5
                 ],
                 [
                  null,
                  null
                 ],
                 [
                  null,
                  null
                 ],
                 [
                  null,
                  null
                 ],
                 [
                  null,
                  null
                 ],
                 [
                  null,
                  null
                 ],
                 [
                  null,
                  null
                 ],
                 [
                  null,
                  null
                 ]
                ],
                [
                 [
                  null,
                  null
                 ],
                 [
                  null,
                  null
                 ],
                 [
                  null,
                  null
                 ],
                 [
                  null,
                  null
                 ],
                 [
                  null,
                  null
                 ],
                 [
                  null,
                  null
                 ],
                 [
                  null,
                  null
                 ],
                 [
                  null,
                  null
                 ],
                 [
                  null,
                  null
                 ],
                 [
                  null,
                  null
                 ],
                 [
                  null,
                  null
                 ],
                 [
                  null,
                  null
                 ]
                ]
               ]
              ],
              "z": [
               [
                [
                 100,
                 0,
                 null,
                 100,
                 0,
                 null,
                 null,
                 null,
                 null,
                 null,
                 null,
                 null
                ],
                [
                 100,
                 0,
                 null,
                 100,
                 0,
                 null,
                 null,
                 null,
                 null,
                 null,
                 null,
                 null
                ],
                [
                 100,
                 0,
                 null,
                 100,
                 0,
                 null,
                 null,
                 null,
                 null,
                 null,
                 null,
                 null
                ],
                [
                 100,
                 0,
                 null,
                 100,
                 100,
                 0,
                 null,
                 null,
                 null,
                 null,
                 null,
                 null
                ],
                [
                 67.7,
                 55.9,
                 29.4,
                 0,
                 0,
                 0,
                 null,
                 null,
                 100,
                 100,
                 0,
                 50
                ],
                [
                 100,
                 0,
                 null,
                 100,
                 0,
                 null,
                 null,
                 null,
                 null,
                 null,
                 null,
                 null
                ],
                [
                 100,
                 0,
                 null,
                 100,
                 0,
                 null,
                 100,
                 0,
                 null,
                 null,
                 null,
                 null
                ],
                [
                 100,
                 0,
                 null,
                 100,
                 0,
                 null,
                 null,
                 null,
                 null,
                 null,
                 null,
                 null
                ],
                [
                 100,
                 0,
                 null,
                 0,
                 0,
                 null,
                 null,
                 null,
                 null,
                 null,
                 null,
                 null
                ],
                [
                 100,
                 0,
                 null,
                 100,
                 0,
                 null,
                 100,
                 0,
                 null,
                 null,
                 null,
                 null
                ],
                [
                 25,
                 20,
                 60,
                 0,
                 20,
                 null,
                 null,
                 null,
                 null,
                 null,
                 null,
                 null
                ],
                [
                 null,
                 null,
                 null,
                 null,
                 null,
                 null,
                 null,
                 null,
                 null,
                 null,
                 null,
                 null
                ]
               ]
              ]
             }
            ],
            "label": "Toronto",
            "method": "restyle"
           },
           {
            "args": [
             {
              "customdata": [
               [
                [
                 [
                  null,
                  null
                 ],
                 [
                  null,
                  null
                 ],
                 [
                  null,
                  null
                 ],
                 [
                  1,
                  2
                 ],
                 [
                  1,
                  2
                 ],
                 [
                  1,
                  2
                 ],
                 [
                  1,
                  2
                 ],
                 [
                  0,
                  1
                 ],
                 [
                  null,
                  null
                 ],
                 [
                  null,
                  null
                 ],
                 [
                  null,
                  null
                 ],
                 [
                  null,
                  null
                 ]
                ],
                [
                 [
                  0,
                  1
                 ],
                 [
                  null,
                  null
                 ],
                 [
                  null,
                  null
                 ],
                 [
                  2,
                  2
                 ],
                 [
                  1,
                  2
                 ],
                 [
                  1,
                  2
                 ],
                 [
                  1,
                  2
                 ],
                 [
                  0,
                  1
                 ],
                 [
                  null,
                  null
                 ],
                 [
                  null,
                  null
                 ],
                 [
                  null,
                  null
                 ],
                 [
                  null,
                  null
                 ]
                ],
                [
                 [
                  null,
                  null
                 ],
                 [
                  null,
                  null
                 ],
                 [
                  null,
                  null
                 ],
                 [
                  2,
                  2
                 ],
                 [
                  1,
                  2
                 ],
                 [
                  1,
                  2
                 ],
                 [
                  1,
                  2
                 ],
                 [
                  0,
                  1
                 ],
                 [
                  null,
                  null
                 ],
                 [
                  null,
                  null
                 ],
                 [
                  null,
                  null
                 ],
                 [
                  null,
                  null
                 ]
                ],
                [
                 [
                  null,
                  null
                 ],
                 [
                  null,
                  null
                 ],
                 [
                  null,
                  null
                 ],
                 [
                  2,
                  2
                 ],
                 [
                  1,
                  2
                 ],
                 [
                  1,
                  2
                 ],
                 [
                  1,
                  2
                 ],
                 [
                  0,
                  1
                 ],
                 [
                  null,
                  null
                 ],
                 [
                  null,
                  null
                 ],
                 [
                  null,
                  null
                 ],
                 [
                  null,
                  null
                 ]
                ],
                [
                 [
                  24,
                  35
                 ],
                 [
                  18,
                  33
                 ],
                 [
                  6,
                  33
                 ],
                 [
                  0,
                  33
                 ],
                 [
                  null,
                  null
                 ],
                 [
                  1,
                  3
                 ],
                 [
                  2,
                  3
                 ],
                 [
                  0,
                  3
                 ],
                 [
                  0,
                  3
                 ],
                 [
                  null,
                  null
                 ],
                 [
                  null,
                  null
                 ],
                 [
                  1,
                  1
                 ]
                ],
                [
                 [
                  null,
                  null
                 ],
                 [
                  null,
                  null
                 ],
                 [
                  null,
                  null
                 ],
                 [
                  1,
                  2
                 ],
                 [
                  1,
                  2
                 ],
                 [
                  1,
                  2
                 ],
                 [
                  1,
                  2
                 ],
                 [
                  0,
                  1
                 ],
                 [
                  null,
                  null
                 ],
                 [
                  null,
                  null
                 ],
                 [
                  null,
                  null
                 ],
                 [
                  null,
                  null
                 ]
                ],
                [
                 [
                  null,
                  null
                 ],
                 [
                  null,
                  null
                 ],
                 [
                  null,
                  null
                 ],
                 [
                  2,
                  2
                 ],
                 [
                  1,
                  2
                 ],
                 [
                  1,
                  2
                 ],
                 [
                  1,
                  2
                 ],
                 [
                  0,
                  1
                 ],
                 [
                  null,
                  null
                 ],
                 [
                  null,
                  null
                 ],
                 [
                  null,
                  null
                 ],
                 [
                  null,
                  null
                 ]
                ],
                [
                 [
                  null,
                  null
                 ],
                 [
                  null,
                  null
                 ],
                 [
                  null,
                  null
                 ],
                 [
                  2,
                  2
                 ],
                 [
                  1,
                  2
                 ],
                 [
                  1,
                  2
                 ],
                 [
                  0,
                  2
                 ],
                 [
                  0,
                  1
                 ],
                 [
                  null,
                  null
                 ],
                 [
                  null,
                  null
                 ],
                 [
                  null,
                  null
                 ],
                 [
                  null,
                  null
                 ]
                ],
                [
                 [
                  null,
                  null
                 ],
                 [
                  null,
                  null
                 ],
                 [
                  null,
                  null
                 ],
                 [
                  0,
                  2
                 ],
                 [
                  1,
                  2
                 ],
                 [
                  1,
                  2
                 ],
                 [
                  1,
                  2
                 ],
                 [
                  0,
                  1
                 ],
                 [
                  null,
                  null
                 ],
                 [
                  null,
                  null
                 ],
                 [
                  null,
                  null
                 ],
                 [
                  null,
                  null
                 ]
                ],
                [
                 [
                  null,
                  null
                 ],
                 [
                  null,
                  null
                 ],
                 [
                  null,
                  null
                 ],
                 [
                  1,
                  2
                 ],
                 [
                  1,
                  2
                 ],
                 [
                  1,
                  2
                 ],
                 [
                  1,
                  2
                 ],
                 [
                  0,
                  1
                 ],
                 [
                  null,
                  null
                 ],
                 [
                  null,
                  null
                 ],
                 [
                  null,
                  null
                 ],
                 [
                  null,
                  null
                 ]
                ],
                [
                 [
                  9,
                  14
                 ],
                 [
                  3,
                  11
                 ],
                 [
                  9,
                  11
                 ],
                 [
                  1,
                  11
                 ],
                 [
                  1,
                  11
                 ],
                 [
                  null,
                  null
                 ],
                 [
                  null,
                  null
                 ],
                 [
                  null,
                  null
                 ],
                 [
                  null,
                  null
                 ],
                 [
                  null,
                  null
                 ],
                 [
                  null,
                  null
                 ],
                 [
                  null,
                  null
                 ]
                ],
                [
                 [
                  null,
                  null
                 ],
                 [
                  null,
                  null
                 ],
                 [
                  null,
                  null
                 ],
                 [
                  null,
                  null
                 ],
                 [
                  null,
                  null
                 ],
                 [
                  null,
                  null
                 ],
                 [
                  null,
                  null
                 ],
                 [
                  null,
                  null
                 ],
                 [
                  null,
                  null
                 ],
                 [
                  null,
                  null
                 ],
                 [
                  null,
                  null
                 ],
                 [
                  null,
                  null
                 ]
                ]
               ]
              ],
              "z": [
               [
                [
                 null,
                 null,
                 null,
                 50,
                 50,
                 50,
                 50,
                 0,
                 null,
                 null,
                 null,
                 null
                ],
                [
                 0,
                 null,
                 null,
                 100,
                 50,
                 50,
                 50,
                 0,
                 null,
                 null,
                 null,
                 null
                ],
                [
                 null,
                 null,
                 null,
                 100,
                 50,
                 50,
                 50,
                 0,
                 null,
                 null,
                 null,
                 null
                ],
                [
                 null,
                 null,
                 null,
                 100,
                 50,
                 50,
                 50,
                 0,
                 null,
                 null,
                 null,
                 null
                ],
                [
                 68.6,
                 54.5,
                 18.2,
                 0,
                 null,
                 33.3,
                 66.7,
                 0,
                 0,
                 null,
                 null,
                 100
                ],
                [
                 null,
                 null,
                 null,
                 50,
                 50,
                 50,
                 50,
                 0,
                 null,
                 null,
                 null,
                 null
                ],
                [
                 null,
                 null,
                 null,
                 100,
                 50,
                 50,
                 50,
                 0,
                 null,
                 null,
                 null,
                 null
                ],
                [
                 null,
                 null,
                 null,
                 100,
                 50,
                 50,
                 0,
                 0,
                 null,
                 null,
                 null,
                 null
                ],
                [
                 null,
                 null,
                 null,
                 0,
                 50,
                 50,
                 50,
                 0,
                 null,
                 null,
                 null,
                 null
                ],
                [
                 null,
                 null,
                 null,
                 50,
                 50,
                 50,
                 50,
                 0,
                 null,
                 null,
                 null,
                 null
                ],
                [
                 64.3,
                 27.3,
                 81.8,
                 9.1,
                 9.1,
                 null,
                 null,
                 null,
                 null,
                 null,
                 null,
                 null
                ],
                [
                 null,
                 null,
                 null,
                 null,
                 null,
                 null,
                 null,
                 null,
                 null,
                 null,
                 null,
                 null
                ]
               ]
              ]
             }
            ],
            "label": "Chicago",
            "method": "restyle"
           }
          ],
          "direction": "down",
          "pad": {
           "r": 10,
           "t": 10
          },
          "showactive": true,
          "x": 1.15,
          "xanchor": "left",
          "y": 1,
          "yanchor": "top"
         }
        ],
        "xaxis": {
         "title": {
          "text": "Weeks Since Release"
         }
        },
        "yaxis": {
         "title": {
          "text": "Song"
         }
        }
       }
      }
     },
     "metadata": {},
     "output_type": "display_data"
    },
    {
     "data": {
      "application/vnd.plotly.v1+json": {
       "config": {
        "plotlyServerURL": "https://plot.ly"
       },
       "data": [
        {
         "cells": {
          "align": "left",
          "fill": {
           "color": "lavender"
          },
          "values": [
           [
            "All In",
            "Althea",
            "Breaking Me Down",
            "Crash",
            "Cycles",
            "Easy",
            "Holding On",
            "Kid",
            "Slipping Away",
            "That Thing",
            "The Way That It Was",
            "What Home Is"
           ],
           [
            40.93,
            37.96,
            100,
            37.2,
            36.17,
            42.75,
            40.6,
            41,
            41.73,
            43.88,
            40.18,
            24.27
           ],
           [
            17.85,
            25,
            100,
            0,
            15,
            23.65,
            13.3,
            20,
            20,
            33.3,
            15.5,
            0
           ],
           [
            0,
            0,
            100,
            0,
            0,
            0,
            0,
            0,
            0,
            0,
            0,
            0
           ],
           [
            100,
            300,
            100,
            100,
            100,
            100,
            100,
            100,
            100,
            200,
            100,
            100
           ],
           [
            44.85,
            42.38,
            0,
            44.2,
            42.23,
            45.26,
            45.4,
            44.83,
            44.13,
            45.57,
            43.74,
            38.81
           ]
          ]
         },
         "header": {
          "align": "left",
          "fill": {
           "color": "paleturquoise"
          },
          "values": [
           "song",
           "mean",
           "median",
           "min",
           "max",
           "std"
          ]
         },
         "type": "table"
        }
       ],
       "layout": {
        "template": {
         "data": {
          "bar": [
           {
            "error_x": {
             "color": "#2a3f5f"
            },
            "error_y": {
             "color": "#2a3f5f"
            },
            "marker": {
             "line": {
              "color": "#E5ECF6",
              "width": 0.5
             },
             "pattern": {
              "fillmode": "overlay",
              "size": 10,
              "solidity": 0.2
             }
            },
            "type": "bar"
           }
          ],
          "barpolar": [
           {
            "marker": {
             "line": {
              "color": "#E5ECF6",
              "width": 0.5
             },
             "pattern": {
              "fillmode": "overlay",
              "size": 10,
              "solidity": 0.2
             }
            },
            "type": "barpolar"
           }
          ],
          "carpet": [
           {
            "aaxis": {
             "endlinecolor": "#2a3f5f",
             "gridcolor": "white",
             "linecolor": "white",
             "minorgridcolor": "white",
             "startlinecolor": "#2a3f5f"
            },
            "baxis": {
             "endlinecolor": "#2a3f5f",
             "gridcolor": "white",
             "linecolor": "white",
             "minorgridcolor": "white",
             "startlinecolor": "#2a3f5f"
            },
            "type": "carpet"
           }
          ],
          "choropleth": [
           {
            "colorbar": {
             "outlinewidth": 0,
             "ticks": ""
            },
            "type": "choropleth"
           }
          ],
          "contour": [
           {
            "colorbar": {
             "outlinewidth": 0,
             "ticks": ""
            },
            "colorscale": [
             [
              0,
              "#0d0887"
             ],
             [
              0.1111111111111111,
              "#46039f"
             ],
             [
              0.2222222222222222,
              "#7201a8"
             ],
             [
              0.3333333333333333,
              "#9c179e"
             ],
             [
              0.4444444444444444,
              "#bd3786"
             ],
             [
              0.5555555555555556,
              "#d8576b"
             ],
             [
              0.6666666666666666,
              "#ed7953"
             ],
             [
              0.7777777777777778,
              "#fb9f3a"
             ],
             [
              0.8888888888888888,
              "#fdca26"
             ],
             [
              1,
              "#f0f921"
             ]
            ],
            "type": "contour"
           }
          ],
          "contourcarpet": [
           {
            "colorbar": {
             "outlinewidth": 0,
             "ticks": ""
            },
            "type": "contourcarpet"
           }
          ],
          "heatmap": [
           {
            "colorbar": {
             "outlinewidth": 0,
             "ticks": ""
            },
            "colorscale": [
             [
              0,
              "#0d0887"
             ],
             [
              0.1111111111111111,
              "#46039f"
             ],
             [
              0.2222222222222222,
              "#7201a8"
             ],
             [
              0.3333333333333333,
              "#9c179e"
             ],
             [
              0.4444444444444444,
              "#bd3786"
             ],
             [
              0.5555555555555556,
              "#d8576b"
             ],
             [
              0.6666666666666666,
              "#ed7953"
             ],
             [
              0.7777777777777778,
              "#fb9f3a"
             ],
             [
              0.8888888888888888,
              "#fdca26"
             ],
             [
              1,
              "#f0f921"
             ]
            ],
            "type": "heatmap"
           }
          ],
          "histogram": [
           {
            "marker": {
             "pattern": {
              "fillmode": "overlay",
              "size": 10,
              "solidity": 0.2
             }
            },
            "type": "histogram"
           }
          ],
          "histogram2d": [
           {
            "colorbar": {
             "outlinewidth": 0,
             "ticks": ""
            },
            "colorscale": [
             [
              0,
              "#0d0887"
             ],
             [
              0.1111111111111111,
              "#46039f"
             ],
             [
              0.2222222222222222,
              "#7201a8"
             ],
             [
              0.3333333333333333,
              "#9c179e"
             ],
             [
              0.4444444444444444,
              "#bd3786"
             ],
             [
              0.5555555555555556,
              "#d8576b"
             ],
             [
              0.6666666666666666,
              "#ed7953"
             ],
             [
              0.7777777777777778,
              "#fb9f3a"
             ],
             [
              0.8888888888888888,
              "#fdca26"
             ],
             [
              1,
              "#f0f921"
             ]
            ],
            "type": "histogram2d"
           }
          ],
          "histogram2dcontour": [
           {
            "colorbar": {
             "outlinewidth": 0,
             "ticks": ""
            },
            "colorscale": [
             [
              0,
              "#0d0887"
             ],
             [
              0.1111111111111111,
              "#46039f"
             ],
             [
              0.2222222222222222,
              "#7201a8"
             ],
             [
              0.3333333333333333,
              "#9c179e"
             ],
             [
              0.4444444444444444,
              "#bd3786"
             ],
             [
              0.5555555555555556,
              "#d8576b"
             ],
             [
              0.6666666666666666,
              "#ed7953"
             ],
             [
              0.7777777777777778,
              "#fb9f3a"
             ],
             [
              0.8888888888888888,
              "#fdca26"
             ],
             [
              1,
              "#f0f921"
             ]
            ],
            "type": "histogram2dcontour"
           }
          ],
          "mesh3d": [
           {
            "colorbar": {
             "outlinewidth": 0,
             "ticks": ""
            },
            "type": "mesh3d"
           }
          ],
          "parcoords": [
           {
            "line": {
             "colorbar": {
              "outlinewidth": 0,
              "ticks": ""
             }
            },
            "type": "parcoords"
           }
          ],
          "pie": [
           {
            "automargin": true,
            "type": "pie"
           }
          ],
          "scatter": [
           {
            "fillpattern": {
             "fillmode": "overlay",
             "size": 10,
             "solidity": 0.2
            },
            "type": "scatter"
           }
          ],
          "scatter3d": [
           {
            "line": {
             "colorbar": {
              "outlinewidth": 0,
              "ticks": ""
             }
            },
            "marker": {
             "colorbar": {
              "outlinewidth": 0,
              "ticks": ""
             }
            },
            "type": "scatter3d"
           }
          ],
          "scattercarpet": [
           {
            "marker": {
             "colorbar": {
              "outlinewidth": 0,
              "ticks": ""
             }
            },
            "type": "scattercarpet"
           }
          ],
          "scattergeo": [
           {
            "marker": {
             "colorbar": {
              "outlinewidth": 0,
              "ticks": ""
             }
            },
            "type": "scattergeo"
           }
          ],
          "scattergl": [
           {
            "marker": {
             "colorbar": {
              "outlinewidth": 0,
              "ticks": ""
             }
            },
            "type": "scattergl"
           }
          ],
          "scattermap": [
           {
            "marker": {
             "colorbar": {
              "outlinewidth": 0,
              "ticks": ""
             }
            },
            "type": "scattermap"
           }
          ],
          "scattermapbox": [
           {
            "marker": {
             "colorbar": {
              "outlinewidth": 0,
              "ticks": ""
             }
            },
            "type": "scattermapbox"
           }
          ],
          "scatterpolar": [
           {
            "marker": {
             "colorbar": {
              "outlinewidth": 0,
              "ticks": ""
             }
            },
            "type": "scatterpolar"
           }
          ],
          "scatterpolargl": [
           {
            "marker": {
             "colorbar": {
              "outlinewidth": 0,
              "ticks": ""
             }
            },
            "type": "scatterpolargl"
           }
          ],
          "scatterternary": [
           {
            "marker": {
             "colorbar": {
              "outlinewidth": 0,
              "ticks": ""
             }
            },
            "type": "scatterternary"
           }
          ],
          "surface": [
           {
            "colorbar": {
             "outlinewidth": 0,
             "ticks": ""
            },
            "colorscale": [
             [
              0,
              "#0d0887"
             ],
             [
              0.1111111111111111,
              "#46039f"
             ],
             [
              0.2222222222222222,
              "#7201a8"
             ],
             [
              0.3333333333333333,
              "#9c179e"
             ],
             [
              0.4444444444444444,
              "#bd3786"
             ],
             [
              0.5555555555555556,
              "#d8576b"
             ],
             [
              0.6666666666666666,
              "#ed7953"
             ],
             [
              0.7777777777777778,
              "#fb9f3a"
             ],
             [
              0.8888888888888888,
              "#fdca26"
             ],
             [
              1,
              "#f0f921"
             ]
            ],
            "type": "surface"
           }
          ],
          "table": [
           {
            "cells": {
             "fill": {
              "color": "#EBF0F8"
             },
             "line": {
              "color": "white"
             }
            },
            "header": {
             "fill": {
              "color": "#C8D4E3"
             },
             "line": {
              "color": "white"
             }
            },
            "type": "table"
           }
          ]
         },
         "layout": {
          "annotationdefaults": {
           "arrowcolor": "#2a3f5f",
           "arrowhead": 0,
           "arrowwidth": 1
          },
          "autotypenumbers": "strict",
          "coloraxis": {
           "colorbar": {
            "outlinewidth": 0,
            "ticks": ""
           }
          },
          "colorscale": {
           "diverging": [
            [
             0,
             "#8e0152"
            ],
            [
             0.1,
             "#c51b7d"
            ],
            [
             0.2,
             "#de77ae"
            ],
            [
             0.3,
             "#f1b6da"
            ],
            [
             0.4,
             "#fde0ef"
            ],
            [
             0.5,
             "#f7f7f7"
            ],
            [
             0.6,
             "#e6f5d0"
            ],
            [
             0.7,
             "#b8e186"
            ],
            [
             0.8,
             "#7fbc41"
            ],
            [
             0.9,
             "#4d9221"
            ],
            [
             1,
             "#276419"
            ]
           ],
           "sequential": [
            [
             0,
             "#0d0887"
            ],
            [
             0.1111111111111111,
             "#46039f"
            ],
            [
             0.2222222222222222,
             "#7201a8"
            ],
            [
             0.3333333333333333,
             "#9c179e"
            ],
            [
             0.4444444444444444,
             "#bd3786"
            ],
            [
             0.5555555555555556,
             "#d8576b"
            ],
            [
             0.6666666666666666,
             "#ed7953"
            ],
            [
             0.7777777777777778,
             "#fb9f3a"
            ],
            [
             0.8888888888888888,
             "#fdca26"
            ],
            [
             1,
             "#f0f921"
            ]
           ],
           "sequentialminus": [
            [
             0,
             "#0d0887"
            ],
            [
             0.1111111111111111,
             "#46039f"
            ],
            [
             0.2222222222222222,
             "#7201a8"
            ],
            [
             0.3333333333333333,
             "#9c179e"
            ],
            [
             0.4444444444444444,
             "#bd3786"
            ],
            [
             0.5555555555555556,
             "#d8576b"
            ],
            [
             0.6666666666666666,
             "#ed7953"
            ],
            [
             0.7777777777777778,
             "#fb9f3a"
            ],
            [
             0.8888888888888888,
             "#fdca26"
            ],
            [
             1,
             "#f0f921"
            ]
           ]
          },
          "colorway": [
           "#636efa",
           "#EF553B",
           "#00cc96",
           "#ab63fa",
           "#FFA15A",
           "#19d3f3",
           "#FF6692",
           "#B6E880",
           "#FF97FF",
           "#FECB52"
          ],
          "font": {
           "color": "#2a3f5f"
          },
          "geo": {
           "bgcolor": "white",
           "lakecolor": "white",
           "landcolor": "#E5ECF6",
           "showlakes": true,
           "showland": true,
           "subunitcolor": "white"
          },
          "hoverlabel": {
           "align": "left"
          },
          "hovermode": "closest",
          "mapbox": {
           "style": "light"
          },
          "paper_bgcolor": "white",
          "plot_bgcolor": "#E5ECF6",
          "polar": {
           "angularaxis": {
            "gridcolor": "white",
            "linecolor": "white",
            "ticks": ""
           },
           "bgcolor": "#E5ECF6",
           "radialaxis": {
            "gridcolor": "white",
            "linecolor": "white",
            "ticks": ""
           }
          },
          "scene": {
           "xaxis": {
            "backgroundcolor": "#E5ECF6",
            "gridcolor": "white",
            "gridwidth": 2,
            "linecolor": "white",
            "showbackground": true,
            "ticks": "",
            "zerolinecolor": "white"
           },
           "yaxis": {
            "backgroundcolor": "#E5ECF6",
            "gridcolor": "white",
            "gridwidth": 2,
            "linecolor": "white",
            "showbackground": true,
            "ticks": "",
            "zerolinecolor": "white"
           },
           "zaxis": {
            "backgroundcolor": "#E5ECF6",
            "gridcolor": "white",
            "gridwidth": 2,
            "linecolor": "white",
            "showbackground": true,
            "ticks": "",
            "zerolinecolor": "white"
           }
          },
          "shapedefaults": {
           "line": {
            "color": "#2a3f5f"
           }
          },
          "ternary": {
           "aaxis": {
            "gridcolor": "white",
            "linecolor": "white",
            "ticks": ""
           },
           "baxis": {
            "gridcolor": "white",
            "linecolor": "white",
            "ticks": ""
           },
           "bgcolor": "#E5ECF6",
           "caxis": {
            "gridcolor": "white",
            "linecolor": "white",
            "ticks": ""
           }
          },
          "title": {
           "x": 0.05
          },
          "xaxis": {
           "automargin": true,
           "gridcolor": "white",
           "linecolor": "white",
           "ticks": "",
           "title": {
            "standoff": 15
           },
           "zerolinecolor": "white",
           "zerolinewidth": 2
          },
          "yaxis": {
           "automargin": true,
           "gridcolor": "white",
           "linecolor": "white",
           "ticks": "",
           "title": {
            "standoff": 15
           },
           "zerolinecolor": "white",
           "zerolinewidth": 2
          }
         }
        },
        "title": {
         "text": "Stickiness Ratio Summary Statistics (First 12 Weeks)"
        }
       }
      }
     },
     "metadata": {},
     "output_type": "display_data"
    }
   ],
   "source": [
    "stickiness_df = calculate_stickiness_metrics()"
   ]
  },
  {
   "cell_type": "code",
   "execution_count": 11,
   "metadata": {},
   "outputs": [
    {
     "data": {
      "text/plain": [
       "['Denver', 'Atlanta', 'New York City', 'Toronto', 'Chicago']"
      ]
     },
     "execution_count": 11,
     "metadata": {},
     "output_type": "execute_result"
    }
   ],
   "source": [
    "artist_monthly_df = df[\n",
    "    (df['level'].str.lower() == 'artist') &\n",
    "    (df['measure'].str.lower() == 'listeners') &\n",
    "    (df['period_type'].str.lower() == 'monthly')\n",
    "].copy()\n",
    "\n",
    "city_avg_mau = (\n",
    "    artist_monthly_df[artist_monthly_df['city'].str.lower() != 'all cities']\n",
    "    .groupby('city')['current_period']\n",
    "    .mean()\n",
    "    .sort_values(ascending=False)\n",
    ")\n",
    "top_cities = city_avg_mau.head(5).index.tolist()\n",
    "\n",
    "top_cities"
   ]
  },
  {
   "cell_type": "code",
   "execution_count": 12,
   "metadata": {},
   "outputs": [
    {
     "data": {
      "text/html": [
       "<div>\n",
       "<style scoped>\n",
       "    .dataframe tbody tr th:only-of-type {\n",
       "        vertical-align: middle;\n",
       "    }\n",
       "\n",
       "    .dataframe tbody tr th {\n",
       "        vertical-align: top;\n",
       "    }\n",
       "\n",
       "    .dataframe thead th {\n",
       "        text-align: right;\n",
       "    }\n",
       "</style>\n",
       "<table border=\"1\" class=\"dataframe\">\n",
       "  <thead>\n",
       "    <tr style=\"text-align: right;\">\n",
       "      <th></th>\n",
       "      <th>city</th>\n",
       "      <th>previous_period</th>\n",
       "      <th>current_period</th>\n",
       "      <th>%_change</th>\n",
       "      <th>week</th>\n",
       "      <th>song</th>\n",
       "      <th>song_id</th>\n",
       "      <th>measure</th>\n",
       "      <th>level</th>\n",
       "      <th>period_type</th>\n",
       "      <th>grouping</th>\n",
       "    </tr>\n",
       "  </thead>\n",
       "  <tbody>\n",
       "    <tr>\n",
       "      <th>18865</th>\n",
       "      <td>All Cities</td>\n",
       "      <td>0</td>\n",
       "      <td>1145</td>\n",
       "      <td>-</td>\n",
       "      <td>20240601</td>\n",
       "      <td>Althea</td>\n",
       "      <td>1748029276</td>\n",
       "      <td>listeners</td>\n",
       "      <td>song</td>\n",
       "      <td>monthly</td>\n",
       "      <td>city</td>\n",
       "    </tr>\n",
       "    <tr>\n",
       "      <th>13591</th>\n",
       "      <td>All Cities</td>\n",
       "      <td>0</td>\n",
       "      <td>581</td>\n",
       "      <td>-</td>\n",
       "      <td>20240621</td>\n",
       "      <td>Althea</td>\n",
       "      <td>1748029276</td>\n",
       "      <td>listeners</td>\n",
       "      <td>song</td>\n",
       "      <td>weekly</td>\n",
       "      <td>city</td>\n",
       "    </tr>\n",
       "    <tr>\n",
       "      <th>7311</th>\n",
       "      <td>All Cities</td>\n",
       "      <td>581</td>\n",
       "      <td>812</td>\n",
       "      <td>+40%</td>\n",
       "      <td>20240628</td>\n",
       "      <td>Althea</td>\n",
       "      <td>1748029276</td>\n",
       "      <td>listeners</td>\n",
       "      <td>song</td>\n",
       "      <td>weekly</td>\n",
       "      <td>city</td>\n",
       "    </tr>\n",
       "    <tr>\n",
       "      <th>13025</th>\n",
       "      <td>All Cities</td>\n",
       "      <td>1145</td>\n",
       "      <td>1092</td>\n",
       "      <td>-5%</td>\n",
       "      <td>20240701</td>\n",
       "      <td>Althea</td>\n",
       "      <td>1748029276</td>\n",
       "      <td>listeners</td>\n",
       "      <td>song</td>\n",
       "      <td>monthly</td>\n",
       "      <td>city</td>\n",
       "    </tr>\n",
       "    <tr>\n",
       "      <th>3977</th>\n",
       "      <td>All Cities</td>\n",
       "      <td>812</td>\n",
       "      <td>504</td>\n",
       "      <td>-38%</td>\n",
       "      <td>20240705</td>\n",
       "      <td>Althea</td>\n",
       "      <td>1748029276</td>\n",
       "      <td>listeners</td>\n",
       "      <td>song</td>\n",
       "      <td>weekly</td>\n",
       "      <td>city</td>\n",
       "    </tr>\n",
       "  </tbody>\n",
       "</table>\n",
       "</div>"
      ],
      "text/plain": [
       "             city  previous_period  current_period %_change      week    song  \\\n",
       "18865  All Cities                0            1145        -  20240601  Althea   \n",
       "13591  All Cities                0             581        -  20240621  Althea   \n",
       "7311   All Cities              581             812     +40%  20240628  Althea   \n",
       "13025  All Cities             1145            1092      -5%  20240701  Althea   \n",
       "3977   All Cities              812             504     -38%  20240705  Althea   \n",
       "\n",
       "          song_id    measure level period_type grouping  \n",
       "18865  1748029276  listeners  song     monthly     city  \n",
       "13591  1748029276  listeners  song      weekly     city  \n",
       "7311   1748029276  listeners  song      weekly     city  \n",
       "13025  1748029276  listeners  song     monthly     city  \n",
       "3977   1748029276  listeners  song      weekly     city  "
      ]
     },
     "execution_count": 12,
     "metadata": {},
     "output_type": "execute_result"
    }
   ],
   "source": [
    "df[(df.city == 'All Cities') \n",
    "   & (df.song == 'Althea')\n",
    "   & (df.measure == 'listeners')].sort_values(by=['week','period_type']).head()"
   ]
  },
  {
   "cell_type": "code",
   "execution_count": null,
   "metadata": {},
   "outputs": [],
   "source": [
    "song_to_artist_ratio = calca"
   ]
  },
  {
   "cell_type": "code",
   "execution_count": null,
   "metadata": {},
   "outputs": [],
   "source": []
  }
 ],
 "metadata": {
  "kernelspec": {
   "display_name": "venv",
   "language": "python",
   "name": "python3"
  },
  "language_info": {
   "codemirror_mode": {
    "name": "ipython",
    "version": 3
   },
   "file_extension": ".py",
   "mimetype": "text/x-python",
   "name": "python",
   "nbconvert_exporter": "python",
   "pygments_lexer": "ipython3",
   "version": "3.13.3"
  }
 },
 "nbformat": 4,
 "nbformat_minor": 2
}
