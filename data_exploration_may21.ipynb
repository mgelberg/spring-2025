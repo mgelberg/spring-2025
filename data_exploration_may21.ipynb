{
 "cells": [
  {
   "cell_type": "code",
   "execution_count": 1,
   "metadata": {},
   "outputs": [],
   "source": [
    "# Import necessary libraries\n",
    "import pandas as pd\n",
    "import matplotlib.pyplot as plt\n",
    "import seaborn as sns\n",
    "from typing import List, Dict, Optional\n",
    "import numpy as np\n",
    "\n",
    "# Import our data loader and analysis modules\n",
    "from parsed_data_loader import load_and_prepare_data\n",
    "from analyze_peaks import analyze_peaks, analyze_song_adoption\n",
    "#from analyze_adoption_rates import analyze_adoption_patterns\n",
    "from plot_utils import (\n",
    "    plot_city_trends,\n",
    "    plot_streams_per_listener_trends,\n",
    "    plot_city_comparison\n",
    ")\n",
    "\n",
    "# Set plot style\n",
    "plt.style.use('fivethirtyeight')\n",
    "sns.set_palette('husl')"
   ]
  },
  {
   "cell_type": "code",
   "execution_count": 2,
   "metadata": {},
   "outputs": [],
   "source": []
  },
  {
   "cell_type": "code",
   "execution_count": 2,
   "metadata": {},
   "outputs": [
    {
     "name": "stdout",
     "output_type": "stream",
     "text": [
      "Skipping empty file: parsed csvs/parsed_weekly_listeners_by_city_1711474234_20250124.csv\n",
      "Skipping empty file: parsed csvs/parsed_weekly_listeners_by_city_1711474241_20241220.csv\n",
      "Skipping empty file: parsed csvs/parsed_weekly_plays_by_city_1711474237_20240308.csv\n",
      "Skipping empty file: parsed csvs/parsed_weekly_plays_by_city_1711474234_20241220.csv\n",
      "Skipping empty file: parsed csvs/parsed_weekly_plays_by_city_1711474241_20250124.csv\n",
      "Skipping empty file: parsed csvs/parsed_weekly_plays_by_city_artist_20250117.csv\n",
      "Skipping empty file: parsed csvs/parsed_weekly_listeners_by_city_1711474239_20250221.csv\n",
      "Skipping empty file: parsed csvs/parsed_weekly_plays_by_city_1711474235_20241227.csv\n",
      "Skipping empty file: parsed csvs/parsed_weekly_plays_by_city_1711474243_20250117.csv\n",
      "Skipping empty file: parsed csvs/parsed_weekly_plays_by_city_1711474240_20250321.csv\n",
      "Skipping empty file: parsed csvs/parsed_weekly_plays_by_city_1711474241_20240531.csv\n",
      "Skipping empty file: parsed csvs/parsed_weekly_plays_by_city_1711474239_20250404.csv\n",
      "Skipping empty file: parsed csvs/parsed_weekly_listeners_by_city_1711474243_20241213.csv\n",
      "Skipping empty file: parsed csvs/parsed_weekly_plays_by_city_1711474242_20240712.csv\n",
      "Skipping empty file: parsed csvs/parsed_weekly_listeners_by_city_1711474241_20250516.csv\n",
      "Skipping empty file: parsed csvs/parsed_weekly_plays_by_city_1711474241_20250509.csv\n",
      "Skipping empty file: parsed csvs/parsed_weekly_plays_by_city_1711474242_20240510.csv\n",
      "Skipping empty file: parsed csvs/parsed_weekly_listeners_by_city_1711474234_20250509.csv\n",
      "Skipping empty file: parsed csvs/parsed_weekly_listeners_by_city_1711474241_20240301.csv\n",
      "Skipping empty file: parsed csvs/parsed_weekly_plays_by_city_1711474241_20250131.csv\n",
      "Skipping empty file: parsed csvs/parsed_weekly_plays_by_city_1711474242_20241220.csv\n",
      "Skipping empty file: parsed csvs/parsed_weekly_listeners_by_city_1711474243_20240913.csv\n",
      "Skipping empty file: parsed csvs/parsed_weekly_listeners_by_city_1711474242_20250124.csv\n",
      "Skipping empty file: parsed csvs/parsed_weekly_plays_by_city_1711474240_20241011.csv\n",
      "Skipping empty file: parsed csvs/parsed_weekly_listeners_by_city_1711474235_20241213.csv\n",
      "Skipping empty file: parsed csvs/parsed_weekly_listeners_by_city_1711474242_20240531.csv\n",
      "Skipping empty file: parsed csvs/parsed_weekly_listeners_by_city_1711474237_20250516.csv\n",
      "Skipping empty file: parsed csvs/parsed_weekly_plays_by_city_1711474242_20250516.csv\n",
      "Skipping empty file: parsed csvs/parsed_weekly_plays_by_city_1711474243_20241018.csv\n",
      "Skipping empty file: parsed csvs/parsed_weekly_listeners_by_city_1711474241_20240712.csv\n",
      "Skipping empty file: parsed csvs/parsed_weekly_plays_by_city_1711474240_20241004.csv\n",
      "Skipping empty file: parsed csvs/parsed_weekly_plays_by_city_1711474241_20240719.csv\n",
      "Skipping empty file: parsed csvs/parsed_weekly_listeners_by_city_1711474242_20250509.csv\n",
      "Skipping empty file: parsed csvs/parsed_weekly_plays_by_city_1711474237_20250509.csv\n",
      "Skipping empty file: parsed csvs/parsed_weekly_listeners_by_city_1711474241_20240510.csv\n",
      "Skipping empty file: parsed csvs/parsed_weekly_listeners_by_city_1711474242_20250131.csv\n",
      "Skipping empty file: parsed csvs/parsed_weekly_plays_by_city_1711474239_20250214.csv\n",
      "Skipping empty file: parsed csvs/parsed_weekly_plays_by_city_1711474243_20240510.csv\n",
      "Skipping empty file: parsed csvs/parsed_weekly_plays_by_city_1711474240_20250509.csv\n",
      "Skipping empty file: parsed csvs/parsed_weekly_plays_by_city_1711474237_20241206.csv\n",
      "Skipping empty file: parsed csvs/parsed_weekly_listeners_by_city_1711474241_20241018.csv\n",
      "Skipping empty file: parsed csvs/parsed_weekly_listeners_by_city_1711474240_20250516.csv\n",
      "Skipping empty file: parsed csvs/parsed_weekly_listeners_by_city_1711474242_20241206.csv\n",
      "Skipping empty file: parsed csvs/parsed_weekly_plays_by_city_1711474242_20240503.csv\n",
      "Skipping empty file: parsed csvs/parsed_weekly_listeners_by_city_1711474235_20250131.csv\n",
      "Skipping empty file: parsed csvs/parsed_weekly_plays_by_city_1711474240_20250131.csv\n",
      "Skipping empty file: parsed csvs/parsed_weekly_listeners_by_city_1711474239_20240419.csv\n",
      "Skipping empty file: parsed csvs/parsed_weekly_plays_by_city_1711474240_20250124.csv\n",
      "Skipping empty file: parsed csvs/parsed_weekly_plays_by_city_1711474235_20241220.csv\n",
      "Skipping empty file: parsed csvs/parsed_weekly_listeners_by_city_1711474242_20241213.csv\n",
      "Skipping empty file: parsed csvs/parsed_weekly_plays_by_city_1711474241_20240126.csv\n",
      "Skipping empty file: parsed csvs/parsed_weekly_plays_by_city_1711474237_20241213.csv\n",
      "Skipping empty file: parsed csvs/parsed_weekly_plays_by_city_1711474234_20241227.csv\n",
      "Skipping empty file: parsed csvs/parsed_weekly_listeners_by_city_1711474241_20241227.csv\n",
      "Skipping empty file: parsed csvs/parsed_weekly_listeners_by_city_artist_20250502.csv\n",
      "Skipping empty file: parsed csvs/parsed_weekly_plays_by_city_1711474241_20241004.csv\n",
      "Skipping empty file: parsed csvs/parsed_weekly_plays_by_city_1711474239_20250207.csv\n",
      "Skipping empty file: parsed csvs/parsed_weekly_listeners_by_city_1711474243_20250509.csv\n",
      "Skipping empty file: parsed csvs/parsed_weekly_plays_by_city_1711474243_20250516.csv\n",
      "Skipping empty file: parsed csvs/parsed_weekly_listeners_by_city_1711474234_20241206.csv\n",
      "Skipping empty file: parsed csvs/parsed_weekly_plays_by_city_1711474241_20241206.csv\n",
      "Skipping empty file: parsed csvs/parsed_weekly_listeners_by_city_1711474241_20240503.csv\n",
      "Skipping empty file: parsed csvs/parsed_weekly_listeners_by_city_1711474243_20250131.csv\n",
      "Skipping empty file: parsed csvs/parsed_weekly_plays_by_city_1711474239_20240607.csv\n",
      "Skipping empty file: parsed csvs/parsed_weekly_listeners_by_city_1711474239_20240426.csv\n",
      "Skipping empty file: parsed csvs/parsed_weekly_listeners_by_city_1711474243_20250124.csv\n",
      "Skipping empty file: parsed csvs/parsed_weekly_plays_by_city_1711474243_20241220.csv\n",
      "Skipping empty file: parsed csvs/parsed_weekly_plays_by_city_1711474241_20241213.csv\n",
      "Skipping empty file: parsed csvs/parsed_weekly_listeners_by_city_1711474241_20250117.csv\n",
      "Skipping empty file: parsed csvs/parsed_weekly_listeners_by_city_1711474241_20250103.csv\n",
      "Skipping empty file: parsed csvs/parsed_weekly_listeners_by_city_1711474234_20241213.csv\n",
      "Skipping empty file: parsed csvs/parsed_weekly_plays_by_city_1711474241_20241011.csv\n",
      "Skipping empty file: parsed csvs/parsed_weekly_plays_by_city_1711474242_20241227.csv\n",
      "Skipping empty file: parsed csvs/parsed_weekly_listeners_by_city_1711474241_20240607.csv\n",
      "Skipping empty file: parsed csvs/parsed_weekly_plays_by_city_1711474237_20240419.csv\n",
      "Skipping empty file: parsed csvs/parsed_weekly_plays_by_city_1711474241_20240426.csv\n",
      "Skipping empty file: parsed csvs/parsed_weekly_listeners_by_city_1711474242_20240419.csv\n",
      "Skipping empty file: parsed csvs/parsed_weekly_listeners_by_city_1711474234_20231208.csv\n",
      "Skipping empty file: parsed csvs/parsed_weekly_plays_by_city_1711474243_20250404.csv\n",
      "Skipping empty file: parsed csvs/parsed_weekly_listeners_by_city_1711474239_20241213.csv\n",
      "Skipping empty file: parsed csvs/parsed_weekly_listeners_by_city_1711474237_20241122.csv\n",
      "Skipping empty file: parsed csvs/parsed_weekly_plays_by_city_1711474237_20241129.csv\n",
      "Skipping empty file: parsed csvs/parsed_weekly_listeners_by_city_1711474241_20250207.csv\n",
      "Skipping empty file: parsed csvs/parsed_weekly_listeners_by_city_1711474239_20241206.csv\n",
      "Skipping empty file: parsed csvs/parsed_weekly_listeners_by_city_1711474240_20250214.csv\n",
      "Skipping empty file: parsed csvs/parsed_weekly_plays_by_city_1711474242_20240607.csv\n",
      "Skipping empty file: parsed csvs/parsed_weekly_plays_by_city_1711474240_20250221.csv\n",
      "Skipping empty file: parsed csvs/parsed_weekly_listeners_by_city_1711474242_20240426.csv\n",
      "Skipping empty file: parsed csvs/parsed_weekly_listeners_by_city_1711474240_20250404.csv\n",
      "Skipping empty file: parsed csvs/parsed_weekly_listeners_by_city_1711474239_20240126.csv\n",
      "Skipping empty file: parsed csvs/parsed_weekly_plays_by_city_1711474235_20250404.csv\n",
      "Skipping empty file: parsed csvs/parsed_weekly_plays_by_city_1711474239_20241227.csv\n",
      "Skipping empty file: parsed csvs/parsed_weekly_plays_by_city_1711474239_20241018.csv\n",
      "Skipping empty file: parsed csvs/parsed_weekly_plays_by_city_1711474242_20241108.csv\n",
      "Skipping empty file: parsed csvs/parsed_weekly_listeners_by_city_1711474240_20250411.csv\n",
      "Skipping empty file: parsed csvs/parsed_weekly_listeners_by_city_1711474239_20240906.csv\n",
      "Skipping empty file: parsed csvs/parsed_weekly_listeners_by_city_1711474240_20250207.csv\n",
      "Skipping empty file: parsed csvs/parsed_weekly_plays_by_city_1711474240_20240209.csv\n",
      "Skipping empty file: parsed csvs/parsed_weekly_listeners_by_city_1711474241_20250214.csv\n",
      "Skipping empty file: parsed csvs/parsed_weekly_plays_by_city_1711474235_20240607.csv\n",
      "Skipping empty file: parsed csvs/parsed_weekly_listeners_by_city_1711474242_20250221.csv\n",
      "Skipping empty file: parsed csvs/parsed_weekly_plays_by_city_1711474237_20250221.csv\n",
      "Skipping empty file: parsed csvs/parsed_weekly_listeners_by_city_1711474237_20250404.csv\n",
      "Skipping empty file: parsed csvs/parsed_weekly_plays_by_city_1711474243_20241108.csv\n",
      "Skipping empty file: parsed csvs/parsed_weekly_plays_by_city_1711474239_20250502.csv\n",
      "Skipping empty file: parsed csvs/parsed_weekly_plays_by_city_1711474243_20250207.csv\n",
      "Skipping empty file: parsed csvs/parsed_weekly_listeners_by_city_1711474239_20250131.csv\n",
      "Skipping empty file: parsed csvs/parsed_weekly_plays_by_city_1711474239_20241220.csv\n",
      "Skipping empty file: parsed csvs/parsed_weekly_plays_by_city_1711474241_20250221.csv\n",
      "Skipping empty file: parsed csvs/parsed_weekly_listeners_by_city_1711474234_20250221.csv\n",
      "Skipping empty file: parsed csvs/parsed_weekly_plays_by_city_1711474243_20240607.csv\n",
      "Skipping empty file: parsed csvs/parsed_weekly_listeners_by_city_1711474239_20240531.csv\n",
      "Skipping empty file: parsed csvs/parsed_weekly_plays_by_city_1711474239_20240906.csv\n",
      "Skipping empty file: parsed csvs/parsed_weekly_listeners_by_city_1711474239_20241018.csv\n",
      "Skipping empty file: parsed csvs/parsed_weekly_plays_by_city_1711474240_20250411.csv\n",
      "Skipping empty file: parsed csvs/parsed_weekly_listeners_by_city_1711474242_20241108.csv\n",
      "Skipping empty file: parsed csvs/parsed_weekly_plays_by_city_1711474239_20240126.csv\n",
      "Skipping empty file: parsed csvs/parsed_weekly_plays_by_city_1711474240_20250404.csv\n",
      "Skipping empty file: parsed csvs/parsed_weekly_listeners_by_city_1711474235_20250404.csv\n",
      "Skipping empty file: parsed csvs/parsed_weekly_listeners_by_city_1711474239_20241227.csv\n",
      "Skipping empty file: parsed csvs/parsed_weekly_listeners_by_city_1711474242_20240607.csv\n",
      "Skipping empty file: parsed csvs/parsed_weekly_plays_by_city_1711474242_20240426.csv\n",
      "Skipping empty file: parsed csvs/parsed_weekly_listeners_by_city_1711474240_20250221.csv\n",
      "Skipping empty file: parsed csvs/parsed_weekly_plays_by_city_1711474240_20250214.csv\n",
      "Skipping empty file: parsed csvs/parsed_weekly_plays_by_city_1711474241_20250207.csv\n",
      "Skipping empty file: parsed csvs/parsed_weekly_plays_by_city_1711474239_20241206.csv\n",
      "Skipping empty file: parsed csvs/parsed_weekly_listeners_by_city_1711474243_20250404.csv\n",
      "Skipping empty file: parsed csvs/parsed_weekly_plays_by_city_1711474239_20241213.csv\n",
      "Skipping empty file: parsed csvs/parsed_weekly_plays_by_city_1711474237_20241122.csv\n",
      "Skipping empty file: parsed csvs/parsed_weekly_listeners_by_city_1711474237_20241129.csv\n",
      "Skipping empty file: parsed csvs/parsed_weekly_listeners_by_city_1711474237_20240419.csv\n",
      "Skipping empty file: parsed csvs/parsed_weekly_plays_by_city_1711474241_20240607.csv\n",
      "Skipping empty file: parsed csvs/parsed_weekly_plays_by_city_1711474242_20240419.csv\n",
      "Skipping empty file: parsed csvs/parsed_weekly_listeners_by_city_1711474241_20240426.csv\n",
      "Skipping empty file: parsed csvs/parsed_weekly_plays_by_city_1711474239_20240531.csv\n",
      "Skipping empty file: parsed csvs/parsed_weekly_listeners_by_city_1711474239_20241220.csv\n",
      "Skipping empty file: parsed csvs/parsed_weekly_listeners_by_city_1711474241_20250221.csv\n",
      "Skipping empty file: parsed csvs/parsed_weekly_plays_by_city_1711474234_20250221.csv\n",
      "Skipping empty file: parsed csvs/parsed_weekly_listeners_by_city_1711474243_20240607.csv\n",
      "Skipping empty file: parsed csvs/parsed_weekly_listeners_by_city_1711474239_20240301.csv\n",
      "Skipping empty file: parsed csvs/parsed_weekly_plays_by_city_1711474239_20250131.csv\n",
      "Skipping empty file: parsed csvs/parsed_weekly_listeners_by_city_1711474243_20241108.csv\n",
      "Skipping empty file: parsed csvs/parsed_weekly_listeners_by_city_1711474239_20250502.csv\n",
      "Skipping empty file: parsed csvs/parsed_weekly_listeners_by_city_1711474243_20250207.csv\n",
      "Skipping empty file: parsed csvs/parsed_weekly_plays_by_city_1711474237_20250404.csv\n",
      "Skipping empty file: parsed csvs/parsed_weekly_listeners_by_city_1711474235_20240607.csv\n",
      "Skipping empty file: parsed csvs/parsed_weekly_plays_by_city_1711474242_20250221.csv\n",
      "Skipping empty file: parsed csvs/parsed_weekly_listeners_by_city_1711474237_20250221.csv\n",
      "Skipping empty file: parsed csvs/parsed_weekly_plays_by_city_1711474241_20250214.csv\n",
      "Skipping empty file: parsed csvs/parsed_weekly_plays_by_city_1711474240_20250207.csv\n",
      "Skipping empty file: parsed csvs/parsed_weekly_listeners_by_city_1711474239_20250214.csv\n",
      "Skipping empty file: parsed csvs/parsed_weekly_plays_by_city_1711474242_20250131.csv\n",
      "Skipping empty file: parsed csvs/parsed_weekly_plays_by_city_1711474237_20250516.csv\n",
      "Skipping empty file: parsed csvs/parsed_weekly_plays_by_city_1711474241_20240712.csv\n",
      "Skipping empty file: parsed csvs/parsed_weekly_listeners_by_city_1711474242_20250516.csv\n",
      "Skipping empty file: parsed csvs/parsed_weekly_listeners_by_city_1711474243_20241018.csv\n",
      "Skipping empty file: parsed csvs/parsed_weekly_plays_by_city_1711474242_20250509.csv\n",
      "Skipping empty file: parsed csvs/parsed_weekly_listeners_by_city_1711474240_20241004.csv\n",
      "Skipping empty file: parsed csvs/parsed_weekly_listeners_by_city_1711474241_20240719.csv\n",
      "Skipping empty file: parsed csvs/parsed_weekly_plays_by_city_1711474241_20240510.csv\n",
      "Skipping empty file: parsed csvs/parsed_weekly_listeners_by_city_1711474237_20250509.csv\n",
      "Skipping empty file: parsed csvs/parsed_weekly_listeners_by_city_1711474243_20241227.csv\n",
      "Skipping empty file: parsed csvs/parsed_weekly_plays_by_city_1711474240_20240112.csv\n",
      "Skipping empty file: parsed csvs/parsed_weekly_listeners_by_city_1711474240_20241011.csv\n",
      "Skipping empty file: parsed csvs/parsed_weekly_plays_by_city_1711474235_20241213.csv\n",
      "Skipping empty file: parsed csvs/parsed_weekly_plays_by_city_1711474242_20240531.csv\n",
      "Skipping empty file: parsed csvs/parsed_weekly_listeners_by_city_1711474242_20241220.csv\n",
      "Skipping empty file: parsed csvs/parsed_weekly_plays_by_city_1711474242_20250124.csv\n",
      "Skipping empty file: parsed csvs/parsed_weekly_plays_by_city_1711474241_20240301.csv\n",
      "Skipping empty file: parsed csvs/parsed_weekly_listeners_by_city_1711474241_20250131.csv\n",
      "Skipping empty file: parsed csvs/parsed_weekly_plays_by_city_1711474241_20250516.csv\n",
      "Skipping empty file: parsed csvs/parsed_weekly_listeners_by_city_1711474242_20240712.csv\n",
      "Skipping empty file: parsed csvs/parsed_weekly_listeners_by_city_1711474241_20250509.csv\n",
      "Skipping empty file: parsed csvs/parsed_weekly_plays_by_city_1711474234_20250509.csv\n",
      "Skipping empty file: parsed csvs/parsed_weekly_listeners_by_city_1711474242_20240510.csv\n",
      "Skipping empty file: parsed csvs/parsed_weekly_listeners_by_city_1711474235_20241227.csv\n",
      "Skipping empty file: parsed csvs/parsed_weekly_listeners_by_city_1711474243_20250117.csv\n",
      "Skipping empty file: parsed csvs/parsed_weekly_listeners_by_city_1711474239_20250404.csv\n",
      "Skipping empty file: parsed csvs/parsed_weekly_plays_by_city_1711474243_20241213.csv\n",
      "Skipping empty file: parsed csvs/parsed_weekly_listeners_by_city_1711474241_20240531.csv\n",
      "Skipping empty file: parsed csvs/parsed_weekly_plays_by_city_1711474241_20241220.csv\n",
      "Skipping empty file: parsed csvs/parsed_weekly_plays_by_city_1711474234_20250124.csv\n",
      "Skipping empty file: parsed csvs/parsed_weekly_listeners_by_city_1711474241_20250124.csv\n",
      "Skipping empty file: parsed csvs/parsed_weekly_listeners_by_city_1711474234_20241220.csv\n",
      "Skipping empty file: parsed csvs/parsed_weekly_plays_by_city_1711474239_20250221.csv\n",
      "Skipping empty file: parsed csvs/parsed_weekly_listeners_by_city_1711474241_20241213.csv\n",
      "Skipping empty file: parsed csvs/parsed_weekly_plays_by_city_1711474234_20241213.csv\n",
      "Skipping empty file: parsed csvs/parsed_weekly_plays_by_city_1711474241_20250117.csv\n",
      "Skipping empty file: parsed csvs/parsed_weekly_listeners_by_city_1711474241_20241011.csv\n",
      "Skipping empty file: parsed csvs/parsed_weekly_listeners_by_city_1711474242_20241227.csv\n",
      "Skipping empty file: parsed csvs/parsed_weekly_listeners_by_city_1711474239_20240607.csv\n",
      "Skipping empty file: parsed csvs/parsed_weekly_plays_by_city_1711474239_20240426.csv\n",
      "Skipping empty file: parsed csvs/parsed_weekly_plays_by_city_1711474243_20250124.csv\n",
      "Skipping empty file: parsed csvs/parsed_weekly_listeners_by_city_1711474239_20240405.csv\n",
      "Skipping empty file: parsed csvs/parsed_weekly_listeners_by_city_1711474243_20241220.csv\n",
      "Skipping empty file: parsed csvs/parsed_weekly_plays_by_city_1711474240_20250307.csv\n",
      "Skipping empty file: parsed csvs/parsed_weekly_plays_by_city_1711474241_20240503.csv\n",
      "Skipping empty file: parsed csvs/parsed_weekly_plays_by_city_1711474243_20250131.csv\n",
      "Skipping empty file: parsed csvs/parsed_weekly_plays_by_city_1711474243_20250509.csv\n",
      "Skipping empty file: parsed csvs/parsed_weekly_listeners_by_city_1711474239_20250207.csv\n",
      "Skipping empty file: parsed csvs/parsed_weekly_listeners_by_city_1711474241_20241004.csv\n",
      "Skipping empty file: parsed csvs/parsed_weekly_plays_by_city_1711474234_20241206.csv\n",
      "Skipping empty file: parsed csvs/parsed_weekly_listeners_by_city_1711474242_20241018.csv\n",
      "Skipping empty file: parsed csvs/parsed_weekly_listeners_by_city_1711474243_20250516.csv\n",
      "Skipping empty file: parsed csvs/parsed_weekly_listeners_by_city_1711474241_20241206.csv\n",
      "Skipping empty file: parsed csvs/parsed_weekly_listeners_by_city_1711474241_20240126.csv\n",
      "Skipping empty file: parsed csvs/parsed_weekly_plays_by_city_1711474242_20241213.csv\n",
      "Skipping empty file: parsed csvs/parsed_weekly_listeners_by_city_1711474237_20241213.csv\n",
      "Skipping empty file: parsed csvs/parsed_weekly_listeners_by_city_1711474234_20241227.csv\n",
      "Skipping empty file: parsed csvs/parsed_weekly_plays_by_city_1711474241_20241227.csv\n",
      "Skipping empty file: parsed csvs/parsed_weekly_plays_by_city_1711474239_20240419.csv\n",
      "Skipping empty file: parsed csvs/parsed_weekly_listeners_by_city_1711474235_20241220.csv\n",
      "Skipping empty file: parsed csvs/parsed_weekly_listeners_by_city_1711474239_20240412.csv\n",
      "Skipping empty file: parsed csvs/parsed_weekly_listeners_by_city_1711474240_20250124.csv\n",
      "Skipping empty file: parsed csvs/parsed_weekly_listeners_by_city_1711474239_20231229.csv\n",
      "Skipping empty file: parsed csvs/parsed_weekly_plays_by_city_1711474235_20250131.csv\n",
      "Skipping empty file: parsed csvs/parsed_weekly_listeners_by_city_1711474242_20240503.csv\n",
      "Skipping empty file: parsed csvs/parsed_weekly_listeners_by_city_1711474240_20250131.csv\n",
      "Skipping empty file: parsed csvs/parsed_weekly_listeners_by_city_1711474234_20231110.csv\n",
      "Skipping empty file: parsed csvs/parsed_weekly_listeners_by_city_1711474243_20240510.csv\n",
      "Skipping empty file: parsed csvs/parsed_weekly_listeners_by_city_1711474240_20250509.csv\n",
      "Skipping empty file: parsed csvs/parsed_weekly_plays_by_city_1711474241_20241018.csv\n",
      "Skipping empty file: parsed csvs/parsed_weekly_plays_by_city_1711474240_20250516.csv\n",
      "Skipping empty file: parsed csvs/parsed_weekly_listeners_by_city_1711474237_20241206.csv\n",
      "Skipping empty file: parsed csvs/parsed_weekly_plays_by_city_1711474242_20241206.csv\n",
      "✅ song_velocity_table.csv created with prepared data\n",
      "Data shape: (21312, 11)Columns: Index(['city', 'previous_period', 'current_period', '%_change', 'week', 'song',\n",
      "       'song_id', 'measure', 'level', 'grouping', 'period_type'],\n",
      "      dtype='object')\n"
     ]
    }
   ],
   "source": [
    "df=load_and_prepare_data()\n",
    "print(f\"Data shape: {df.shape}\"\n",
    "      f\"Columns: {df.columns}\")"
   ]
  },
  {
   "cell_type": "code",
   "execution_count": 3,
   "metadata": {},
   "outputs": [
    {
     "data": {
      "text/html": [
       "<div>\n",
       "<style scoped>\n",
       "    .dataframe tbody tr th:only-of-type {\n",
       "        vertical-align: middle;\n",
       "    }\n",
       "\n",
       "    .dataframe tbody tr th {\n",
       "        vertical-align: top;\n",
       "    }\n",
       "\n",
       "    .dataframe thead th {\n",
       "        text-align: right;\n",
       "    }\n",
       "</style>\n",
       "<table border=\"1\" class=\"dataframe\">\n",
       "  <thead>\n",
       "    <tr style=\"text-align: right;\">\n",
       "      <th></th>\n",
       "      <th>city</th>\n",
       "      <th>previous_period</th>\n",
       "      <th>current_period</th>\n",
       "      <th>%_change</th>\n",
       "      <th>week</th>\n",
       "      <th>song</th>\n",
       "      <th>song_id</th>\n",
       "      <th>measure</th>\n",
       "      <th>level</th>\n",
       "      <th>grouping</th>\n",
       "      <th>period_type</th>\n",
       "    </tr>\n",
       "  </thead>\n",
       "  <tbody>\n",
       "    <tr>\n",
       "      <th>0</th>\n",
       "      <td>All Cities</td>\n",
       "      <td>23</td>\n",
       "      <td>11</td>\n",
       "      <td>-52%</td>\n",
       "      <td>20240927</td>\n",
       "      <td>Artist Level</td>\n",
       "      <td>artist</td>\n",
       "      <td>listeners</td>\n",
       "      <td>artist</td>\n",
       "      <td>city</td>\n",
       "      <td>weekly</td>\n",
       "    </tr>\n",
       "    <tr>\n",
       "      <th>1</th>\n",
       "      <td>Adelaide</td>\n",
       "      <td>0</td>\n",
       "      <td>1</td>\n",
       "      <td>-</td>\n",
       "      <td>20240927</td>\n",
       "      <td>Artist Level</td>\n",
       "      <td>artist</td>\n",
       "      <td>listeners</td>\n",
       "      <td>artist</td>\n",
       "      <td>city</td>\n",
       "      <td>weekly</td>\n",
       "    </tr>\n",
       "    <tr>\n",
       "      <th>2</th>\n",
       "      <td>Allentown</td>\n",
       "      <td>0</td>\n",
       "      <td>1</td>\n",
       "      <td>-</td>\n",
       "      <td>20240927</td>\n",
       "      <td>Artist Level</td>\n",
       "      <td>artist</td>\n",
       "      <td>listeners</td>\n",
       "      <td>artist</td>\n",
       "      <td>city</td>\n",
       "      <td>weekly</td>\n",
       "    </tr>\n",
       "    <tr>\n",
       "      <th>3</th>\n",
       "      <td>Birmingham</td>\n",
       "      <td>0</td>\n",
       "      <td>1</td>\n",
       "      <td>-</td>\n",
       "      <td>20240927</td>\n",
       "      <td>Artist Level</td>\n",
       "      <td>artist</td>\n",
       "      <td>listeners</td>\n",
       "      <td>artist</td>\n",
       "      <td>city</td>\n",
       "      <td>weekly</td>\n",
       "    </tr>\n",
       "    <tr>\n",
       "      <th>4</th>\n",
       "      <td>Brasília</td>\n",
       "      <td>0</td>\n",
       "      <td>1</td>\n",
       "      <td>-</td>\n",
       "      <td>20240927</td>\n",
       "      <td>Artist Level</td>\n",
       "      <td>artist</td>\n",
       "      <td>listeners</td>\n",
       "      <td>artist</td>\n",
       "      <td>city</td>\n",
       "      <td>weekly</td>\n",
       "    </tr>\n",
       "  </tbody>\n",
       "</table>\n",
       "</div>"
      ],
      "text/plain": [
       "         city  previous_period  current_period %_change      week  \\\n",
       "0  All Cities               23              11     -52%  20240927   \n",
       "1    Adelaide                0               1        -  20240927   \n",
       "2   Allentown                0               1        -  20240927   \n",
       "3  Birmingham                0               1        -  20240927   \n",
       "4    Brasília                0               1        -  20240927   \n",
       "\n",
       "           song song_id    measure   level grouping period_type  \n",
       "0  Artist Level  artist  listeners  artist     city      weekly  \n",
       "1  Artist Level  artist  listeners  artist     city      weekly  \n",
       "2  Artist Level  artist  listeners  artist     city      weekly  \n",
       "3  Artist Level  artist  listeners  artist     city      weekly  \n",
       "4  Artist Level  artist  listeners  artist     city      weekly  "
      ]
     },
     "execution_count": 3,
     "metadata": {},
     "output_type": "execute_result"
    }
   ],
   "source": [
    "df.head()"
   ]
  },
  {
   "cell_type": "code",
   "execution_count": null,
   "metadata": {},
   "outputs": [],
   "source": []
  },
  {
   "cell_type": "code",
   "execution_count": 4,
   "metadata": {},
   "outputs": [
    {
     "name": "stdout",
     "output_type": "stream",
     "text": [
      "ℹ️ Using existing DataFrame from notebook context\n",
      "\n",
      "City Metrics Summary (First 12 Weeks After Release):\n",
      "================================================================================\n",
      "         city  avg_weeks_to_peak  peak_streams  peak_listeners  songs_analyzed  songs_peaked_first_week  pct_peaked_first_week  songs_missing_release_date  songs_still_growing  total_streams  total_listeners  consistency_score  avg_weeks_to_adopt      category\n",
      "       Denver                0.1            49              38              12                       11                   91.7                           0                    0            232               74               67.2                 0.0 Early Adopter\n",
      "      Seattle                4.0            33              25               7                        1                   14.3                           0                    0            118               36               76.0                 3.8  Late Bloomer\n",
      "      Chicago                4.4            33              24              12                        0                    0.0                           0                    0            218               51               80.9                 2.8  Late Bloomer\n",
      "      Atlanta                1.0            32              25               8                        0                    0.0                           0                    0            111               36               73.7                 0.3   Mid Adopter\n",
      "     Portland                0.7            30              19               5                        1                   20.0                           0                    0            105               24               81.8                 0.3   Mid Adopter\n",
      "      Toronto                1.0            27              21              12                        0                    0.0                           0                    1            137               35               58.7                 0.8   Mid Adopter\n",
      "      Detroit                3.0            27              24               4                        0                    0.0                           0                    1             78               29               82.6                 2.0   Mid Adopter\n",
      "New York City                6.0            22              16              12                        1                    8.3                           0                    5            191               44               68.4                 0.0 Early Adopter\n",
      "    Nashville                0.9            19              13               9                        2                   22.2                           0                    0             65               23               63.3                 0.9   Mid Adopter\n",
      "  Minneapolis                1.0            18              12               2                        1                   50.0                           0                    0             53               17               66.7                 0.0 Early Adopter\n",
      "    Charlotte                1.5            18              15               6                        0                    0.0                           0                    0             73               20               78.9                 0.0 Early Adopter\n",
      "  Los Angeles                4.1            18              15              10                        1                   10.0                           0                    0             86               30               62.5                 4.0  Late Bloomer\n",
      "     San Jose                3.7            17              14               6                        1                   16.7                           0                    0             84               24               64.7                 3.0  Late Bloomer\n",
      "       Boston                1.0            17              12               8                        2                   25.0                           0                    0             57               22               75.0                 0.2   Mid Adopter\n",
      "    Vancouver                0.5            16              13               4                        1                   25.0                           0                    1             55               18               66.7                 NaN  Late Bloomer\n",
      "    St. Louis                1.0            15              10              11                        2                   18.2                           0                    0             53               22               60.5                 0.8   Mid Adopter\n",
      "       London                0.4            15              11              11                        9                   81.8                           0                    0             69               22               58.8                 0.0 Early Adopter\n",
      "   Sacramento                1.4            14              11              10                        0                    0.0                           0                    0             52               21               67.9                 0.8   Mid Adopter\n",
      "       Dallas                2.0            14              14               9                        4                   44.4                           0                    0             71               22               66.7                 2.0   Mid Adopter\n",
      "        Tokyo                2.2            11               7              11                        0                    0.0                           0                    0             94               41               66.0                 1.6   Mid Adopter\n",
      "    Las Vegas                0.2             9               5               9                        7                   77.8                           0                    0             51               15               57.8                 0.0 Early Adopter\n",
      "        Paris                4.8             8               7              11                        0                    0.0                           0                    0             52               17               58.3                 4.5  Late Bloomer\n",
      "\n",
      "Interpretation Notes:\n",
      "- Analysis limited to first 12 weeks after release for each song\n",
      "- avg_weeks_to_peak: Average weeks from release to peak streams\n",
      "- avg_weeks_to_adopt: Average weeks from release to first activity\n",
      "- consistency_score: Percentage of weeks with activity since first activity\n",
      "- category: City's adoption pattern (Early Adopter, Mid Adopter, Late Bloomer)\n",
      "- songs_peaked_first_week: Number of songs that peaked in their first week\n",
      "- songs_still_growing: Number of songs that haven't peaked yet (within first 12 weeks)\n",
      "\n",
      "Available DataFrames for Further Analysis:\n",
      "- city_metrics: City-level aggregated metrics including adoption patterns and peak behavior\n",
      "  • Contains: city name, adoption category, consistency scores, peak metrics, and engagement stats\n",
      "- song_metrics: Song-level metrics for each city-song combination\n",
      "  • Contains: individual song performance, adoption timing, and peak behavior for each city\n",
      "- category_metrics: Summary statistics for each adoption category\n",
      "  • Contains: average streams, number of cities, and other aggregated metrics by category\n"
     ]
    },
    {
     "data": {
      "application/vnd.plotly.v1+json": {
       "config": {
        "plotlyServerURL": "https://plot.ly"
       },
       "data": [
        {
         "customdata": [
          [
           67.2,
           0,
           232,
           "Early Adopter"
          ],
          [
           68.4,
           0,
           191,
           "Early Adopter"
          ],
          [
           66.7,
           0,
           53,
           "Early Adopter"
          ],
          [
           78.9,
           0,
           73,
           "Early Adopter"
          ],
          [
           58.8,
           0,
           69,
           "Early Adopter"
          ],
          [
           57.8,
           0,
           51,
           "Early Adopter"
          ]
         ],
         "hovertemplate": "<b>%{hovertext}</b><br>Consistency: %{customdata[0]:.1f}%<br>Weeks to First Stream: %{customdata[1]:.1f}<br>Total Streams: %{customdata[2]:,.0f}<br>Category: %{customdata[3]}<extra></extra>",
         "hovertext": [
          "Denver",
          "New York City",
          "Minneapolis",
          "Charlotte",
          "London",
          "Las Vegas"
         ],
         "legendgroup": "Early Adopter",
         "marker": {
          "color": "rgb(102,194,165)",
          "size": {
           "bdata": "6AC/ADUASQBFADMA",
           "dtype": "i2"
          },
          "sizemode": "area",
          "sizeref": 0.58,
          "symbol": "circle"
         },
         "mode": "markers",
         "name": "Early Adopter",
         "orientation": "v",
         "showlegend": true,
         "type": "scatter",
         "x": {
          "bdata": "AAAAAAAAAAAAAAAAAAAAAAAAAAAAAAAAAAAAAAAAAAAAAAAAAAAAAAAAAAAAAAAA",
          "dtype": "f8"
         },
         "xaxis": "x",
         "y": {
          "bdata": "zczMzMzMUECamZmZmRlRQM3MzMzMrFBAmpmZmZm5U0BmZmZmZmZNQGZmZmZm5kxA",
          "dtype": "f8"
         },
         "yaxis": "y"
        },
        {
         "customdata": [
          [
           76,
           3.8,
           118,
           "Late Bloomer"
          ],
          [
           80.9,
           2.8,
           218,
           "Late Bloomer"
          ],
          [
           62.5,
           4,
           86,
           "Late Bloomer"
          ],
          [
           64.7,
           3,
           84,
           "Late Bloomer"
          ],
          [
           66.7,
           null,
           55,
           "Late Bloomer"
          ],
          [
           58.3,
           4.5,
           52,
           "Late Bloomer"
          ]
         ],
         "hovertemplate": "<b>%{hovertext}</b><br>Consistency: %{customdata[0]:.1f}%<br>Weeks to First Stream: %{customdata[1]:.1f}<br>Total Streams: %{customdata[2]:,.0f}<br>Category: %{customdata[3]}<extra></extra>",
         "hovertext": [
          "Seattle",
          "Chicago",
          "Los Angeles",
          "San Jose",
          "Vancouver",
          "Paris"
         ],
         "legendgroup": "Late Bloomer",
         "marker": {
          "color": "rgb(252,141,98)",
          "size": {
           "bdata": "dgDaAFYAVAA3ADQA",
           "dtype": "i2"
          },
          "sizemode": "area",
          "sizeref": 0.58,
          "symbol": "circle"
         },
         "mode": "markers",
         "name": "Late Bloomer",
         "orientation": "v",
         "showlegend": true,
         "type": "scatter",
         "x": {
          "bdata": "ZmZmZmZmDkBmZmZmZmYGQAAAAAAAABBAAAAAAAAACEAAAAAAAAD4fwAAAAAAABJA",
          "dtype": "f8"
         },
         "xaxis": "x",
         "y": {
          "bdata": "AAAAAAAAU0CamZmZmTlUQAAAAAAAQE9AzczMzMwsUEDNzMzMzKxQQGZmZmZmJk1A",
          "dtype": "f8"
         },
         "yaxis": "y"
        },
        {
         "customdata": [
          [
           73.7,
           0.3,
           111,
           "Mid Adopter"
          ],
          [
           81.8,
           0.3,
           105,
           "Mid Adopter"
          ],
          [
           58.7,
           0.8,
           137,
           "Mid Adopter"
          ],
          [
           82.6,
           2,
           78,
           "Mid Adopter"
          ],
          [
           63.3,
           0.9,
           65,
           "Mid Adopter"
          ],
          [
           75,
           0.2,
           57,
           "Mid Adopter"
          ],
          [
           60.5,
           0.8,
           53,
           "Mid Adopter"
          ],
          [
           67.9,
           0.8,
           52,
           "Mid Adopter"
          ],
          [
           66.7,
           2,
           71,
           "Mid Adopter"
          ],
          [
           66,
           1.6,
           94,
           "Mid Adopter"
          ]
         ],
         "hovertemplate": "<b>%{hovertext}</b><br>Consistency: %{customdata[0]:.1f}%<br>Weeks to First Stream: %{customdata[1]:.1f}<br>Total Streams: %{customdata[2]:,.0f}<br>Category: %{customdata[3]}<extra></extra>",
         "hovertext": [
          "Atlanta",
          "Portland",
          "Toronto",
          "Detroit",
          "Nashville",
          "Boston",
          "St. Louis",
          "Sacramento",
          "Dallas",
          "Tokyo"
         ],
         "legendgroup": "Mid Adopter",
         "marker": {
          "color": "rgb(141,160,203)",
          "size": {
           "bdata": "bwBpAIkATgBBADkANQA0AEcAXgA=",
           "dtype": "i2"
          },
          "sizemode": "area",
          "sizeref": 0.58,
          "symbol": "circle"
         },
         "mode": "markers",
         "name": "Mid Adopter",
         "orientation": "v",
         "showlegend": true,
         "type": "scatter",
         "x": {
          "bdata": "MzMzMzMz0z8zMzMzMzPTP5qZmZmZmek/AAAAAAAAAEDNzMzMzMzsP5qZmZmZmck/mpmZmZmZ6T+amZmZmZnpPwAAAAAAAABAmpmZmZmZ+T8=",
          "dtype": "f8"
         },
         "xaxis": "x",
         "y": {
          "bdata": "zczMzMxsUkAzMzMzM3NUQJqZmZmZWU1AZmZmZmamVEBmZmZmZqZPQAAAAAAAwFJAAAAAAABATkCamZmZmflQQM3MzMzMrFBAAAAAAACAUEA=",
          "dtype": "f8"
         },
         "yaxis": "y"
        }
       ],
       "layout": {
        "height": 800,
        "legend": {
         "itemsizing": "constant",
         "orientation": "h",
         "title": {
          "text": "Adoption Category"
         },
         "tracegroupgap": 0,
         "x": 0.5,
         "xanchor": "center",
         "y": -0.2,
         "yanchor": "top"
        },
        "showlegend": true,
        "template": {
         "data": {
          "bar": [
           {
            "error_x": {
             "color": "#2a3f5f"
            },
            "error_y": {
             "color": "#2a3f5f"
            },
            "marker": {
             "line": {
              "color": "#E5ECF6",
              "width": 0.5
             },
             "pattern": {
              "fillmode": "overlay",
              "size": 10,
              "solidity": 0.2
             }
            },
            "type": "bar"
           }
          ],
          "barpolar": [
           {
            "marker": {
             "line": {
              "color": "#E5ECF6",
              "width": 0.5
             },
             "pattern": {
              "fillmode": "overlay",
              "size": 10,
              "solidity": 0.2
             }
            },
            "type": "barpolar"
           }
          ],
          "carpet": [
           {
            "aaxis": {
             "endlinecolor": "#2a3f5f",
             "gridcolor": "white",
             "linecolor": "white",
             "minorgridcolor": "white",
             "startlinecolor": "#2a3f5f"
            },
            "baxis": {
             "endlinecolor": "#2a3f5f",
             "gridcolor": "white",
             "linecolor": "white",
             "minorgridcolor": "white",
             "startlinecolor": "#2a3f5f"
            },
            "type": "carpet"
           }
          ],
          "choropleth": [
           {
            "colorbar": {
             "outlinewidth": 0,
             "ticks": ""
            },
            "type": "choropleth"
           }
          ],
          "contour": [
           {
            "colorbar": {
             "outlinewidth": 0,
             "ticks": ""
            },
            "colorscale": [
             [
              0,
              "#0d0887"
             ],
             [
              0.1111111111111111,
              "#46039f"
             ],
             [
              0.2222222222222222,
              "#7201a8"
             ],
             [
              0.3333333333333333,
              "#9c179e"
             ],
             [
              0.4444444444444444,
              "#bd3786"
             ],
             [
              0.5555555555555556,
              "#d8576b"
             ],
             [
              0.6666666666666666,
              "#ed7953"
             ],
             [
              0.7777777777777778,
              "#fb9f3a"
             ],
             [
              0.8888888888888888,
              "#fdca26"
             ],
             [
              1,
              "#f0f921"
             ]
            ],
            "type": "contour"
           }
          ],
          "contourcarpet": [
           {
            "colorbar": {
             "outlinewidth": 0,
             "ticks": ""
            },
            "type": "contourcarpet"
           }
          ],
          "heatmap": [
           {
            "colorbar": {
             "outlinewidth": 0,
             "ticks": ""
            },
            "colorscale": [
             [
              0,
              "#0d0887"
             ],
             [
              0.1111111111111111,
              "#46039f"
             ],
             [
              0.2222222222222222,
              "#7201a8"
             ],
             [
              0.3333333333333333,
              "#9c179e"
             ],
             [
              0.4444444444444444,
              "#bd3786"
             ],
             [
              0.5555555555555556,
              "#d8576b"
             ],
             [
              0.6666666666666666,
              "#ed7953"
             ],
             [
              0.7777777777777778,
              "#fb9f3a"
             ],
             [
              0.8888888888888888,
              "#fdca26"
             ],
             [
              1,
              "#f0f921"
             ]
            ],
            "type": "heatmap"
           }
          ],
          "histogram": [
           {
            "marker": {
             "pattern": {
              "fillmode": "overlay",
              "size": 10,
              "solidity": 0.2
             }
            },
            "type": "histogram"
           }
          ],
          "histogram2d": [
           {
            "colorbar": {
             "outlinewidth": 0,
             "ticks": ""
            },
            "colorscale": [
             [
              0,
              "#0d0887"
             ],
             [
              0.1111111111111111,
              "#46039f"
             ],
             [
              0.2222222222222222,
              "#7201a8"
             ],
             [
              0.3333333333333333,
              "#9c179e"
             ],
             [
              0.4444444444444444,
              "#bd3786"
             ],
             [
              0.5555555555555556,
              "#d8576b"
             ],
             [
              0.6666666666666666,
              "#ed7953"
             ],
             [
              0.7777777777777778,
              "#fb9f3a"
             ],
             [
              0.8888888888888888,
              "#fdca26"
             ],
             [
              1,
              "#f0f921"
             ]
            ],
            "type": "histogram2d"
           }
          ],
          "histogram2dcontour": [
           {
            "colorbar": {
             "outlinewidth": 0,
             "ticks": ""
            },
            "colorscale": [
             [
              0,
              "#0d0887"
             ],
             [
              0.1111111111111111,
              "#46039f"
             ],
             [
              0.2222222222222222,
              "#7201a8"
             ],
             [
              0.3333333333333333,
              "#9c179e"
             ],
             [
              0.4444444444444444,
              "#bd3786"
             ],
             [
              0.5555555555555556,
              "#d8576b"
             ],
             [
              0.6666666666666666,
              "#ed7953"
             ],
             [
              0.7777777777777778,
              "#fb9f3a"
             ],
             [
              0.8888888888888888,
              "#fdca26"
             ],
             [
              1,
              "#f0f921"
             ]
            ],
            "type": "histogram2dcontour"
           }
          ],
          "mesh3d": [
           {
            "colorbar": {
             "outlinewidth": 0,
             "ticks": ""
            },
            "type": "mesh3d"
           }
          ],
          "parcoords": [
           {
            "line": {
             "colorbar": {
              "outlinewidth": 0,
              "ticks": ""
             }
            },
            "type": "parcoords"
           }
          ],
          "pie": [
           {
            "automargin": true,
            "type": "pie"
           }
          ],
          "scatter": [
           {
            "fillpattern": {
             "fillmode": "overlay",
             "size": 10,
             "solidity": 0.2
            },
            "type": "scatter"
           }
          ],
          "scatter3d": [
           {
            "line": {
             "colorbar": {
              "outlinewidth": 0,
              "ticks": ""
             }
            },
            "marker": {
             "colorbar": {
              "outlinewidth": 0,
              "ticks": ""
             }
            },
            "type": "scatter3d"
           }
          ],
          "scattercarpet": [
           {
            "marker": {
             "colorbar": {
              "outlinewidth": 0,
              "ticks": ""
             }
            },
            "type": "scattercarpet"
           }
          ],
          "scattergeo": [
           {
            "marker": {
             "colorbar": {
              "outlinewidth": 0,
              "ticks": ""
             }
            },
            "type": "scattergeo"
           }
          ],
          "scattergl": [
           {
            "marker": {
             "colorbar": {
              "outlinewidth": 0,
              "ticks": ""
             }
            },
            "type": "scattergl"
           }
          ],
          "scattermap": [
           {
            "marker": {
             "colorbar": {
              "outlinewidth": 0,
              "ticks": ""
             }
            },
            "type": "scattermap"
           }
          ],
          "scattermapbox": [
           {
            "marker": {
             "colorbar": {
              "outlinewidth": 0,
              "ticks": ""
             }
            },
            "type": "scattermapbox"
           }
          ],
          "scatterpolar": [
           {
            "marker": {
             "colorbar": {
              "outlinewidth": 0,
              "ticks": ""
             }
            },
            "type": "scatterpolar"
           }
          ],
          "scatterpolargl": [
           {
            "marker": {
             "colorbar": {
              "outlinewidth": 0,
              "ticks": ""
             }
            },
            "type": "scatterpolargl"
           }
          ],
          "scatterternary": [
           {
            "marker": {
             "colorbar": {
              "outlinewidth": 0,
              "ticks": ""
             }
            },
            "type": "scatterternary"
           }
          ],
          "surface": [
           {
            "colorbar": {
             "outlinewidth": 0,
             "ticks": ""
            },
            "colorscale": [
             [
              0,
              "#0d0887"
             ],
             [
              0.1111111111111111,
              "#46039f"
             ],
             [
              0.2222222222222222,
              "#7201a8"
             ],
             [
              0.3333333333333333,
              "#9c179e"
             ],
             [
              0.4444444444444444,
              "#bd3786"
             ],
             [
              0.5555555555555556,
              "#d8576b"
             ],
             [
              0.6666666666666666,
              "#ed7953"
             ],
             [
              0.7777777777777778,
              "#fb9f3a"
             ],
             [
              0.8888888888888888,
              "#fdca26"
             ],
             [
              1,
              "#f0f921"
             ]
            ],
            "type": "surface"
           }
          ],
          "table": [
           {
            "cells": {
             "fill": {
              "color": "#EBF0F8"
             },
             "line": {
              "color": "white"
             }
            },
            "header": {
             "fill": {
              "color": "#C8D4E3"
             },
             "line": {
              "color": "white"
             }
            },
            "type": "table"
           }
          ]
         },
         "layout": {
          "annotationdefaults": {
           "arrowcolor": "#2a3f5f",
           "arrowhead": 0,
           "arrowwidth": 1
          },
          "autotypenumbers": "strict",
          "coloraxis": {
           "colorbar": {
            "outlinewidth": 0,
            "ticks": ""
           }
          },
          "colorscale": {
           "diverging": [
            [
             0,
             "#8e0152"
            ],
            [
             0.1,
             "#c51b7d"
            ],
            [
             0.2,
             "#de77ae"
            ],
            [
             0.3,
             "#f1b6da"
            ],
            [
             0.4,
             "#fde0ef"
            ],
            [
             0.5,
             "#f7f7f7"
            ],
            [
             0.6,
             "#e6f5d0"
            ],
            [
             0.7,
             "#b8e186"
            ],
            [
             0.8,
             "#7fbc41"
            ],
            [
             0.9,
             "#4d9221"
            ],
            [
             1,
             "#276419"
            ]
           ],
           "sequential": [
            [
             0,
             "#0d0887"
            ],
            [
             0.1111111111111111,
             "#46039f"
            ],
            [
             0.2222222222222222,
             "#7201a8"
            ],
            [
             0.3333333333333333,
             "#9c179e"
            ],
            [
             0.4444444444444444,
             "#bd3786"
            ],
            [
             0.5555555555555556,
             "#d8576b"
            ],
            [
             0.6666666666666666,
             "#ed7953"
            ],
            [
             0.7777777777777778,
             "#fb9f3a"
            ],
            [
             0.8888888888888888,
             "#fdca26"
            ],
            [
             1,
             "#f0f921"
            ]
           ],
           "sequentialminus": [
            [
             0,
             "#0d0887"
            ],
            [
             0.1111111111111111,
             "#46039f"
            ],
            [
             0.2222222222222222,
             "#7201a8"
            ],
            [
             0.3333333333333333,
             "#9c179e"
            ],
            [
             0.4444444444444444,
             "#bd3786"
            ],
            [
             0.5555555555555556,
             "#d8576b"
            ],
            [
             0.6666666666666666,
             "#ed7953"
            ],
            [
             0.7777777777777778,
             "#fb9f3a"
            ],
            [
             0.8888888888888888,
             "#fdca26"
            ],
            [
             1,
             "#f0f921"
            ]
           ]
          },
          "colorway": [
           "#636efa",
           "#EF553B",
           "#00cc96",
           "#ab63fa",
           "#FFA15A",
           "#19d3f3",
           "#FF6692",
           "#B6E880",
           "#FF97FF",
           "#FECB52"
          ],
          "font": {
           "color": "#2a3f5f"
          },
          "geo": {
           "bgcolor": "white",
           "lakecolor": "white",
           "landcolor": "#E5ECF6",
           "showlakes": true,
           "showland": true,
           "subunitcolor": "white"
          },
          "hoverlabel": {
           "align": "left"
          },
          "hovermode": "closest",
          "mapbox": {
           "style": "light"
          },
          "paper_bgcolor": "white",
          "plot_bgcolor": "#E5ECF6",
          "polar": {
           "angularaxis": {
            "gridcolor": "white",
            "linecolor": "white",
            "ticks": ""
           },
           "bgcolor": "#E5ECF6",
           "radialaxis": {
            "gridcolor": "white",
            "linecolor": "white",
            "ticks": ""
           }
          },
          "scene": {
           "xaxis": {
            "backgroundcolor": "#E5ECF6",
            "gridcolor": "white",
            "gridwidth": 2,
            "linecolor": "white",
            "showbackground": true,
            "ticks": "",
            "zerolinecolor": "white"
           },
           "yaxis": {
            "backgroundcolor": "#E5ECF6",
            "gridcolor": "white",
            "gridwidth": 2,
            "linecolor": "white",
            "showbackground": true,
            "ticks": "",
            "zerolinecolor": "white"
           },
           "zaxis": {
            "backgroundcolor": "#E5ECF6",
            "gridcolor": "white",
            "gridwidth": 2,
            "linecolor": "white",
            "showbackground": true,
            "ticks": "",
            "zerolinecolor": "white"
           }
          },
          "shapedefaults": {
           "line": {
            "color": "#2a3f5f"
           }
          },
          "ternary": {
           "aaxis": {
            "gridcolor": "white",
            "linecolor": "white",
            "ticks": ""
           },
           "baxis": {
            "gridcolor": "white",
            "linecolor": "white",
            "ticks": ""
           },
           "bgcolor": "#E5ECF6",
           "caxis": {
            "gridcolor": "white",
            "linecolor": "white",
            "ticks": ""
           }
          },
          "title": {
           "x": 0.05
          },
          "xaxis": {
           "automargin": true,
           "gridcolor": "white",
           "linecolor": "white",
           "ticks": "",
           "title": {
            "standoff": 15
           },
           "zerolinecolor": "white",
           "zerolinewidth": 2
          },
          "yaxis": {
           "automargin": true,
           "gridcolor": "white",
           "linecolor": "white",
           "ticks": "",
           "title": {
            "standoff": 15
           },
           "zerolinecolor": "white",
           "zerolinewidth": 2
          }
         }
        },
        "title": {
         "text": "City Adoption Patterns: Speed vs Consistency<br>(Cities with 50+ Streams)"
        },
        "xaxis": {
         "anchor": "y",
         "domain": [
          0,
          1
         ],
         "title": {
          "text": "Average Weeks Until First Activity"
         }
        },
        "yaxis": {
         "anchor": "x",
         "domain": [
          0,
          1
         ],
         "title": {
          "text": "Consistency Score (%)"
         }
        }
       }
      }
     },
     "metadata": {},
     "output_type": "display_data"
    },
    {
     "data": {
      "application/vnd.plotly.v1+json": {
       "config": {
        "plotlyServerURL": "https://plot.ly"
       },
       "data": [
        {
         "customdata": {
          "bdata": "AAAAAADgW0A=",
          "dtype": "f8",
          "shape": "1, 1"
         },
         "hovertemplate": "<b>%{x}</b><br>Number of Cities: %{y}<br>Average Streams per City: %{customdata[0]:,.0f}<extra></extra>",
         "legendgroup": "Early Adopter",
         "marker": {
          "color": "rgb(102,194,165)",
          "pattern": {
           "shape": ""
          }
         },
         "name": "Early Adopter",
         "orientation": "v",
         "showlegend": true,
         "textposition": "outside",
         "texttemplate": "%{y}",
         "type": "bar",
         "x": [
          "Early Adopter"
         ],
         "xaxis": "x",
         "y": {
          "bdata": "Bg==",
          "dtype": "i1"
         },
         "yaxis": "y"
        },
        {
         "customdata": {
          "bdata": "zczMzMyMWUA=",
          "dtype": "f8",
          "shape": "1, 1"
         },
         "hovertemplate": "<b>%{x}</b><br>Number of Cities: %{y}<br>Average Streams per City: %{customdata[0]:,.0f}<extra></extra>",
         "legendgroup": "Late Bloomer",
         "marker": {
          "color": "rgb(252,141,98)",
          "pattern": {
           "shape": ""
          }
         },
         "name": "Late Bloomer",
         "orientation": "v",
         "showlegend": true,
         "textposition": "outside",
         "texttemplate": "%{y}",
         "type": "bar",
         "x": [
          "Late Bloomer"
         ],
         "xaxis": "x",
         "y": {
          "bdata": "Bg==",
          "dtype": "i1"
         },
         "yaxis": "y"
        },
        {
         "customdata": {
          "bdata": "MzMzMzOTVEA=",
          "dtype": "f8",
          "shape": "1, 1"
         },
         "hovertemplate": "<b>%{x}</b><br>Number of Cities: %{y}<br>Average Streams per City: %{customdata[0]:,.0f}<extra></extra>",
         "legendgroup": "Mid Adopter",
         "marker": {
          "color": "rgb(141,160,203)",
          "pattern": {
           "shape": ""
          }
         },
         "name": "Mid Adopter",
         "orientation": "v",
         "showlegend": true,
         "textposition": "outside",
         "texttemplate": "%{y}",
         "type": "bar",
         "x": [
          "Mid Adopter"
         ],
         "xaxis": "x",
         "y": {
          "bdata": "Cg==",
          "dtype": "i1"
         },
         "yaxis": "y"
        }
       ],
       "layout": {
        "barmode": "relative",
        "height": 400,
        "legend": {
         "title": {
          "text": "category"
         },
         "tracegroupgap": 0
        },
        "margin": {
         "t": 100
        },
        "showlegend": false,
        "template": {
         "data": {
          "bar": [
           {
            "error_x": {
             "color": "#2a3f5f"
            },
            "error_y": {
             "color": "#2a3f5f"
            },
            "marker": {
             "line": {
              "color": "#E5ECF6",
              "width": 0.5
             },
             "pattern": {
              "fillmode": "overlay",
              "size": 10,
              "solidity": 0.2
             }
            },
            "type": "bar"
           }
          ],
          "barpolar": [
           {
            "marker": {
             "line": {
              "color": "#E5ECF6",
              "width": 0.5
             },
             "pattern": {
              "fillmode": "overlay",
              "size": 10,
              "solidity": 0.2
             }
            },
            "type": "barpolar"
           }
          ],
          "carpet": [
           {
            "aaxis": {
             "endlinecolor": "#2a3f5f",
             "gridcolor": "white",
             "linecolor": "white",
             "minorgridcolor": "white",
             "startlinecolor": "#2a3f5f"
            },
            "baxis": {
             "endlinecolor": "#2a3f5f",
             "gridcolor": "white",
             "linecolor": "white",
             "minorgridcolor": "white",
             "startlinecolor": "#2a3f5f"
            },
            "type": "carpet"
           }
          ],
          "choropleth": [
           {
            "colorbar": {
             "outlinewidth": 0,
             "ticks": ""
            },
            "type": "choropleth"
           }
          ],
          "contour": [
           {
            "colorbar": {
             "outlinewidth": 0,
             "ticks": ""
            },
            "colorscale": [
             [
              0,
              "#0d0887"
             ],
             [
              0.1111111111111111,
              "#46039f"
             ],
             [
              0.2222222222222222,
              "#7201a8"
             ],
             [
              0.3333333333333333,
              "#9c179e"
             ],
             [
              0.4444444444444444,
              "#bd3786"
             ],
             [
              0.5555555555555556,
              "#d8576b"
             ],
             [
              0.6666666666666666,
              "#ed7953"
             ],
             [
              0.7777777777777778,
              "#fb9f3a"
             ],
             [
              0.8888888888888888,
              "#fdca26"
             ],
             [
              1,
              "#f0f921"
             ]
            ],
            "type": "contour"
           }
          ],
          "contourcarpet": [
           {
            "colorbar": {
             "outlinewidth": 0,
             "ticks": ""
            },
            "type": "contourcarpet"
           }
          ],
          "heatmap": [
           {
            "colorbar": {
             "outlinewidth": 0,
             "ticks": ""
            },
            "colorscale": [
             [
              0,
              "#0d0887"
             ],
             [
              0.1111111111111111,
              "#46039f"
             ],
             [
              0.2222222222222222,
              "#7201a8"
             ],
             [
              0.3333333333333333,
              "#9c179e"
             ],
             [
              0.4444444444444444,
              "#bd3786"
             ],
             [
              0.5555555555555556,
              "#d8576b"
             ],
             [
              0.6666666666666666,
              "#ed7953"
             ],
             [
              0.7777777777777778,
              "#fb9f3a"
             ],
             [
              0.8888888888888888,
              "#fdca26"
             ],
             [
              1,
              "#f0f921"
             ]
            ],
            "type": "heatmap"
           }
          ],
          "histogram": [
           {
            "marker": {
             "pattern": {
              "fillmode": "overlay",
              "size": 10,
              "solidity": 0.2
             }
            },
            "type": "histogram"
           }
          ],
          "histogram2d": [
           {
            "colorbar": {
             "outlinewidth": 0,
             "ticks": ""
            },
            "colorscale": [
             [
              0,
              "#0d0887"
             ],
             [
              0.1111111111111111,
              "#46039f"
             ],
             [
              0.2222222222222222,
              "#7201a8"
             ],
             [
              0.3333333333333333,
              "#9c179e"
             ],
             [
              0.4444444444444444,
              "#bd3786"
             ],
             [
              0.5555555555555556,
              "#d8576b"
             ],
             [
              0.6666666666666666,
              "#ed7953"
             ],
             [
              0.7777777777777778,
              "#fb9f3a"
             ],
             [
              0.8888888888888888,
              "#fdca26"
             ],
             [
              1,
              "#f0f921"
             ]
            ],
            "type": "histogram2d"
           }
          ],
          "histogram2dcontour": [
           {
            "colorbar": {
             "outlinewidth": 0,
             "ticks": ""
            },
            "colorscale": [
             [
              0,
              "#0d0887"
             ],
             [
              0.1111111111111111,
              "#46039f"
             ],
             [
              0.2222222222222222,
              "#7201a8"
             ],
             [
              0.3333333333333333,
              "#9c179e"
             ],
             [
              0.4444444444444444,
              "#bd3786"
             ],
             [
              0.5555555555555556,
              "#d8576b"
             ],
             [
              0.6666666666666666,
              "#ed7953"
             ],
             [
              0.7777777777777778,
              "#fb9f3a"
             ],
             [
              0.8888888888888888,
              "#fdca26"
             ],
             [
              1,
              "#f0f921"
             ]
            ],
            "type": "histogram2dcontour"
           }
          ],
          "mesh3d": [
           {
            "colorbar": {
             "outlinewidth": 0,
             "ticks": ""
            },
            "type": "mesh3d"
           }
          ],
          "parcoords": [
           {
            "line": {
             "colorbar": {
              "outlinewidth": 0,
              "ticks": ""
             }
            },
            "type": "parcoords"
           }
          ],
          "pie": [
           {
            "automargin": true,
            "type": "pie"
           }
          ],
          "scatter": [
           {
            "fillpattern": {
             "fillmode": "overlay",
             "size": 10,
             "solidity": 0.2
            },
            "type": "scatter"
           }
          ],
          "scatter3d": [
           {
            "line": {
             "colorbar": {
              "outlinewidth": 0,
              "ticks": ""
             }
            },
            "marker": {
             "colorbar": {
              "outlinewidth": 0,
              "ticks": ""
             }
            },
            "type": "scatter3d"
           }
          ],
          "scattercarpet": [
           {
            "marker": {
             "colorbar": {
              "outlinewidth": 0,
              "ticks": ""
             }
            },
            "type": "scattercarpet"
           }
          ],
          "scattergeo": [
           {
            "marker": {
             "colorbar": {
              "outlinewidth": 0,
              "ticks": ""
             }
            },
            "type": "scattergeo"
           }
          ],
          "scattergl": [
           {
            "marker": {
             "colorbar": {
              "outlinewidth": 0,
              "ticks": ""
             }
            },
            "type": "scattergl"
           }
          ],
          "scattermap": [
           {
            "marker": {
             "colorbar": {
              "outlinewidth": 0,
              "ticks": ""
             }
            },
            "type": "scattermap"
           }
          ],
          "scattermapbox": [
           {
            "marker": {
             "colorbar": {
              "outlinewidth": 0,
              "ticks": ""
             }
            },
            "type": "scattermapbox"
           }
          ],
          "scatterpolar": [
           {
            "marker": {
             "colorbar": {
              "outlinewidth": 0,
              "ticks": ""
             }
            },
            "type": "scatterpolar"
           }
          ],
          "scatterpolargl": [
           {
            "marker": {
             "colorbar": {
              "outlinewidth": 0,
              "ticks": ""
             }
            },
            "type": "scatterpolargl"
           }
          ],
          "scatterternary": [
           {
            "marker": {
             "colorbar": {
              "outlinewidth": 0,
              "ticks": ""
             }
            },
            "type": "scatterternary"
           }
          ],
          "surface": [
           {
            "colorbar": {
             "outlinewidth": 0,
             "ticks": ""
            },
            "colorscale": [
             [
              0,
              "#0d0887"
             ],
             [
              0.1111111111111111,
              "#46039f"
             ],
             [
              0.2222222222222222,
              "#7201a8"
             ],
             [
              0.3333333333333333,
              "#9c179e"
             ],
             [
              0.4444444444444444,
              "#bd3786"
             ],
             [
              0.5555555555555556,
              "#d8576b"
             ],
             [
              0.6666666666666666,
              "#ed7953"
             ],
             [
              0.7777777777777778,
              "#fb9f3a"
             ],
             [
              0.8888888888888888,
              "#fdca26"
             ],
             [
              1,
              "#f0f921"
             ]
            ],
            "type": "surface"
           }
          ],
          "table": [
           {
            "cells": {
             "fill": {
              "color": "#EBF0F8"
             },
             "line": {
              "color": "white"
             }
            },
            "header": {
             "fill": {
              "color": "#C8D4E3"
             },
             "line": {
              "color": "white"
             }
            },
            "type": "table"
           }
          ]
         },
         "layout": {
          "annotationdefaults": {
           "arrowcolor": "#2a3f5f",
           "arrowhead": 0,
           "arrowwidth": 1
          },
          "autotypenumbers": "strict",
          "coloraxis": {
           "colorbar": {
            "outlinewidth": 0,
            "ticks": ""
           }
          },
          "colorscale": {
           "diverging": [
            [
             0,
             "#8e0152"
            ],
            [
             0.1,
             "#c51b7d"
            ],
            [
             0.2,
             "#de77ae"
            ],
            [
             0.3,
             "#f1b6da"
            ],
            [
             0.4,
             "#fde0ef"
            ],
            [
             0.5,
             "#f7f7f7"
            ],
            [
             0.6,
             "#e6f5d0"
            ],
            [
             0.7,
             "#b8e186"
            ],
            [
             0.8,
             "#7fbc41"
            ],
            [
             0.9,
             "#4d9221"
            ],
            [
             1,
             "#276419"
            ]
           ],
           "sequential": [
            [
             0,
             "#0d0887"
            ],
            [
             0.1111111111111111,
             "#46039f"
            ],
            [
             0.2222222222222222,
             "#7201a8"
            ],
            [
             0.3333333333333333,
             "#9c179e"
            ],
            [
             0.4444444444444444,
             "#bd3786"
            ],
            [
             0.5555555555555556,
             "#d8576b"
            ],
            [
             0.6666666666666666,
             "#ed7953"
            ],
            [
             0.7777777777777778,
             "#fb9f3a"
            ],
            [
             0.8888888888888888,
             "#fdca26"
            ],
            [
             1,
             "#f0f921"
            ]
           ],
           "sequentialminus": [
            [
             0,
             "#0d0887"
            ],
            [
             0.1111111111111111,
             "#46039f"
            ],
            [
             0.2222222222222222,
             "#7201a8"
            ],
            [
             0.3333333333333333,
             "#9c179e"
            ],
            [
             0.4444444444444444,
             "#bd3786"
            ],
            [
             0.5555555555555556,
             "#d8576b"
            ],
            [
             0.6666666666666666,
             "#ed7953"
            ],
            [
             0.7777777777777778,
             "#fb9f3a"
            ],
            [
             0.8888888888888888,
             "#fdca26"
            ],
            [
             1,
             "#f0f921"
            ]
           ]
          },
          "colorway": [
           "#636efa",
           "#EF553B",
           "#00cc96",
           "#ab63fa",
           "#FFA15A",
           "#19d3f3",
           "#FF6692",
           "#B6E880",
           "#FF97FF",
           "#FECB52"
          ],
          "font": {
           "color": "#2a3f5f"
          },
          "geo": {
           "bgcolor": "white",
           "lakecolor": "white",
           "landcolor": "#E5ECF6",
           "showlakes": true,
           "showland": true,
           "subunitcolor": "white"
          },
          "hoverlabel": {
           "align": "left"
          },
          "hovermode": "closest",
          "mapbox": {
           "style": "light"
          },
          "paper_bgcolor": "white",
          "plot_bgcolor": "#E5ECF6",
          "polar": {
           "angularaxis": {
            "gridcolor": "white",
            "linecolor": "white",
            "ticks": ""
           },
           "bgcolor": "#E5ECF6",
           "radialaxis": {
            "gridcolor": "white",
            "linecolor": "white",
            "ticks": ""
           }
          },
          "scene": {
           "xaxis": {
            "backgroundcolor": "#E5ECF6",
            "gridcolor": "white",
            "gridwidth": 2,
            "linecolor": "white",
            "showbackground": true,
            "ticks": "",
            "zerolinecolor": "white"
           },
           "yaxis": {
            "backgroundcolor": "#E5ECF6",
            "gridcolor": "white",
            "gridwidth": 2,
            "linecolor": "white",
            "showbackground": true,
            "ticks": "",
            "zerolinecolor": "white"
           },
           "zaxis": {
            "backgroundcolor": "#E5ECF6",
            "gridcolor": "white",
            "gridwidth": 2,
            "linecolor": "white",
            "showbackground": true,
            "ticks": "",
            "zerolinecolor": "white"
           }
          },
          "shapedefaults": {
           "line": {
            "color": "#2a3f5f"
           }
          },
          "ternary": {
           "aaxis": {
            "gridcolor": "white",
            "linecolor": "white",
            "ticks": ""
           },
           "baxis": {
            "gridcolor": "white",
            "linecolor": "white",
            "ticks": ""
           },
           "bgcolor": "#E5ECF6",
           "caxis": {
            "gridcolor": "white",
            "linecolor": "white",
            "ticks": ""
           }
          },
          "title": {
           "x": 0.05
          },
          "xaxis": {
           "automargin": true,
           "gridcolor": "white",
           "linecolor": "white",
           "ticks": "",
           "title": {
            "standoff": 15
           },
           "zerolinecolor": "white",
           "zerolinewidth": 2
          },
          "yaxis": {
           "automargin": true,
           "gridcolor": "white",
           "linecolor": "white",
           "ticks": "",
           "title": {
            "standoff": 15
           },
           "zerolinecolor": "white",
           "zerolinewidth": 2
          }
         }
        },
        "title": {
         "text": "Distribution of Cities Across Categories<br>(Cities with 50+ Streams)"
        },
        "xaxis": {
         "anchor": "y",
         "categoryarray": [
          "Early Adopter",
          "Late Bloomer",
          "Mid Adopter"
         ],
         "categoryorder": "array",
         "domain": [
          0,
          1
         ],
         "title": {
          "text": "Category"
         }
        },
        "yaxis": {
         "anchor": "x",
         "domain": [
          0,
          1
         ],
         "range": [
          0,
          12
         ],
         "title": {
          "text": "Number of Cities"
         }
        }
       }
      }
     },
     "metadata": {},
     "output_type": "display_data"
    },
    {
     "data": {
      "text/html": [
       "<div>\n",
       "<style scoped>\n",
       "    .dataframe tbody tr th:only-of-type {\n",
       "        vertical-align: middle;\n",
       "    }\n",
       "\n",
       "    .dataframe tbody tr th {\n",
       "        vertical-align: top;\n",
       "    }\n",
       "\n",
       "    .dataframe thead th {\n",
       "        text-align: right;\n",
       "    }\n",
       "</style>\n",
       "<table border=\"1\" class=\"dataframe\">\n",
       "  <thead>\n",
       "    <tr style=\"text-align: right;\">\n",
       "      <th></th>\n",
       "      <th>city</th>\n",
       "      <th>avg_weeks_to_peak</th>\n",
       "      <th>peak_streams</th>\n",
       "      <th>peak_listeners</th>\n",
       "      <th>songs_analyzed</th>\n",
       "      <th>songs_peaked_first_week</th>\n",
       "      <th>pct_peaked_first_week</th>\n",
       "      <th>songs_missing_release_date</th>\n",
       "      <th>songs_still_growing</th>\n",
       "      <th>total_streams</th>\n",
       "      <th>total_listeners</th>\n",
       "      <th>consistency_score</th>\n",
       "      <th>avg_weeks_to_adopt</th>\n",
       "      <th>category</th>\n",
       "    </tr>\n",
       "  </thead>\n",
       "  <tbody>\n",
       "    <tr>\n",
       "      <th>15</th>\n",
       "      <td>Denver</td>\n",
       "      <td>0.1</td>\n",
       "      <td>49</td>\n",
       "      <td>38</td>\n",
       "      <td>12</td>\n",
       "      <td>11</td>\n",
       "      <td>91.7</td>\n",
       "      <td>0</td>\n",
       "      <td>0</td>\n",
       "      <td>232</td>\n",
       "      <td>74</td>\n",
       "      <td>67.2</td>\n",
       "      <td>0.0</td>\n",
       "      <td>Early Adopter</td>\n",
       "    </tr>\n",
       "    <tr>\n",
       "      <th>33</th>\n",
       "      <td>Seattle</td>\n",
       "      <td>4.0</td>\n",
       "      <td>33</td>\n",
       "      <td>25</td>\n",
       "      <td>7</td>\n",
       "      <td>1</td>\n",
       "      <td>14.3</td>\n",
       "      <td>0</td>\n",
       "      <td>0</td>\n",
       "      <td>118</td>\n",
       "      <td>36</td>\n",
       "      <td>76.0</td>\n",
       "      <td>3.8</td>\n",
       "      <td>Late Bloomer</td>\n",
       "    </tr>\n",
       "    <tr>\n",
       "      <th>14</th>\n",
       "      <td>Chicago</td>\n",
       "      <td>4.4</td>\n",
       "      <td>33</td>\n",
       "      <td>24</td>\n",
       "      <td>12</td>\n",
       "      <td>0</td>\n",
       "      <td>0.0</td>\n",
       "      <td>0</td>\n",
       "      <td>0</td>\n",
       "      <td>218</td>\n",
       "      <td>51</td>\n",
       "      <td>80.9</td>\n",
       "      <td>2.8</td>\n",
       "      <td>Late Bloomer</td>\n",
       "    </tr>\n",
       "    <tr>\n",
       "      <th>40</th>\n",
       "      <td>Atlanta</td>\n",
       "      <td>1.0</td>\n",
       "      <td>32</td>\n",
       "      <td>25</td>\n",
       "      <td>8</td>\n",
       "      <td>0</td>\n",
       "      <td>0.0</td>\n",
       "      <td>0</td>\n",
       "      <td>0</td>\n",
       "      <td>111</td>\n",
       "      <td>36</td>\n",
       "      <td>73.7</td>\n",
       "      <td>0.3</td>\n",
       "      <td>Mid Adopter</td>\n",
       "    </tr>\n",
       "    <tr>\n",
       "      <th>23</th>\n",
       "      <td>Portland</td>\n",
       "      <td>0.7</td>\n",
       "      <td>30</td>\n",
       "      <td>19</td>\n",
       "      <td>5</td>\n",
       "      <td>1</td>\n",
       "      <td>20.0</td>\n",
       "      <td>0</td>\n",
       "      <td>0</td>\n",
       "      <td>105</td>\n",
       "      <td>24</td>\n",
       "      <td>81.8</td>\n",
       "      <td>0.3</td>\n",
       "      <td>Mid Adopter</td>\n",
       "    </tr>\n",
       "  </tbody>\n",
       "</table>\n",
       "</div>"
      ],
      "text/plain": [
       "        city  avg_weeks_to_peak  peak_streams  peak_listeners  songs_analyzed  \\\n",
       "15    Denver                0.1            49              38              12   \n",
       "33   Seattle                4.0            33              25               7   \n",
       "14   Chicago                4.4            33              24              12   \n",
       "40   Atlanta                1.0            32              25               8   \n",
       "23  Portland                0.7            30              19               5   \n",
       "\n",
       "    songs_peaked_first_week  pct_peaked_first_week  \\\n",
       "15                       11                   91.7   \n",
       "33                        1                   14.3   \n",
       "14                        0                    0.0   \n",
       "40                        0                    0.0   \n",
       "23                        1                   20.0   \n",
       "\n",
       "    songs_missing_release_date  songs_still_growing  total_streams  \\\n",
       "15                           0                    0            232   \n",
       "33                           0                    0            118   \n",
       "14                           0                    0            218   \n",
       "40                           0                    0            111   \n",
       "23                           0                    0            105   \n",
       "\n",
       "    total_listeners  consistency_score  avg_weeks_to_adopt       category  \n",
       "15               74               67.2                 0.0  Early Adopter  \n",
       "33               36               76.0                 3.8   Late Bloomer  \n",
       "14               51               80.9                 2.8   Late Bloomer  \n",
       "40               36               73.7                 0.3    Mid Adopter  \n",
       "23               24               81.8                 0.3    Mid Adopter  "
      ]
     },
     "execution_count": 4,
     "metadata": {},
     "output_type": "execute_result"
    }
   ],
   "source": [
    "# This will show all the visualizations and printed output\n",
    "city_metrics, song_metrics, category_metrics = analyze_peaks()\n",
    "\n",
    "# Now you can use the DataFrames for further analysis\n",
    "city_metrics.head()  # Only if you want to see the data"
   ]
  },
  {
   "cell_type": "code",
   "execution_count": 5,
   "metadata": {},
   "outputs": [
    {
     "ename": "NameError",
     "evalue": "name 'analyze_song_adoption' is not defined",
     "output_type": "error",
     "traceback": [
      "\u001b[31m---------------------------------------------------------------------------\u001b[39m",
      "\u001b[31mNameError\u001b[39m                                 Traceback (most recent call last)",
      "\u001b[36mCell\u001b[39m\u001b[36m \u001b[39m\u001b[32mIn[5]\u001b[39m\u001b[32m, line 1\u001b[39m\n\u001b[32m----> \u001b[39m\u001b[32m1\u001b[39m song_adoption_metrics = \u001b[43manalyze_song_adoption\u001b[49m()\n",
      "\u001b[31mNameError\u001b[39m: name 'analyze_song_adoption' is not defined"
     ]
    }
   ],
   "source": [
    "song_adoption_metrics = analyze_song_adoption()"
   ]
  },
  {
   "cell_type": "code",
   "execution_count": null,
   "metadata": {},
   "outputs": [],
   "source": []
  }
 ],
 "metadata": {
  "kernelspec": {
   "display_name": "venv",
   "language": "python",
   "name": "python3"
  },
  "language_info": {
   "codemirror_mode": {
    "name": "ipython",
    "version": 3
   },
   "file_extension": ".py",
   "mimetype": "text/x-python",
   "name": "python",
   "nbconvert_exporter": "python",
   "pygments_lexer": "ipython3",
   "version": "3.13.3"
  }
 },
 "nbformat": 4,
 "nbformat_minor": 2
}
